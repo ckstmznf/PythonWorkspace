{
 "cells": [
  {
   "cell_type": "markdown",
   "metadata": {},
   "source": [
    "# 모든 제목 화면에 출력\n",
    "\n",
    "#### 에러가 나온 이유 : 앞에서 찾은게 없으니까 그 뒤에 find를 사용할수 없다."
   ]
  },
  {
   "cell_type": "code",
   "execution_count": 76,
   "metadata": {},
   "outputs": [
    {
     "name": "stdout",
     "output_type": "stream",
     "text": [
      "개학을 준비하는 사람들…EBS '교육은 멈출 수 없다'\n",
      "등교개학 후 고3 학생 첫 확진...부산 내성고 전교생 자가격리\n",
      "[e광주소식] \"만반의 준비\"… 광주시, 초·중·고교 '안심 등교 개학' 준비 완...\n",
      "교육부 \"수도권 고교 2/3, 초·중 1/3만 등교...3차 개학은 예정대로\"(종합)\n",
      "'등교 개학' 톱 보도한 美 언론…\"사진이 다 말해준다\"\n",
      "SKT, 개학 맞춰 어린이 요금제 데이터 2배 늘린다\n",
      "2차 등교 개학 첫날 대구 오성고 3학년 1명 확진, 교육당국 등 비상\n",
      "서울 111개 학교, 등교 개학 첫날 교문 못 열었다\n",
      "2차 등교개학 첫날 대구서 고3 학생 코로나19 확진(종합2보)\n",
      "등교 개학은 그대로지만… 등교 대상 학생 10%는 등교 못해\n"
     ]
    }
   ],
   "source": [
    "import requests\n",
    "import bs4 as bs\n",
    "\n",
    "url = 'https://search.naver.com/search.naver?where=news&sm=tab_jum&query=개학'\n",
    "data = requests.get(url).text\n",
    "real_data = bs.BeautifulSoup(data)\n",
    "all_news = real_data.find('ul', class_='type01').find_all('li')\n",
    "\n",
    "# all_news[0].find('dl').find('dt').find('a').text\n",
    "\n",
    "for news in all_news:\n",
    "    try:\n",
    "        title = news.find('dl').find('dt').find('a').text\n",
    "        print(title)\n",
    "    except:\n",
    "        continue"
   ]
  },
  {
   "cell_type": "markdown",
   "metadata": {},
   "source": [
    "# 내용만 출력\n",
    "### 내용은 dd태그안에 있는데 dd태그는 3개가 있다.\n",
    "### 때문에 find_all로 dd태그를 모두 가져와 인덱싱 한다."
   ]
  },
  {
   "cell_type": "code",
   "execution_count": 124,
   "metadata": {
    "scrolled": true
   },
   "outputs": [
    {
     "name": "stdout",
     "output_type": "stream",
     "text": [
      "온라인 개학을 준비하는 교육계 사람들의 모습을 조명한 특집 다큐멘터리 '교육은 멈출 수 없다'를... 그러나 어떤 상황에서도 교육은 계속되어야 한다는 강력한 의지 속에서 3월 말 사상 최초로 온라인 개학이 논의되기... \n",
      "\n",
      "같은 반 학생 20명·이동수업 학생 41명 검사, 상세동선은 CCTV 통해 확인 중 부산에서 등교개학 이후 고3 학생이 코로나19 확진 판정을 받았다. 등교 중인 학생이 확진 판정을 받은 사례가 부산에서는 처음 발생한 것으로... \n",
      "\n",
      "등교 개학할 수 있도록 모든 준비를 마쳤다고 29일 밝혔다. 코로나19 방역체계가 생활 속 거리두기로 전환됨에 따라 지난 20일 고3 학생들의 등교수업을 시작으로 27일은 고2, 중3, 초1~2학년이 개학했다. 이어 오는 6월... \n",
      "\n",
      "다만 교육부는 각급 학교의 등교 개학은 예정된 일정대로 추진한다. 지난 20일 고3이 처음 등교한 데 이어 27일 고2와 중3, 초 1~2, 유치원생이 2차로 등교·등원했다. 이어 고1·중2·초3∼4학년은 6월 3일, 중1과 초5∼6학년은... \n",
      "\n",
      "미국 유력 일간지인 워싱턴포스트(WP)가 코로나19 사태 와중에 단행한 한국의 등교 개학 상황을 사진 기사로... 그간 학생들은 3월 개학에도 등교 대신 온라인 수업으로 대체했으나 코로나19 발병자가 급격히 감소함에 따라... \n",
      "\n",
      "SK텔레콤이 초등학교 개학에 맞춰 어린이 전용 서비스 혜택을 늘린다고 27일 밝혔다. '잼(ZEM)플랜 스마트... SK텔레콤은 온라인 수업과 격주 수업이 진행되는 초등학교 등교 개학에 맞춰 특정 시간 제약 없이 자유롭게... \n",
      "\n",
      "등교 개학일인 27일 고등학교 6개를 원격수업으로 전환하는 조치를 취했다고 밝혔다. 이 학생은 지난 20일 고등학교 3학년이 등교 개학한 다음날인 21일 나이스 자가진단시스템으로 등교중지 안내를 받았다. 체온은 정상... \n",
      "\n",
      "등교 개학을 맞은 27일 서울 지역에서 모두 111곳의 유·초·중·고등학교가 등교수업을 진행하지 못한 것으로 확인됐다. 27일 서울시교육청에 따르면 이날 오전 10시 기준으로 등교 개학을 연기한 서울 지역 학교는... \n",
      "\n",
      "오성고 등 6개 고교 등교 중지…원격수업 전환 2차 등교 개학 첫날인 27일 대구 수성구 오성고등학교에서 고3... 한편 대구에서는 이날 230개 초등학교 1∼2학년, 124개 중학교 3학년, 87개 고등학교 2학년이 등교개학을... \n",
      "\n",
      "정부가 수도권에 사실상 사회적 거리두기를 적용하기로 했지만 등교는 예정대로 진행하기로 했다. 등교 중인 학생은 그대로 나오도록 하고, 다음 달 3일 고1 중2 초등 3~4학년, 8일 중1 초등 5~6학년 등교 일정도 미루지... \n",
      "\n"
     ]
    }
   ],
   "source": [
    "url = 'https://search.naver.com/search.naver?where=news&sm=tab_jum&query=개학'\n",
    "data = requests.get(url).text\n",
    "real_data = bs.BeautifulSoup(data)\n",
    "all_news = real_data.find('ul', class_='type01').find_all('li')\n",
    "\n",
    "for news in all_news:\n",
    "    try:\n",
    "        desc = news.find(\"dl\").find_all(\"dd\")[1].text\n",
    "        \n",
    "        print(desc,\"\\n\")\n",
    "    except:\n",
    "        continue"
   ]
  },
  {
   "cell_type": "markdown",
   "metadata": {},
   "source": []
  },
  {
   "cell_type": "code",
   "execution_count": 186,
   "metadata": {},
   "outputs": [],
   "source": [
    "import requests\n",
    "import bs4 as bs\n",
    "\n",
    "def one_page_news(key):\n",
    "    newss = []\n",
    "\n",
    "#     key = \"개학\"\n",
    "    url = \"https://search.naver.com/search.naver?where=news&sm=tab_jum&query=\" + key\n",
    "\n",
    "    data = requests.get(url).text\n",
    "    real_data = bs.BeautifulSoup(data)\n",
    "    all_news = real_data.find(\"ul\", class_ = \"type01\").find_all(\"li\")\n",
    "\n",
    "    for news in all_news:\n",
    "        try:\n",
    "            title = news.find(\"dl\").find(\"dt\").find(\"a\").text #제목을 가져온다.\n",
    "            desc = news.find(\"dl\").find_all(\"dd\")[1].text #내용을 가져온다\n",
    "\n",
    "            one_news = {\"title\" : title, \"desc\" : desc} #제목과 내용을 하나의 딕셔너리에 넣는다.\n",
    "\n",
    "            newss.append(one_news) #위에서 만든 딕셔너리를 리스트에 넣는다.\n",
    "        except:\n",
    "            continue\n",
    "            \n",
    "    return newss"
   ]
  },
  {
   "cell_type": "code",
   "execution_count": 187,
   "metadata": {},
   "outputs": [
    {
     "data": {
      "text/plain": [
       "[{'title': \"WHO, 코로나19 백신 개발 위한 '기술·자료 저수지' 출범\",\n",
       "  'desc': \"C-TAP은 '코로나19 기술 접근 풀'(COVID-19 Technology Access Pool)의 영문 첫 글자를 조합한 것으로, 코로나19 치료제와 백신 개발과 관련한 기술, 과학적 지식, 자료 등을 모든 사람이 이용할 수 있도록 하는, 일종의 저수지...\"},\n",
       " {'title': '[Weekender] Changes in architectural design inevitable in post-COVID-19 ...',\n",
       "  'desc': 'The post-COVID-19 era is looming, bringing changes to what people considered normal. As the world deals with this highly contagious disease and prepares for other viruses in the future, interior...'},\n",
       " {'title': '코로나19 관련 전미북한위원회 인터뷰 사칭 문서 주의',\n",
       "  'desc': '파일명은 ‘코로나19 관련 NCNK와의 인터뷰(My Interview on COVID-19 with NCNK.doc)’로 5월 26일 제작됐다. 북한의 코로나19 확산 상황과 국제 비영리기구(NGO) 단체의 지원 여부 등이 담겼다. 실제 NCNK 공식 홈페이지에...'},\n",
       " {'title': '경남바이오파마-연세대 산·학, 코로나19 혈장치료제 공동 연구개발 협약',\n",
       "  'desc': '한편 완치자의 혈장을 이용한 혈장 치료는 이전 중증급성호흡기증후군(SARS)나 중동호흡기증후군(MERS), 에볼라 바이러스, 조류 독감 등 신종 바이러스 감염사태 때에도 사용되었으며, COVID-19가 확산된 이후 치료제...'},\n",
       " {'title': '국내 코로나19 신규 확진 58명…서울·인천·경기 수도권 집중',\n",
       "  'desc': '국내 신종 코로나바이러스감염증(COVID-19·코로나19) 신규 확진 환자수가 29일 0시 기준 58명 늘어난 1만1402명으로 집계됐다. 질병관리본부 중앙방역대책본부는 29일 0시 기준 코로나19 신규 확진 환자가 58명...'},\n",
       " {'title': '\"北 코로나19 상황 안내드립니다\"…사이버 공격 주의보',\n",
       "  'desc': \"발견된 악성파일은 MS워드의 'DOC문서' 형식이며, 파일명은 '코로나19에 대한 NCNK와의 인터뷰'(My Interview on COVID-19 with NCNK.doc)이다. 이스트시큐리티 시큐리티대응센터(ESRC) 측은 이번 공격 기법이 북한과 연계된 것으로...\"},\n",
       " {'title': 'S. Korea reports 58 new COVID-19 cases on Friday; all in Seoul metropoli...',\n",
       "  'desc': 'South Korea has seen a rise in the number of COVID-19 cases in the Seoul metropolitan area lately, after a cluster infection broke out at a Coupang distribution center in Bucheon, Gyeonggi-do...'},\n",
       " {'title': '슈펙트, 러시아서 코로나19 치료제 시험대 오른다',\n",
       "  'desc': '일양약품(대표 김동연)은 항암제 슈펙트(성분명 라도티닙)가 러시아에서 코로나19(COVID-19) 바이러스 치료제 임상 3상을 승인 받았다고 28일 밝혔다. 그동안 일양약품은 러시아 당국의 임상 3상 허가를 위해 시험계획(IND)...'},\n",
       " {'title': '쿠팡물류센터발 코로나19 확진 총 96명 …35개 물류센터 긴급점검',\n",
       "  'desc': '부천 소재 쿠팡물류센터 관련 신종 코로나바이러스감염증(COVID-19·코로나19) 확진 환자수가 지난 23일 첫 환자가 발생한 이후 총 96명으로 집계됐다. 물류센터에서 직접 감염된 확진 환자는 70명이며 이들로 인한 전파...'},\n",
       " {'title': '모더나 \"코로나19 백신 임상 시험 2단계 7월 시작\"',\n",
       "  'desc': '사진=게티이미지 \\xa0미국 바이오 기업 모더나는 코로나19(COVID-19) 백신 개발을 위한 2단계 임상 시험에 돌입했다. 모더나는 29일(현지시간) 2단계 임상의 첫 번째 참가자들에게 백신 후보 물질(mRNA-1273)을 투여했으며...'}]"
      ]
     },
     "execution_count": 187,
     "metadata": {},
     "output_type": "execute_result"
    }
   ],
   "source": [
    "one_page_news(\"covod-19\")\n"
   ]
  },
  {
   "cell_type": "markdown",
   "metadata": {},
   "source": [
    "# 검색어 입력하면 50개 뉴스 가져오는 함수 fifty_news 만들기"
   ]
  },
  {
   "cell_type": "code",
   "execution_count": 210,
   "metadata": {},
   "outputs": [],
   "source": [
    "import requests\n",
    "import bs4 as bs\n",
    "import time\n",
    "\n",
    "def fifty_page_news(key):\n",
    "    newss = []\n",
    "    x = 0\n",
    "    \n",
    "    for start in range(5):\n",
    "        url = \"https://search.naver.com/search.naver?where=news&sm=tab_jum&query=\" + key + \"&start=\" + str(start * 10 + 1)\n",
    "\n",
    "        data = requests.get(url).text\n",
    "        real_data = bs.BeautifulSoup(data)\n",
    "        all_news = real_data.find(\"ul\", class_ = \"type01\").find_all(\"li\")\n",
    "\n",
    "        for news in all_news:\n",
    "            try:\n",
    "                title = news.find(\"dl\").find(\"dt\").find(\"a\").text #제목을 가져온다.\n",
    "                desc = news.find(\"dl\").find_all(\"dd\")[1].text #내용을 가져온다\n",
    "\n",
    "                one_news = {\"x\" : x,\"title\" : title, \"desc\" : desc} #제목과 내용을 하나의 딕셔너리에 넣는다.\n",
    "\n",
    "                newss.append(one_news) #위에서 만든 딕셔너리를 리스트에 넣는다.\n",
    "                x += 1\n",
    "                \n",
    "            except:\n",
    "                continue\n",
    "        time.sleep(2)\n",
    "\n",
    "\n",
    "    return newss"
   ]
  },
  {
   "cell_type": "code",
   "execution_count": 211,
   "metadata": {},
   "outputs": [
    {
     "data": {
      "text/plain": [
       "[{'x': 0,\n",
       "  'title': '전 세계 코로나19 환자 6백만 명 넘어...백신은 언제 나오나',\n",
       "  'desc': '전 세계 코로나19 확진자가 600만 명을 넘어섰습니다. 백신 개발에 속도를 내고 있는 미국 바이오 기업 모더나는 2단계 임상시험에 돌입했다고 밝혔습니다. 취재기자 연결합니다. 조수현 기자! 전 세계 코로나19 확산...'},\n",
       " {'x': 1,\n",
       "  'title': '[2보] 코로나19 어제 39명 신규확진…수도권 이어 지역서도 산발 감염',\n",
       "  'desc': '경기 13명-서울 9명-인천 5명…대구-광주 각 2명, 부산-전남-강원 각 1명 누적 확진자 1만1천441명·사망자 269명…부천 쿠팡물류센터 관련 감염 지속 신종 코로나바이러스 감염증(코로나19) 일일 신규 확진자 수가...'},\n",
       " {'x': 2,\n",
       "  'title': '코로나19 신규 환자 39명 발생…총 누적 확진 1만1441명',\n",
       "  'desc': '중앙방역대책본부는 5월 30일 0시 기준 코로나19 신규 확진자가 39명 늘어 총 누적 확진자는 1만 1441명으로 집계됐다고 밝혔다. 격리 해제는 35명 늘어 총 1만 398명이고, 사망자는 변동 없이 269명이다. 신규...'},\n",
       " {'x': 3,\n",
       "  'title': '코로나 신규 확진자 39명…나흘 만에 30명대로',\n",
       "  'desc': '30일 국내 코로나19 환자가 전날보다 39명 늘어, 누적 환자 수는 1만1441명으로 집계됐다. 중앙방역대책본부는 이날 0시 기준 코로나19 확진자가 전날 같은 시각보다 39명 늘었다고 밝혔다. 신규 확진자는 나흘 만에...'},\n",
       " {'x': 4,\n",
       "  'title': '군포서 40대 여성 코로나19 확진…이동경로 조사 중(상보)',\n",
       "  'desc': '경기 군포시에서 40대 여성이 신종 코로나바이러스감염증(코로나19) 확진 판정을 받았다. 군포시는 재궁동에 거주하는 A(40·여)씨가 코로나19 진단검사 결과 양성이 나와 경기도의료원 수원병원으로 이송했다고 30일...'},\n",
       " {'x': 5,\n",
       "  'title': \"[단독]'코로나의 역설' 집창촌에 사망 선고…사라진 성매매\",\n",
       "  'desc': '박상휘 기자,최현만 기자 = 신종 코로나바이러스 감염증(코로나19) 여파로 경기침체는 물론, 사회적 불편함이 계속되고 있지만 역설적으로 긍정효과라고 할 수 있는 사회적 현상도 나타나고 있다. 유흥업소는 물론이고...'},\n",
       " {'x': 6,\n",
       "  'title': '[포착] 코로나19 고3 확진자 나온 부산 내성고 상황',\n",
       "  'desc': '부산시 보건당국은 금정구 내성고 고3 학생 1명이 지난 29일 등교 수업 후 신종 코로나바이러스감염증(코로나19) 확진 판정을 받아 곧바로 학교 방역 작업에 들어갔다. 당국은 확진자와 접촉한 60여명의 검체 검사와...'},\n",
       " {'x': 7,\n",
       "  'title': '마켓컬리, 코로나19 검진자 97% 음성...“상온1센터 재가동”',\n",
       "  'desc': '마켓컬리가 신종 코로나바이러스 감염증(코로나19) 확진자 발생으로 운영을 중단했던 상온1센터를 재가동한다. 30일 주문, 31일 수령건부터 정상 배송을 할 예정이다. 마켓컬리는 코로나19 확진자가 나온 장지동...'},\n",
       " {'x': 8,\n",
       "  'title': '코로나19 신규 확진 39명…수도권에 새 환자 집중',\n",
       "  'desc': '국내 코로나 19 확진자가 어제 하루 39명 늘었습니다. 나흘 만에 30명대로 줄었는데요. 수도권에서 집단 감염이 이어지고 있어서 안심할 수는 없는 상황입니다. KBS 재난방송센터 연결해 그래픽을 보면서 현재 코로나19...'},\n",
       " {'x': 9,\n",
       "  'title': '코로나19 어제 39명 신규확진…수도권 이어 지역서도 산발 감염(종합)',\n",
       "  'desc': '신종 코로나바이러스 감염증(코로나19) 일일 신규 확진자 수가 나흘만에 30명 후반대로 다소 떨어졌다. 30일 0시 기준 신규 확진자는 39명으로 집계됐다. 신규 확진자 수가 40명 아래로 떨어진 것은 지난 26일 이후...'},\n",
       " {'x': 10,\n",
       "  'title': '마켓컬리, 코로나19 검진자 97% 음성...“상온1센터 재가동”',\n",
       "  'desc': '마켓컬리가 신종 코로나바이러스 감염증(코로나19) 확진자 발생으로 운영을 중단했던 상온1센터를 재가동한다. 30일 주문, 31일 수령건부터 정상 배송을 할 예정이다. 마켓컬리는 코로나19 확진자가 나온 장지동...'},\n",
       " {'x': 11,\n",
       "  'title': '코로나19 신규 환자 39명 발생…총 누적 확진 1만1441명',\n",
       "  'desc': '중앙방역대책본부는 5월 30일 0시 기준 코로나19 신규 확진자가 39명 늘어 총 누적 확진자는 1만 1441명으로 집계됐다고 밝혔다. 격리 해제는 35명 늘어 총 1만 398명이고, 사망자는 변동 없이 269명이다. 신규...'},\n",
       " {'x': 12,\n",
       "  'title': '한 달 늦은 부처님오신날 기념식…코로나 장기화로 대폭 축소',\n",
       "  'desc': '감사\" \\'코로나 19\\' 사태로 한 달간 연기됐던 불기 2564(2020)년 \\'부처님오신날\\' 기념행사가 30일 전국 사찰에서... 이날 행사는 부처님오신날을 기념하는 것에 더해 지난 한 달 동안 전국 사찰에서 진행한 \\'코로나 19 극복과...'},\n",
       " {'x': 13,\n",
       "  'title': '코로나 신규 확진자 39명…나흘 만에 30명대로',\n",
       "  'desc': '30일 국내 코로나19 환자가 전날보다 39명 늘어, 누적 환자 수는 1만1441명으로 집계됐다. 중앙방역대책본부는 이날 0시 기준 코로나19 확진자가 전날 같은 시각보다 39명 늘었다고 밝혔다. 신규 확진자는 나흘 만에...'},\n",
       " {'x': 14,\n",
       "  'title': '코로나19 치료 효과 \\'렘데시비르\\' 승인…\"안전성 있어\"',\n",
       "  'desc': '중앙방역대책본부는 오늘(29일) 코로나19의 치료제가 될 수 있을 것으로 기대를 모으는 \\'렘데시비르\\'의... 정은경 본부장은 \"중앙임상위원회에서 렘데시비르가 코로나19 폐렴 치료에 안전성과 유효성이 있는 것으로...'},\n",
       " {'x': 15,\n",
       "  'title': '코로나19 치료제 \\'렘데시비르\\' 도입…\"식약처에 특례수입 신청\"(종합)',\n",
       "  'desc': '중대본 \"효과 있는 듯…적용대상·모니터링 방법 등 지침도 마련\" 신종 코로나바이러스 감염증(코로나19) 치료제로 기대되는 \\'렘데시비르\\'가 국내에 들어올 전망이다. 방역당국이 전문가 의견을 토대로 렘데시비르를...'},\n",
       " {'x': 16,\n",
       "  'title': '수도권 국립문화예술시설 코로나19로 2주 휴관',\n",
       "  'desc': '코로나19가 수도권으로 재확산하면서 국립문화예술시설이 다시 2주 동안 휴관에 들어갑니다. 문화체육관광부는 중앙재난안전대책본부의 수도권 지역 공공시설 운영 중단 결정에 따라 국립중앙박물관, 현대미술관...'},\n",
       " {'x': 17,\n",
       "  'title': '코로나19 신규 확진 39명…수도권에 새 환자 집중',\n",
       "  'desc': '국내 코로나 19 확진자가 어제 하루 39명 늘었습니다. 나흘 만에 30명대로 줄었는데요. 수도권에서 집단 감염이 이어지고 있어서 안심할 수는 없는 상황입니다. KBS 재난방송센터 연결해 그래픽을 보면서 현재 코로나19...'},\n",
       " {'x': 18,\n",
       "  'title': '박능후 \"코로나19 수도권 확산 방지..밀집시설 방문 자제\"',\n",
       "  'desc': '박능후 보건복지부 장관 겸 중앙재난안전대책본부 1차장은 코로나19 수도권 확산을 막기 위해 이번 주말 쇼핑몰 등 밀집도가 높은 시설 방문 자제를 당부했다. 박 장관은 30일 세종로 정부서울청사에서 열린...'},\n",
       " {'x': 19,\n",
       "  'title': '코로나19에 보스턴 마라톤 결국 취소…124년 역사상 처음(종합)',\n",
       "  'desc': \"혼자 뛰고 인증하는 '온라인 이벤트' 개최키로 이귀원 특파원 고일환 기자 = 신종 코로나바이러스 감염증(코로나19) 사태 탓에 '4대 메이저 마라톤' 중 하나인 보스턴 마라톤 대회가 취소됐다. 보스턴육상연맹은 28일...\"},\n",
       " {'x': 20,\n",
       "  'title': '코로나19 신규 확진 39명…수도권 이어 지역서도 산발 감염',\n",
       "  'desc': '코로나19 신규 확진자가 어제 하루 39명 추가됐습니다. 쿠팡 부천물류센터발 집단감염이 확산하면서... [리포트] 중앙방역대책본부는 국내 코로나19 확진자가 어제 서른아홉명 추가로 발생했다고 밝혔습니다. 그제까지...'},\n",
       " {'x': 21,\n",
       "  'title': \"코로나 치료제로 '렘데시비르'…어떤 환자에 투여하나\",\n",
       "  'desc': \"미국에서 코로나19 치료제로 긴급 승인한 '렘데시비르'에 대해 우리 정부도 수입 승인 절차에 들어갔습니다.... <기자> 식약처가 코로나19 치료제로 '렘데시비르'의 특례수입 승인 절차에 착수했습니다. 긴급하게 필요한...\"},\n",
       " {'x': 22,\n",
       "  'title': '서울 코로나19 쿠팡 물류센터·이태원 확진자 없어',\n",
       "  'desc': '서울시내에서 코로나19 확진자는 9명 증가한 855명으로 집계됐다. 서울시는 30일 오전 10시 기준 코로나19 확진자는 전날(오전0시)보다 9명 늘어난 855명이라고 밝혔다. 이 중 627명이 완치되어 퇴원했고, 격리자는...'},\n",
       " {'x': 23,\n",
       "  'title': \"'고3 확진' 부산 내성고 학생 60여명 코로나19 검사\",\n",
       "  'desc': '코로나19 학생 확진자가 나온 부산 내성고 학생과 교사 등 60여명이 진단검사를 받는다. 부산시는 30일 오전 중으로 전날 확진 판정을 받은 부산 144번 확진자 A(18)군 가족과 같은 반 학생 등을 상대로 코로나19 1차...'},\n",
       " {'x': 24,\n",
       "  'title': '쿠팡 고양물류센터 486명 코로나 음성...\"225명은 파악중\"',\n",
       "  'desc': '코로나19 집단감염이 발생한 경기 부천 쿠팡물류센터에 이어 확진자가 나온 고양 쿠팡물류센터 직원들에... 다만 고양지역에서 아직 코로나19 검사를 받지 않은 센터직원과 협력업체 직원들이 있어 안심하기는...'},\n",
       " {'x': 25,\n",
       "  'title': '쿠팡 물류센터 관련 코로나19 확진자, 6명 늘어 108명',\n",
       "  'desc': '경기 부천시 소재 쿠팡 물류센터에서 코로나19 집단 발생과 관련, 총 108명의 확진자가 30일 확인됐다. 쿠팡 물류센터 관련 확진자는 지난 23일 첫 확진자 발생 후 6일 만인 전날 100명을 넘어선데 이어 다시 하루만에 6명이...'},\n",
       " {'x': 26,\n",
       "  'title': '[속보] 부산 내성고 3학년, 코로나19 확진 판정',\n",
       "  'desc': '부산 내성고 3학년 코로나19 확진 판정 부산에서 첫 학생 신종 코로나바이러스 가염증(코로나19) 확진자가 나왔다. 부산교육청은 29일 오후 6시40분쯤 부산 금정구 내성고 3학년 학생 A군이 코로나19 진단검사에서 확진...'},\n",
       " {'x': 27,\n",
       "  'title': '국내 코로나19 추가 확진 39명...사흘 만에 50명 밑',\n",
       "  'desc': '물류센터 집단감염으로 코로나19 확산 우려가 커지고 있는 가운데 신규 확진자가 사흘 만에 50명 밑으로... 이로써 국내 코로나19 전체 확진자는 11,441명으로 늘었습니다. 신규 발생 중 지역 감염은 27명, 해외유입은...'},\n",
       " {'x': 28,\n",
       "  'title': '사흘전 한국 들어온 주한미군 2명 코로나19 확진',\n",
       "  'desc': '미국에서 한국으로 들어온 주한미군 병사 2명이 신종 코로나바이러스 감염증(코로나19) 확진 판정을 받았다. 주한미군사령부는 30일 \"미국 정부 전세기를 타고 미국에서 출발해 지난 27일 오산 공군기지에 도착한 병사...'},\n",
       " {'x': 29,\n",
       "  'title': '코로나19 여파로... 직장인들 \"퇴사 불안감 느껴\"',\n",
       "  'desc': '최근 코로나19 여파 등 기업경영 환경이 불안정해지면서 ‘스스로가 급작스럽게 퇴사를 할 수도 있다’고 생각하는 직장인들이 많은 것으로 나타났다. 특히 코로나19 여파를 상대적으로 많이 받는 판매.서비스직...'},\n",
       " {'x': 30,\n",
       "  'title': '“이게 우리당 법이냐” 통합당 1호법안 ‘코로나 패키지법’에 비판 속출',\n",
       "  'desc': '미래통합당이 29일 당선자 총회를 열고 21대 국회 ‘1호 법안’으로 코로나19 경제 위기 대응 법안을... 이종배 정책위의장은 이날 총회를 마치고 기자들과 만나 “국민 최대 관심사인 코로나 19 위기 탈출을 위한 민생법안...'},\n",
       " {'x': 31,\n",
       "  'title': '코로나19 신규 확진자 58명 늘어…모두 수도권서 발생',\n",
       "  'desc': '경기도 부천 쿠팡물류센터 집단감염의 영향으로 코로나19 신규 확진자 수가 이틀 연속 50명을 넘었습니다. 중앙방역대책본부는 오늘(29일) 0시 기준으로 코로나19 신규확진자는 58명 늘어 누적 확진자는 11...'},\n",
       " {'x': 32,\n",
       "  'title': '\"딸 살려달라\" 망망대해 코로나 표류 극적인 구조',\n",
       "  'desc': '“코로나 때문에 크루즈선에서 일하는 딸이 두 달 가까이 바다 위를 떠돌고 있다. 제발 딸을 살려달라”는... 전세계적으로 코로나가 확산되자 주요 국가의 항구들이 크루즈선 등에 대해 입항금지 조치를 취했기...'},\n",
       " {'x': 33,\n",
       "  'title': '울산서 50대 회사원 2명 코로나19 확진···사우디서 귀국',\n",
       "  'desc': '울산에서 신종 코로나바이러스 감염증(코로나19) 확진자 2명이 추가 발생했다. 울산지역 51번, 52번째 확진자로 모두 해외입국자다. 울산시는 30일 동구에 사는 53세 남성 A씨와 회사 동료 51세 남성 B씨가 코로나19...'},\n",
       " {'x': 34,\n",
       "  'title': '코로나19 신규 확진 39명…국내발생 27명·해외유입 12명',\n",
       "  'desc': '국내 코로나19 일일 신규 확진 환자 수가 30명대로 줄어들었다. 질병관리본부 중앙방역대책본부는 30일... 국내 코로나19 누적 확진자 수는 총 1만1441명이다. 이 중 해외유입된 사례는 1247명으로 집계됐으며 내국인...'},\n",
       " {'x': 35,\n",
       "  'title': '브라질 코로나19 사망자 나흘 연속 천명 넘어',\n",
       "  'desc': '브라질의 신종 코로나바이러스 감염증(코로나19) 사망자가 나흘 연속 1,000명을 넘어서며 신규 확진자 수가 최대 증가 폭을 기록했다. 브라질 보건부는 29일(현지시간) 코로나19 사망자가 전날보다 1,124명 많은 2만7...'},\n",
       " {'x': 36,\n",
       "  'title': '\"코로나 상황이 안좋아서…\" 참여재판 놓고 고민하는 법원',\n",
       "  'desc': '신종 코로나바이러스 감염증(코로나19) 재확산 우려 속에 국민참여재판을 둘러싼 법원의 고민도 깊어지고 있다. 지난 27일 서울중앙지법 형사합의29부(김창형 부장판사)는 대학원생 제자를 성추행한 혐의로 기소된 전...'},\n",
       " {'x': 37,\n",
       "  'title': '질본 “부천 쿠팡물류센터 관련 코로나19 확진자 총 108명”',\n",
       "  'desc': '경기 부천시 쿠팡물류센터 코로나19 집단발생과 관련해 30일 오전 11시 기준 누적 확진자 총 108명이 확인됐다. 질병관리본부 중앙방역대책본부는 이날 정례 브리핑에서 “부천시 쿠팡물류센터에서 지난 12일부터...'},\n",
       " {'x': 38,\n",
       "  'title': '[2보] 코로나19로 4월 생산 2.5%↓…소비·투자는 증가',\n",
       "  'desc': '광공업생산 6.0%↓ 11년 4개월만에 최대 감소 서비스업 생산 0.5%↑·소비 5.3%↑ 김연정 차지연 정수연 기자 = 신종 코로나바이러스 감염증(코로나19) 사태로 수출에 타격이 가해지면서 지난달 산업생산이 감소했다. 특히...'},\n",
       " {'x': 39,\n",
       "  'title': '인도 원숭이, 코로나19 환자 혈액샘플 강탈…물어뜯기도',\n",
       "  'desc': '\"원숭이 통한 전파 가능성 연구 결과 없다지만 불안감\" 성혜미 특파원 = 인도에서 원숭이가 신종 코로나바이러스 감염증(코로나19) 환자로부터 채취한 혈액샘플을 강탈하는 사건이 벌어졌다. 30일 NDTV 등 인도 매체들에...'},\n",
       " {'x': 40,\n",
       "  'title': '여의도 학원에서 잇따라 코로나 확진...학생 3000명 검사 받아야',\n",
       "  'desc': '서울 여의도의 한 학원에서 강사와 수강생 등 코로나19 확진자가 잇따라 발생하면서 비상이 걸렸다. 당장... 수강생이나 강사 외에도 지난 25∼27일 홍우빌딩을 방문한 모든 시민들도 코로나19 검사를 받도록 안내할...'},\n",
       " {'x': 41,\n",
       "  'title': '코로나보다 이게 더 무섭다, 남양주 팅커벨',\n",
       "  'desc': '남양주에서는 코로나만큼이나 ‘이것’을 무서워한다. 이름하여 ‘덕소 팅커벨’이다. 조광한 경기 남양주시장은 지난 28일 공무원 회의에서 ‘덕소 팅커벨’과 사회적 거리두기를 선포하고 “코로나 사태에 준하는...'},\n",
       " {'x': 42,\n",
       "  'title': \"WHO, 코로나19 백신 개발 위한 '기술·자료 저수지' 출범\",\n",
       "  'desc': \"임은진 특파원 = 세계보건기구(WHO)는 29일(현지시간) 신종 코로나바이러스 감염증(코로나19) 치료제와 백신의 개발 및 공평한 분배를 위한 'C-TAP'을 출범했다고 밝혔다. C-TAP은 '코로나19 기술 접근 풀'(COVID-19...\"},\n",
       " {'x': 43,\n",
       "  'title': '[속보] 서울 성동구 “코로나19 확진자 방문 식당 이용객 536명 전원 음성”',\n",
       "  'desc': '서울 성동구는 성동구 40번 코로나19 환자의 밀접접촉자 536명이 방역당국의 진단검사에서 전원 음성 판정을... 대한 코로나19 검사를 실시했다. 구는 해당 지역 소재 음식점 18개소에 대해 코로나19 검사이행 긴급...'},\n",
       " {'x': 44,\n",
       "  'title': '코로나19에 보스턴 마라톤 124년 역사상 첫 취소',\n",
       "  'desc': '신종 코로나바이러스 감염증(코로나19) 사태로 당초 연기됐던 올해 보스턴 마라톤 대회가 결국 취소됐다. 28일(현지시간) 로이터통신 등에 따르면 보스턴 마라톤 대회 조직위는 이같이 결정했다. 보스턴육상연맹의 콤...'},\n",
       " {'x': 45,\n",
       "  'title': \"문대통령 자서전 中 판매량, 코로나 후 증가...외국저서 유일 '톱10'\",\n",
       "  'desc': '출간 초기 \\'베스트셀러\\'에 오른 바 있는 이 자서전이 출간 2년이 지나 또다시 주목받는 것은 올해 2월부터 확산한 신종 코로나바이러스 감염증(코로나19) 사태와 무관치 않아 보인다. 청와대 관계자는 \"코로나19 극복...'},\n",
       " {'x': 46,\n",
       "  'title': '코로나19 어제 39명 추가…총 1만 1,441명 확진',\n",
       "  'desc': '코로나19 신규 확진자가 어제 하루 39명이 추가돼 누적 확진자 수가 1만 1,441명으로 늘었습니다. 신규... 코로나19 관련 사망자 수는 늘지 않아 269명을 유지했습니다. 격리해제된 확진자는 어제 하루 35명이 늘어...'},\n",
       " {'x': 47,\n",
       "  'title': '코로나 여파로 日 4월 휴직자 600만명...전례없는 경제충격',\n",
       "  'desc': '코로나19 확산의 영향으로 일본의 4월 휴직자가 600만명에 육박했다고 니혼게이자이 신문이 30일 보도했다. 니혼게이자이 신문에 따르면 일본 총무성은 4월 휴직자가 597만명으로 사상 최다를 기록했다고 발표했다....'},\n",
       " {'x': 48,\n",
       "  'title': '부산 내성고 3학년 코로나19 확진 판정',\n",
       "  'desc': '지난주 등교수업이 이뤄진 부산에서 첫 학생 코로나19 확진자가 나왔다. 29일 부산교육청에 따르면 이날 오후 6시 40분쯤 부산 금정구 내성고 3학년 학생 ㄱ군이 코로나19 진단검사에서 확진 판정을 받았다. ㄱ군은 지난...'},\n",
       " {'x': 49,\n",
       "  'title': '아시아가 유럽보다 코로나19에 강한 이유는…습관·변이 등 복합',\n",
       "  'desc': '100만명당 사망자 유럽·미국 수백명대…아시아 10명 안돼 아시아 빠른 대응·기후·비만 등 요인 분석중…\"아직 결론은 없어\" 류지복 특파원 = 신종 코로나바이러스 감염증(코로나19)의 전 세계 대유행 이후 나타난 특징 중...'}]"
      ]
     },
     "execution_count": 211,
     "metadata": {},
     "output_type": "execute_result"
    }
   ],
   "source": [
    "fifty_page_news(\"코로나\")"
   ]
  },
  {
   "cell_type": "code",
   "execution_count": null,
   "metadata": {},
   "outputs": [],
   "source": [
    "import requests\n",
    "import bs4 as bs\n",
    "\n",
    "def fity_page_news_2(key):\n",
    "    newss = []\n",
    "    start = 1\n",
    "    while len(newss) != 50:\n",
    "        url = \"https://search.naver.com/search.naver?where=news&sm=tab_jum&query=\" + key + \"&start\" + str(start)\n",
    "\n",
    "        data = requests.get(url).text\n",
    "        real_data = bs.BeautifulSoup(data)\n",
    "        all_news = real_data.find(\"ul\", class_ = \"type01\").find_all(\"li\")\n",
    "\n",
    "        for news in all_news:\n",
    "            try:\n",
    "                title = news.find(\"dl\").find(\"dt\").find(\"a\").text #제목을 가져온다.\n",
    "                desc = news.find(\"dl\").find_all(\"dd\")[1].text #내용을 가져온다\n",
    "\n",
    "                one_news = {\"x\" : x,\"title\" : title, \"desc\" : desc} #제목과 내용을 하나의 딕셔너리에 넣는다.\n",
    "\n",
    "                newss.append(one_news) #위에서 만든 딕셔너리를 리스트에 넣는다.\n",
    "            except:\n",
    "                continue\n",
    "        start += 10\n",
    "            \n",
    "    return newss"
   ]
  },
  {
   "cell_type": "code",
   "execution_count": 216,
   "metadata": {},
   "outputs": [],
   "source": [
    "# len(fity_page_news_2(\"코로나\"))"
   ]
  },
  {
   "cell_type": "markdown",
   "metadata": {},
   "source": [
    "# 한 페이지에 있는 모든 책 제목을 다 가져와보세요"
   ]
  },
  {
   "cell_type": "code",
   "execution_count": 247,
   "metadata": {},
   "outputs": [
    {
     "name": "stdout",
     "output_type": "stream",
     "text": [
      "1 이더리움 디앱 개발\n",
      "2 CIA 요원, 최강 비즈니스맨이 되다\n",
      "3 딥러닝과 바둑\n",
      "4 필수 공식으로 하루에 하나씩 정복하는 엑셀 업무 공략집\n",
      "5 2020 부동산 세금 사용설명서\n",
      "6 내러티브 앤 넘버스\n",
      "7 똑똑한 두뇌 연습 100 : 공주, 동물, 색칠 세트\n",
      "8 똑똑한 두뇌 연습 100 : 탈것, 동물, 축구 세트\n",
      "9 똑똑한 두뇌 연습 : 세계 여행 다른 그림 찾기\n",
      "10 똑똑한 두뇌 연습 : 점 잇기\n",
      "11 포스트 코로나\n",
      "12 만들면서 배우는 워드프레스 (개정2판)\n",
      "13 이것이 MySQL이다(개정판)\n",
      "14 미로 마스터 LEVEL2. 미스터리 미로\n",
      "15 미로 마스터 LEVEL3. 크레이지 미로\n",
      "16 회사에서 바로 통하는 파워포인트 FOR STARTERS\n",
      "17 핸즈온 머신러닝(2판)\n",
      "18 BPF로 리눅스 관측 가능성 향상하기\n",
      "19 배워서 바로 쓰는 스프링 프레임워크\n",
      "20 4차 인간\n"
     ]
    }
   ],
   "source": [
    "import requests\n",
    "import bs4 as bs\n",
    "\n",
    "url = \"https://www.hanbit.co.kr/store/books/new_book_list.html\"\n",
    "sing_page = requests.get(url).text\n",
    "sing_page_detail = bs.BeautifulSoup(sing_page)\n",
    "\n",
    "all_books = sing_page_detail.find_all(\"li\", class_ = \"sub_book_list\")\n",
    "\n",
    "for n, book in enumerate(all_books):\n",
    "    title = book.find(\"p\", class_ = \"book_tit\").text\n",
    "    print(n + 1, title)"
   ]
  },
  {
   "cell_type": "markdown",
   "metadata": {},
   "source": [
    "# 이번에는 저자를 가져와라"
   ]
  },
  {
   "cell_type": "code",
   "execution_count": 256,
   "metadata": {},
   "outputs": [
    {
     "name": "stdout",
     "output_type": "stream",
     "text": [
      "1 이더리움 디앱 개발,로베르토 인판테 \n",
      "2 CIA 요원, 최강 비즈니스맨이 되다,제이슨 핸슨 \n",
      "3 딥러닝과 바둑,막스 펌펄라 , 케빈 퍼거슨 \n",
      "4 필수 공식으로 하루에 하나씩 정복하는 엑셀 업무 공략집,최준선 \n",
      "5 2020 부동산 세금 사용설명서,김성일 \n",
      "6 내러티브 앤 넘버스,애스워드 다모다란 \n",
      "7 똑똑한 두뇌 연습 100 : 공주, 동물, 색칠 세트,발롱 미디어 \n",
      "8 똑똑한 두뇌 연습 100 : 탈것, 동물, 축구 세트,발롱 미디어 \n",
      "9 똑똑한 두뇌 연습 : 세계 여행 다른 그림 찾기,제니 에스피노사 \n",
      "10 똑똑한 두뇌 연습 : 점 잇기,조 문 \n",
      "11 포스트 코로나,임승규(국제경제) , 장두석(국내경제) , 양석재(부동산) , 조관자(사회) , 김재헌(의료) , 유필립(정치사회) , 박남기(교육) \n",
      "12 만들면서 배우는 워드프레스 (개정2판),박현우 \n",
      "13 이것이 MySQL이다(개정판),우재남 \n",
      "14 미로 마스터 LEVEL2. 미스터리 미로,마크 워커 \n",
      "15 미로 마스터 LEVEL3. 크레이지 미로,사이먼 워드 \n",
      "16 회사에서 바로 통하는 파워포인트 FOR STARTERS,이화진 \n",
      "17 핸즈온 머신러닝(2판),오렐리앙 제롱(Aurélien Géron) \n",
      "18 BPF로 리눅스 관측 가능성 향상하기,데이비드 칼라베라 , 로렌초 폰타나 \n",
      "19 배워서 바로 쓰는 스프링 프레임워크,애시시 사린 , 제이 샤르마 \n",
      "20 4차 인간,이미솔 , 신현주 \n"
     ]
    }
   ],
   "source": [
    "import requests\n",
    "import bs4 as bs\n",
    "\n",
    "url = \"https://www.hanbit.co.kr/store/books/new_book_list.html\"\n",
    "sing_page = requests.get(url).text\n",
    "sing_page_detail = bs.BeautifulSoup(sing_page)\n",
    "\n",
    "all_books = sing_page_detail.find_all(\"li\", class_ = \"sub_book_list\")\n",
    "\n",
    "for n, book in enumerate(all_books):\n",
    "    title = juja = book.find(\"p\", class_ = \"book_tit\").text\n",
    "    author = book.find(\"p\", class_ = \"book_writer\").text\n",
    "    print(n + 1, title + \",\" + author)"
   ]
  },
  {
   "cell_type": "markdown",
   "metadata": {},
   "source": [
    "# 1. 2페이지까지 모든 제목을 화면에 출력\n",
    "# 2. 알리딘 베스트 셀러 한 페이지에 모든 책 제목을 화면에 출력"
   ]
  },
  {
   "cell_type": "code",
   "execution_count": 260,
   "metadata": {
    "scrolled": false
   },
   "outputs": [
    {
     "name": "stdout",
     "output_type": "stream",
     "text": [
      "1 이더리움 디앱 개발\n",
      "2 CIA 요원, 최강 비즈니스맨이 되다\n",
      "3 딥러닝과 바둑\n",
      "4 필수 공식으로 하루에 하나씩 정복하는 엑셀 업무 공략집\n",
      "5 2020 부동산 세금 사용설명서\n",
      "6 내러티브 앤 넘버스\n",
      "7 똑똑한 두뇌 연습 100 : 공주, 동물, 색칠 세트\n",
      "8 똑똑한 두뇌 연습 100 : 탈것, 동물, 축구 세트\n",
      "9 똑똑한 두뇌 연습 : 세계 여행 다른 그림 찾기\n",
      "10 똑똑한 두뇌 연습 : 점 잇기\n",
      "11 포스트 코로나\n",
      "12 만들면서 배우는 워드프레스 (개정2판)\n",
      "13 이것이 MySQL이다(개정판)\n",
      "14 미로 마스터 LEVEL2. 미스터리 미로\n",
      "15 미로 마스터 LEVEL3. 크레이지 미로\n",
      "16 회사에서 바로 통하는 파워포인트 FOR STARTERS\n",
      "17 핸즈온 머신러닝(2판)\n",
      "18 BPF로 리눅스 관측 가능성 향상하기\n",
      "19 배워서 바로 쓰는 스프링 프레임워크\n",
      "20 4차 인간\n",
      "21 할짝 심리학\n",
      "22 이것이 안드로이드다 with 코틀린\n",
      "23 나는 불평을 그만두기로 했다\n",
      "24 오늘도 화내고 말았습니다\n",
      "25 배워서 바로 쓰는 스프링 부트 2\n",
      "26 학교에서 알려주지 않는 17가지 실무 개발 기술\n",
      "27 이것이 리눅스다 (개정판) with RedHat CentOS 8\n",
      "28 회사에서 바로 통하는  실무 엑셀+파워포인트+워드&한글(개정판)\n",
      "29 누구나 파이썬 통계분석\n",
      "30 은밀한 설계자들\n",
      "31 줄리아를 생각하다\n",
      "32 타겟티드\n",
      "33 미로 마스터 LEVEL1. 세계 미로 대탈출\n",
      "34 미로 마스터 LEVEL1. 우주 미로 대탈출\n",
      "35 이기적 유인원\n",
      "36 80년생 김 팀장과 90년생 이 대리가 웃으며 일하는 법\n",
      "37 리팩터링 2판 (리팩토링 개정판)\n",
      "38 가설이 무기가 된다\n",
      "39 직감이 무기가 된다\n",
      "40 질문이 무기가 된다\n"
     ]
    }
   ],
   "source": [
    "# 1\n",
    "import requests\n",
    "import bs4 as bs\n",
    "\n",
    "i = 1\n",
    "\n",
    "for page in range(2):\n",
    "    url = \"https://www.hanbit.co.kr/store/books/new_book_list.html?page=\" + str((page + 1))\n",
    "    sing_page = requests.get(url).text\n",
    "    sing_page_detail = bs.BeautifulSoup(sing_page)\n",
    "\n",
    "    all_books = sing_page_detail.find_all(\"li\", class_ = \"sub_book_list\")\n",
    "\n",
    "    for n, book in enumerate(all_books):\n",
    "        title = juja = book.find(\"p\", class_ = \"book_tit\").text\n",
    "#         juja = book.find(\"p\", class_ = \"book_writer\").text\n",
    "        print(i, title)\n",
    "        i += 1\n",
    "\n"
   ]
  },
  {
   "cell_type": "code",
   "execution_count": 277,
   "metadata": {},
   "outputs": [
    {
     "name": "stdout",
     "output_type": "stream",
     "text": [
      "1 시선으로부터,\n",
      "2 소년이 온다 (특별한정판, 양장)\n",
      "3 더 해빙\n",
      "4 만화 인소의 법칙 1 (함단이 캐릭터 키링 + 단이&여령 트래블 스티커 4종 세트 + 인소의 법칙 노트 포함 한정판)\n",
      "5 애쓰지 않고 편안하게\n",
      "6 보통의 언어들\n",
      "7 2020 제11회 젊은작가상 수상작품집\n",
      "8 오래 준비해온 대답\n",
      "9 코로나 투자 전쟁\n",
      "10 기억 1\n",
      "11 언컨택트 Uncontact\n",
      "12 기억 2\n",
      "13 마법천자문 48\n",
      "14 귀멸의 칼날 18\n",
      "15 지박소년 하나코 군 8\n",
      "16 지박소년 하나코 군 7\n",
      "17 룬샷\n",
      "18 이상하고 자유로운 할머니가 되고 싶어\n",
      "19 이야기의 탄생\n",
      "20 어린 왕자 (리커버 특별판)\n",
      "21 장군이네 떡집\n",
      "22 당근 유치원\n",
      "23 맛있게 살 빠지는 고단백 저탄수화물 다이어트 레시피\n",
      "24 일 잘하는 사람은 단순하게 말합니다\n",
      "25 큰별쌤 최태성의 별★별한국사 한국사능력검정시험 심화(1.2.3급) 상\n",
      "26 코로나 이후의 세계\n",
      "27 큰별쌤 최태성의 별★별한국사 한국사능력검정시험 심화(1.2.3급) 하\n",
      "28 트라우마 사전\n",
      "29 소원 떡집\n",
      "30 우리가 빛의 속도로 갈 수 없다면\n",
      "31 2020 선재국어 국가직.지방직 대비 실전형 봉투 모의고사 2\n",
      "32 Go Go 카카오프렌즈 14 : 그리스\n",
      "33 지리의 힘\n",
      "34 해커스 토익 기출 보카 TOEIC VOCA 단어장\n",
      "35 만복이네 떡집\n",
      "36 밤의 팔레트\n",
      "37 흔한남매 안 흔한 일기 2\n",
      "38 식물의 책 (도시 풀꽃 에디션)\n",
      "39 존리의 부자되기 습관\n",
      "40 달 너머로 달리는 말\n",
      "41 어느 날 공주가 되어버렸다 4 ( 컬러링북(128P)+ 투명스티커 5종 + 루카스 그립톡 + 엽서 + 박스 포함 한정판)\n",
      "42 내가 빛나는 순간\n",
      "43 귤의 맛\n",
      "44 한동안 머물다 밖으로 나가고 싶다\n",
      "45 페스트\n",
      "46 임계장 이야기\n",
      "47 나의 할머니에게\n",
      "48 이수정 이다혜의 범죄 영화 프로파일\n",
      "49 돈지랄의 기쁨과 슬픔\n",
      "50 철도원 삼대\n"
     ]
    }
   ],
   "source": [
    "# 2\n",
    "import requests\n",
    "import bs4 as bs\n",
    "\n",
    "url = \"https://www.aladin.co.kr/shop/common/wbest.aspx?BranchType=1&start=we\"\n",
    "data = requests.get(url).text\n",
    "data_bs = bs.BeautifulSoup(data)\n",
    "\n",
    "books = data_bs.find_all(\"div\", class_ = \"ss_book_box\")\n",
    "\n",
    "for n, book in enumerate(books):\n",
    "    title = book.find(\"a\", class_ = \"bo3\").text\n",
    "    \n",
    "    print(n + 1, title)"
   ]
  },
  {
   "cell_type": "code",
   "execution_count": 6,
   "metadata": {},
   "outputs": [
    {
     "name": "stdout",
     "output_type": "stream",
     "text": [
      "Collecting selenium\n",
      "  Using cached selenium-3.141.0-py2.py3-none-any.whl (904 kB)\n",
      "Requirement already satisfied: urllib3 in c:\\users\\kgitbank\\anaconda3\\lib\\site-packages (from selenium) (1.25.8)\n",
      "Installing collected packages: selenium\n",
      "Successfully installed selenium-3.141.0\n"
     ]
    }
   ],
   "source": [
    "!pip install selenium"
   ]
  },
  {
   "cell_type": "markdown",
   "metadata": {},
   "source": [
    "# 셀레미늄(selenium) 버튼, 입력등을 사용하는 경우 사용된다.\n",
    "## 1.크롬 드라이버를 설치 한다.\n"
   ]
  },
  {
   "cell_type": "code",
   "execution_count": 138,
   "metadata": {},
   "outputs": [],
   "source": [
    "import time\n",
    "\n",
    "from glob import glob #파일의 경로를 쉽게 찾아주는 모듈\n",
    "from selenium import webdriver\n",
    "\n",
    "path = \"C:/Users/KGITBank/Downloads/chromedriver_win32 (1)\" #설치한 드라이버 경로 찾기\n",
    "real_path = glob(path + \"/*\")[0] #위에서 선택한 모든 폴더 안에 모든 파일 선택\n",
    "\n",
    "driver = webdriver.Chrome(real_path) #driver이름으로 크롬 창을 만들어 준다.\n",
    "\n",
    "\n",
    "\n",
    "url = \"https://www.naver.com\"\n",
    "driver.get(url) #url링크로 접속한다.\n",
    "time.sleep(1)\n",
    "driver.close() #창을 닫는다.\n"
   ]
  },
  {
   "cell_type": "code",
   "execution_count": 66,
   "metadata": {
    "scrolled": true
   },
   "outputs": [],
   "source": [
    "import time\n",
    "\n",
    "from glob import glob #파일의 경로를 쉽게 찾아주는 모듈\n",
    "from selenium import webdriver\n",
    "\n",
    "path = \"C:/Users/KGITBank/Downloads/chromedriver_win32 (1)\" #설치한 드라이버 경로 찾기\n",
    "real_path = glob(path + \"/*\")[0] #위에서 선택한 모든 폴더 안에 모든 파일 선택\n",
    "\n",
    "driver = webdriver.Chrome(real_path) #driver이름으로 크롬 창을 만들어 준다.\n",
    "\n",
    "\n",
    "\n",
    "url = \"https://www.naver.com\"\n",
    "driver.get(url) #url링크로 접속한다.\n",
    "time.sleep(2)\n",
    "webtoon = '//*[@id=\"NM_FAVORITE\"]/div[1]/ul[2]/li[9]/a' #웹툰 버튼의 위치(좌표)\n",
    "driver.find_element_by_xpath(webtoon).click() #웹툰 버튼을 찾고 클릭 한다.\n",
    "time.sleep(2)\n",
    "driver.back() #이전 창으로 돌아가기\n",
    "time.sleep(2)\n",
    "driver.close() #창 닫기\n"
   ]
  },
  {
   "cell_type": "markdown",
   "metadata": {},
   "source": [
    "# 한빛 미디어\n",
    "## 1. 이 페이지 접속\n",
    "## 2. 맨 왼쪽 맨 위 책 클릭(옛날사람그림)\n",
    "## 3. 책 제목 가져오기\n",
    "## 4. TAG 내용 전부 가져오기\n",
    "## 5. 뒤로가기\n",
    "## 6. 다음 책 클릭(2번으로 돌아가기)\n",
    "## 7. 다음 페이지"
   ]
  },
  {
   "cell_type": "code",
   "execution_count": 158,
   "metadata": {},
   "outputs": [
    {
     "ename": "IndexError",
     "evalue": "list index out of range",
     "output_type": "error",
     "traceback": [
      "\u001b[1;31m---------------------------------------------------------------------------\u001b[0m",
      "\u001b[1;31mIndexError\u001b[0m                                Traceback (most recent call last)",
      "\u001b[1;32m<ipython-input-158-c4cf3b468c86>\u001b[0m in \u001b[0;36m<module>\u001b[1;34m\u001b[0m\n\u001b[0;32m      4\u001b[0m \u001b[1;32mimport\u001b[0m \u001b[0mtime\u001b[0m\u001b[1;33m\u001b[0m\u001b[1;33m\u001b[0m\u001b[0m\n\u001b[0;32m      5\u001b[0m \u001b[0mpath\u001b[0m \u001b[1;33m=\u001b[0m \u001b[1;34m'C:/Users/KGITBANK501/Downloads/chromedriver_win32 (1)'\u001b[0m\u001b[1;33m\u001b[0m\u001b[1;33m\u001b[0m\u001b[0m\n\u001b[1;32m----> 6\u001b[1;33m \u001b[0mreal_path\u001b[0m \u001b[1;33m=\u001b[0m \u001b[0mglob\u001b[0m\u001b[1;33m(\u001b[0m\u001b[0mpath\u001b[0m \u001b[1;33m+\u001b[0m \u001b[1;34m'/*'\u001b[0m\u001b[1;33m)\u001b[0m\u001b[1;33m[\u001b[0m\u001b[1;36m0\u001b[0m\u001b[1;33m]\u001b[0m\u001b[1;33m\u001b[0m\u001b[1;33m\u001b[0m\u001b[0m\n\u001b[0m\u001b[0;32m      7\u001b[0m \u001b[0mdriver\u001b[0m \u001b[1;33m=\u001b[0m \u001b[0mwebdriver\u001b[0m\u001b[1;33m.\u001b[0m\u001b[0mChrome\u001b[0m\u001b[1;33m(\u001b[0m\u001b[0mreal_path\u001b[0m\u001b[1;33m)\u001b[0m\u001b[1;33m\u001b[0m\u001b[1;33m\u001b[0m\u001b[0m\n\u001b[0;32m      8\u001b[0m \u001b[0mdriver\u001b[0m\u001b[1;33m.\u001b[0m\u001b[0mget\u001b[0m\u001b[1;33m(\u001b[0m\u001b[1;34m'https://www.hanbit.co.kr/store/books/new_book_list.html'\u001b[0m\u001b[1;33m)\u001b[0m\u001b[1;33m\u001b[0m\u001b[1;33m\u001b[0m\u001b[0m\n",
      "\u001b[1;31mIndexError\u001b[0m: list index out of range"
     ]
    }
   ],
   "source": [
    "from glob import glob\n",
    "from selenium import webdriver\n",
    "import bs4 as bs\n",
    "import time\n",
    "path = 'C:/Users/KGITBANK501/Downloads/chromedriver_win32 (1)'\n",
    "real_path = glob(path + '/*')[0]\n",
    "driver = webdriver.Chrome(real_path)\n",
    "driver.get('https://www.hanbit.co.kr/store/books/new_book_list.html')\n",
    "for i in range(20):\n",
    "    driver.fullscreen_window()\n",
    "    time.sleep(3)\n",
    "    book_path = f'//*[@id=\"container\"]/div[2]/div[2]/li[{i+1}]/div/span/img'\n",
    "    driver.find_element_by_xpath(book_path).click()\n",
    "    time.sleep(3)\n",
    "    one_book = driver.page_source\n",
    "    bs1 = bs.BeautifulSoup(one_book)\n",
    "    title = bs1.find('div', class_='store_product_info_box').find('h3').text\n",
    "    tags = bs1.find('div', class_='tag_area').find_all('a')\n",
    "    real_tag = [t.text for t in tags]\n",
    "    driver.back()"
   ]
  },
  {
   "cell_type": "code",
   "execution_count": 165,
   "metadata": {
    "scrolled": true
   },
   "outputs": [
    {
     "ename": "WebDriverException",
     "evalue": "Message: chrome not reachable\n  (Session info: chrome=83.0.4103.61)\n",
     "output_type": "error",
     "traceback": [
      "\u001b[1;31m---------------------------------------------------------------------------\u001b[0m",
      "\u001b[1;31mWebDriverException\u001b[0m                        Traceback (most recent call last)",
      "\u001b[1;32m<ipython-input-165-5a80760bdba6>\u001b[0m in \u001b[0;36m<module>\u001b[1;34m\u001b[0m\n\u001b[0;32m     32\u001b[0m \u001b[1;31m#5, 6\u001b[0m\u001b[1;33m\u001b[0m\u001b[1;33m\u001b[0m\u001b[1;33m\u001b[0m\u001b[0m\n\u001b[0;32m     33\u001b[0m \u001b[1;32mfor\u001b[0m \u001b[0mi\u001b[0m \u001b[1;32min\u001b[0m \u001b[0mrange\u001b[0m\u001b[1;33m(\u001b[0m\u001b[1;36m1\u001b[0m\u001b[1;33m,\u001b[0m \u001b[1;36m21\u001b[0m\u001b[1;33m)\u001b[0m\u001b[1;33m:\u001b[0m\u001b[1;33m\u001b[0m\u001b[1;33m\u001b[0m\u001b[0m\n\u001b[1;32m---> 34\u001b[1;33m     \u001b[0mscroll\u001b[0m \u001b[1;33m=\u001b[0m \u001b[0mdriver\u001b[0m\u001b[1;33m.\u001b[0m\u001b[0mfind_element_by_tag_name\u001b[0m\u001b[1;33m(\u001b[0m\u001b[1;34m\"body\"\u001b[0m\u001b[1;33m)\u001b[0m\u001b[1;33m\u001b[0m\u001b[1;33m\u001b[0m\u001b[0m\n\u001b[0m\u001b[0;32m     35\u001b[0m     \u001b[0mscroll\u001b[0m\u001b[1;33m.\u001b[0m\u001b[0msend_keys\u001b[0m\u001b[1;33m(\u001b[0m\u001b[0mKeys\u001b[0m\u001b[1;33m.\u001b[0m\u001b[0mARROW_DOWN\u001b[0m\u001b[1;33m)\u001b[0m\u001b[1;33m\u001b[0m\u001b[1;33m\u001b[0m\u001b[0m\n\u001b[0;32m     36\u001b[0m     \u001b[0mdriver\u001b[0m\u001b[1;33m.\u001b[0m\u001b[0mfullscreen_window\u001b[0m\u001b[1;33m(\u001b[0m\u001b[1;33m)\u001b[0m\u001b[1;33m\u001b[0m\u001b[1;33m\u001b[0m\u001b[0m\n",
      "\u001b[1;32m~\\anaconda3\\lib\\site-packages\\selenium\\webdriver\\remote\\webdriver.py\u001b[0m in \u001b[0;36mfind_element_by_tag_name\u001b[1;34m(self, name)\u001b[0m\n\u001b[0;32m    528\u001b[0m             \u001b[0melement\u001b[0m \u001b[1;33m=\u001b[0m \u001b[0mdriver\u001b[0m\u001b[1;33m.\u001b[0m\u001b[0mfind_element_by_tag_name\u001b[0m\u001b[1;33m(\u001b[0m\u001b[1;34m'h1'\u001b[0m\u001b[1;33m)\u001b[0m\u001b[1;33m\u001b[0m\u001b[1;33m\u001b[0m\u001b[0m\n\u001b[0;32m    529\u001b[0m         \"\"\"\n\u001b[1;32m--> 530\u001b[1;33m         \u001b[1;32mreturn\u001b[0m \u001b[0mself\u001b[0m\u001b[1;33m.\u001b[0m\u001b[0mfind_element\u001b[0m\u001b[1;33m(\u001b[0m\u001b[0mby\u001b[0m\u001b[1;33m=\u001b[0m\u001b[0mBy\u001b[0m\u001b[1;33m.\u001b[0m\u001b[0mTAG_NAME\u001b[0m\u001b[1;33m,\u001b[0m \u001b[0mvalue\u001b[0m\u001b[1;33m=\u001b[0m\u001b[0mname\u001b[0m\u001b[1;33m)\u001b[0m\u001b[1;33m\u001b[0m\u001b[1;33m\u001b[0m\u001b[0m\n\u001b[0m\u001b[0;32m    531\u001b[0m \u001b[1;33m\u001b[0m\u001b[0m\n\u001b[0;32m    532\u001b[0m     \u001b[1;32mdef\u001b[0m \u001b[0mfind_elements_by_tag_name\u001b[0m\u001b[1;33m(\u001b[0m\u001b[0mself\u001b[0m\u001b[1;33m,\u001b[0m \u001b[0mname\u001b[0m\u001b[1;33m)\u001b[0m\u001b[1;33m:\u001b[0m\u001b[1;33m\u001b[0m\u001b[1;33m\u001b[0m\u001b[0m\n",
      "\u001b[1;32m~\\anaconda3\\lib\\site-packages\\selenium\\webdriver\\remote\\webdriver.py\u001b[0m in \u001b[0;36mfind_element\u001b[1;34m(self, by, value)\u001b[0m\n\u001b[0;32m    976\u001b[0m         return self.execute(Command.FIND_ELEMENT, {\n\u001b[0;32m    977\u001b[0m             \u001b[1;34m'using'\u001b[0m\u001b[1;33m:\u001b[0m \u001b[0mby\u001b[0m\u001b[1;33m,\u001b[0m\u001b[1;33m\u001b[0m\u001b[1;33m\u001b[0m\u001b[0m\n\u001b[1;32m--> 978\u001b[1;33m             'value': value})['value']\n\u001b[0m\u001b[0;32m    979\u001b[0m \u001b[1;33m\u001b[0m\u001b[0m\n\u001b[0;32m    980\u001b[0m     \u001b[1;32mdef\u001b[0m \u001b[0mfind_elements\u001b[0m\u001b[1;33m(\u001b[0m\u001b[0mself\u001b[0m\u001b[1;33m,\u001b[0m \u001b[0mby\u001b[0m\u001b[1;33m=\u001b[0m\u001b[0mBy\u001b[0m\u001b[1;33m.\u001b[0m\u001b[0mID\u001b[0m\u001b[1;33m,\u001b[0m \u001b[0mvalue\u001b[0m\u001b[1;33m=\u001b[0m\u001b[1;32mNone\u001b[0m\u001b[1;33m)\u001b[0m\u001b[1;33m:\u001b[0m\u001b[1;33m\u001b[0m\u001b[1;33m\u001b[0m\u001b[0m\n",
      "\u001b[1;32m~\\anaconda3\\lib\\site-packages\\selenium\\webdriver\\remote\\webdriver.py\u001b[0m in \u001b[0;36mexecute\u001b[1;34m(self, driver_command, params)\u001b[0m\n\u001b[0;32m    319\u001b[0m         \u001b[0mresponse\u001b[0m \u001b[1;33m=\u001b[0m \u001b[0mself\u001b[0m\u001b[1;33m.\u001b[0m\u001b[0mcommand_executor\u001b[0m\u001b[1;33m.\u001b[0m\u001b[0mexecute\u001b[0m\u001b[1;33m(\u001b[0m\u001b[0mdriver_command\u001b[0m\u001b[1;33m,\u001b[0m \u001b[0mparams\u001b[0m\u001b[1;33m)\u001b[0m\u001b[1;33m\u001b[0m\u001b[1;33m\u001b[0m\u001b[0m\n\u001b[0;32m    320\u001b[0m         \u001b[1;32mif\u001b[0m \u001b[0mresponse\u001b[0m\u001b[1;33m:\u001b[0m\u001b[1;33m\u001b[0m\u001b[1;33m\u001b[0m\u001b[0m\n\u001b[1;32m--> 321\u001b[1;33m             \u001b[0mself\u001b[0m\u001b[1;33m.\u001b[0m\u001b[0merror_handler\u001b[0m\u001b[1;33m.\u001b[0m\u001b[0mcheck_response\u001b[0m\u001b[1;33m(\u001b[0m\u001b[0mresponse\u001b[0m\u001b[1;33m)\u001b[0m\u001b[1;33m\u001b[0m\u001b[1;33m\u001b[0m\u001b[0m\n\u001b[0m\u001b[0;32m    322\u001b[0m             response['value'] = self._unwrap_value(\n\u001b[0;32m    323\u001b[0m                 response.get('value', None))\n",
      "\u001b[1;32m~\\anaconda3\\lib\\site-packages\\selenium\\webdriver\\remote\\errorhandler.py\u001b[0m in \u001b[0;36mcheck_response\u001b[1;34m(self, response)\u001b[0m\n\u001b[0;32m    240\u001b[0m                 \u001b[0malert_text\u001b[0m \u001b[1;33m=\u001b[0m \u001b[0mvalue\u001b[0m\u001b[1;33m[\u001b[0m\u001b[1;34m'alert'\u001b[0m\u001b[1;33m]\u001b[0m\u001b[1;33m.\u001b[0m\u001b[0mget\u001b[0m\u001b[1;33m(\u001b[0m\u001b[1;34m'text'\u001b[0m\u001b[1;33m)\u001b[0m\u001b[1;33m\u001b[0m\u001b[1;33m\u001b[0m\u001b[0m\n\u001b[0;32m    241\u001b[0m             \u001b[1;32mraise\u001b[0m \u001b[0mexception_class\u001b[0m\u001b[1;33m(\u001b[0m\u001b[0mmessage\u001b[0m\u001b[1;33m,\u001b[0m \u001b[0mscreen\u001b[0m\u001b[1;33m,\u001b[0m \u001b[0mstacktrace\u001b[0m\u001b[1;33m,\u001b[0m \u001b[0malert_text\u001b[0m\u001b[1;33m)\u001b[0m\u001b[1;33m\u001b[0m\u001b[1;33m\u001b[0m\u001b[0m\n\u001b[1;32m--> 242\u001b[1;33m         \u001b[1;32mraise\u001b[0m \u001b[0mexception_class\u001b[0m\u001b[1;33m(\u001b[0m\u001b[0mmessage\u001b[0m\u001b[1;33m,\u001b[0m \u001b[0mscreen\u001b[0m\u001b[1;33m,\u001b[0m \u001b[0mstacktrace\u001b[0m\u001b[1;33m)\u001b[0m\u001b[1;33m\u001b[0m\u001b[1;33m\u001b[0m\u001b[0m\n\u001b[0m\u001b[0;32m    243\u001b[0m \u001b[1;33m\u001b[0m\u001b[0m\n\u001b[0;32m    244\u001b[0m     \u001b[1;32mdef\u001b[0m \u001b[0m_value_or_default\u001b[0m\u001b[1;33m(\u001b[0m\u001b[0mself\u001b[0m\u001b[1;33m,\u001b[0m \u001b[0mobj\u001b[0m\u001b[1;33m,\u001b[0m \u001b[0mkey\u001b[0m\u001b[1;33m,\u001b[0m \u001b[0mdefault\u001b[0m\u001b[1;33m)\u001b[0m\u001b[1;33m:\u001b[0m\u001b[1;33m\u001b[0m\u001b[1;33m\u001b[0m\u001b[0m\n",
      "\u001b[1;31mWebDriverException\u001b[0m: Message: chrome not reachable\n  (Session info: chrome=83.0.4103.61)\n"
     ]
    }
   ],
   "source": [
    "import bs4 as b4\n",
    "from selenium.webdriver.common.keys import Keys\n",
    "from glob import glob\n",
    "from selenium import webdriver\n",
    "import time\n",
    "\n",
    "\n",
    "book_drive = webdriver.Chrome(real_path)\n",
    "\n",
    "#1\n",
    "url = \"https://www.hanbit.co.kr/store/books/new_book_list.html\"\n",
    "book_drive.get(url)\n",
    "\n",
    "# #2\n",
    "# time.sleep(1)\n",
    "# book_path = '/html/body/div[3]/div[2]/div[2]/li[1]/div/span/img'\n",
    "# book_drive.find_element_by_xpath(book_path).click()\n",
    "\n",
    "# #3\n",
    "# time.sleep(1)\n",
    "# one_book = book_drive.page_source #requset.get와 동일하게 페이지의 소스를 가져온다.\n",
    "# bs1 = bs.BeautifulSoup(one_book)\n",
    "# title = bs1.find(\"div\", class_ = \"store_product_info_box\").find(\"h3\").text\n",
    "# print(title)\n",
    "\n",
    "# #4 \n",
    "# tags = bs1.find(\"div\", class_ = \"store_product_info_box\").find(\"div\", class_ = \"tag_area\").find_all(\"a\")#.text\n",
    "# real_tags = [tag.text for tag in tags]\n",
    "\n",
    "# print(real_tags)\n",
    "\n",
    "#5, 6\n",
    "for i in range(1, 21):\n",
    "    scroll = driver.find_element_by_tag_name(\"body\")\n",
    "    scroll.send_keys(Keys.ARROW_DOWN)\n",
    "    time.sleep\n",
    "    driver.fullscreen_window()\n",
    "    book_path = '/html/body/div[3]/div[2]/div[2]/li[%d]/div/span/img' %i\n",
    "    book_drive.find_element_by_xpath(book_path).click()\n",
    "    bs1 = bs.BeautifulSoup(one_book)\n",
    "    title = bs1.find(\"div\", class_ = \"store_product_info_box\").find(\"h3\").text\n",
    "    tags = bs1.find(\"div\", class_ = \"store_product_info_box\").find(\"div\", class_ = \"tag_area\").find_all(\"a\")#.text\n",
    "    real_tags = [tag.text for tag in tags]\n",
    "    print(title, \"\\n\", real_tags)\n",
    "    time.sleep(1.5)\n",
    "    book_drive.back()\n",
    "    time.sleep(0.2)"
   ]
  },
  {
   "cell_type": "code",
   "execution_count": 147,
   "metadata": {},
   "outputs": [
    {
     "name": "stdout",
     "output_type": "stream",
     "text": [
      "title : 이더리움 디앱 개발\n",
      "tag : ['이더리움', '디앱', 'Dapp', '탈중앙화', '솔리디티', '스마트 컨트랙트', '스마트 계약', '블록체인', '트랜잭션', '머클 트리', '머클 트라이', '공개키 암호화', '서명 생성', '서명 검증', '채굴', '마이닝', '프레임워크', '트러플', '모카', '가나슈', 'geth', 'EVM', 'Web3.js', '유닛 테스트', '보안', '배포', '암호화폐']\n",
      "\n",
      "\n",
      "title : CIA 요원, 최강 비즈니스맨이 되다\n",
      "tag : ['비지니스', '회사', '성공', '관계', '인맥']\n",
      "\n",
      "\n",
      "title : 딥러닝과 바둑\n",
      "tag : ['인공지능', '알파고제로', 'AI', '머신러닝', '기계학습', '딥러닝', '텐서플러', '케라스', '텐서플로우', 'TensorFlow', 'keras', '심층학습', '파이썬', '데이터분석', '데이터과학', '신경망', 'CNN', 'RNN', 'GAN', '오토인코더', '자연어처리', 'NLP', '비지도 학습']\n",
      "\n",
      "\n",
      "title : 필수 공식으로 하루에 하나씩 정복하는 엑셀 업무 공략집\n",
      "tag : ['엑셀', '엑셀 입문서', '엑셀 초보', '직장인 엑셀', '실무 엑셀', '엑셀 핵심 원리', '엑셀 활용', '엑셀 기능', '엑셀 데이터', '엑셀 함수', '피벗테이블', '엑셀 문서', '엑셀 보고서', '실무 예제', '오피스', 'MS 오피스', 'excel', '마이크로소프트 365', '엑셀 2019', '엑셀 2016', '엑셀 2013', '엑셀 2010', '엑셀 2007', '취업', '직장인', '신입사원', '모든 버전 사용 가능']\n",
      "\n",
      "\n",
      "title : 2020 부동산 세금 사용설명서\n",
      "tag : ['부동상', '경매', '투자', '재테크', '세금', '임대', '절세']\n",
      "\n",
      "\n",
      "title : 내러티브 앤 넘버스\n",
      "tag : ['가치평가', '기업의 가치', '가치', '기업', '주가', '내러티브', '스토리텔링', '스토리', '숫자', '경영자']\n",
      "\n",
      "\n",
      "title : 똑똑한 두뇌 연습 100 : 공주, 동물, 색칠 세트\n",
      "tag : ['IQEQ발달', '두뇌계발워크북', '두뇌발달', '유아워크북', '유아놀이', '미로찾기', '그림찾기', '퍼즐', '점잇기', '색칠하기', '그리기', '수세기', '관찰력', '집중력', '사고력', '창의력', '수리력', '탐구력', '공간지각력', '탈것', '교통수단', '남자아이']\n",
      "\n",
      "\n",
      "title : 똑똑한 두뇌 연습 100 : 탈것, 동물, 축구 세트\n",
      "tag : ['IQEQ발달', '두뇌계발워크북', '두뇌발달', '유아워크북', '유아놀이', '미로찾기', '그림찾기', '퍼즐', '점잇기', '색칠하기', '그리기', '수세기', '관찰력', '집중력', '사고력', '창의력', '수리력', '탐구력', '공간지각력', '탈것', '교통수단', '남자아이']\n",
      "\n",
      "\n",
      "title : 똑똑한 두뇌 연습 : 세계 여행 다른 그림 찾기\n",
      "tag : ['놀이워크북', '두뇌계발워크북', '유아학습지', '유아워크북', '유아놀이', '어린이워크북', 'IQEQ발달', '두뇌발달', '숨은그림찾기', '다른그림찾기', '미로찾기', '점잇기', '세계여행', '두뇌퍼즐', '창의력', '관찰력', '사고력', '집중력', '유아홈스쿨']\n",
      "\n",
      "\n"
     ]
    },
    {
     "ename": "ElementNotInteractableException",
     "evalue": "Message: element not interactable\n  (Session info: chrome=83.0.4103.61)\n",
     "output_type": "error",
     "traceback": [
      "\u001b[1;31m---------------------------------------------------------------------------\u001b[0m",
      "\u001b[1;31mElementNotInteractableException\u001b[0m           Traceback (most recent call last)",
      "\u001b[1;32m<ipython-input-147-165d5f864c88>\u001b[0m in \u001b[0;36m<module>\u001b[1;34m\u001b[0m\n\u001b[0;32m      4\u001b[0m \u001b[1;32mfor\u001b[0m \u001b[0mi\u001b[0m \u001b[1;32min\u001b[0m \u001b[0mrange\u001b[0m\u001b[1;33m(\u001b[0m\u001b[1;36m1\u001b[0m\u001b[1;33m,\u001b[0m \u001b[1;36m21\u001b[0m\u001b[1;33m)\u001b[0m\u001b[1;33m:\u001b[0m\u001b[1;33m\u001b[0m\u001b[1;33m\u001b[0m\u001b[0m\n\u001b[0;32m      5\u001b[0m     \u001b[0mbook_path\u001b[0m \u001b[1;33m=\u001b[0m \u001b[1;34m'/html/body/div[3]/div[2]/div[2]/li[%d]/div/span/img'\u001b[0m \u001b[1;33m%\u001b[0m\u001b[0mi\u001b[0m\u001b[1;33m\u001b[0m\u001b[1;33m\u001b[0m\u001b[0m\n\u001b[1;32m----> 6\u001b[1;33m     \u001b[0mbook_drive\u001b[0m\u001b[1;33m.\u001b[0m\u001b[0mfind_element_by_xpath\u001b[0m\u001b[1;33m(\u001b[0m\u001b[0mbook_path\u001b[0m\u001b[1;33m)\u001b[0m\u001b[1;33m.\u001b[0m\u001b[0mclick\u001b[0m\u001b[1;33m(\u001b[0m\u001b[1;33m)\u001b[0m\u001b[1;33m\u001b[0m\u001b[1;33m\u001b[0m\u001b[0m\n\u001b[0m\u001b[0;32m      7\u001b[0m     \u001b[0mone_book\u001b[0m \u001b[1;33m=\u001b[0m \u001b[0mbook_drive\u001b[0m\u001b[1;33m.\u001b[0m\u001b[0mpage_source\u001b[0m\u001b[1;33m\u001b[0m\u001b[1;33m\u001b[0m\u001b[0m\n\u001b[0;32m      8\u001b[0m     \u001b[0mbs1\u001b[0m \u001b[1;33m=\u001b[0m \u001b[0mbs\u001b[0m\u001b[1;33m.\u001b[0m\u001b[0mBeautifulSoup\u001b[0m\u001b[1;33m(\u001b[0m\u001b[0mone_book\u001b[0m\u001b[1;33m)\u001b[0m\u001b[1;33m\u001b[0m\u001b[1;33m\u001b[0m\u001b[0m\n",
      "\u001b[1;32m~\\anaconda3\\lib\\site-packages\\selenium\\webdriver\\remote\\webelement.py\u001b[0m in \u001b[0;36mclick\u001b[1;34m(self)\u001b[0m\n\u001b[0;32m     78\u001b[0m     \u001b[1;32mdef\u001b[0m \u001b[0mclick\u001b[0m\u001b[1;33m(\u001b[0m\u001b[0mself\u001b[0m\u001b[1;33m)\u001b[0m\u001b[1;33m:\u001b[0m\u001b[1;33m\u001b[0m\u001b[1;33m\u001b[0m\u001b[0m\n\u001b[0;32m     79\u001b[0m         \u001b[1;34m\"\"\"Clicks the element.\"\"\"\u001b[0m\u001b[1;33m\u001b[0m\u001b[1;33m\u001b[0m\u001b[0m\n\u001b[1;32m---> 80\u001b[1;33m         \u001b[0mself\u001b[0m\u001b[1;33m.\u001b[0m\u001b[0m_execute\u001b[0m\u001b[1;33m(\u001b[0m\u001b[0mCommand\u001b[0m\u001b[1;33m.\u001b[0m\u001b[0mCLICK_ELEMENT\u001b[0m\u001b[1;33m)\u001b[0m\u001b[1;33m\u001b[0m\u001b[1;33m\u001b[0m\u001b[0m\n\u001b[0m\u001b[0;32m     81\u001b[0m \u001b[1;33m\u001b[0m\u001b[0m\n\u001b[0;32m     82\u001b[0m     \u001b[1;32mdef\u001b[0m \u001b[0msubmit\u001b[0m\u001b[1;33m(\u001b[0m\u001b[0mself\u001b[0m\u001b[1;33m)\u001b[0m\u001b[1;33m:\u001b[0m\u001b[1;33m\u001b[0m\u001b[1;33m\u001b[0m\u001b[0m\n",
      "\u001b[1;32m~\\anaconda3\\lib\\site-packages\\selenium\\webdriver\\remote\\webelement.py\u001b[0m in \u001b[0;36m_execute\u001b[1;34m(self, command, params)\u001b[0m\n\u001b[0;32m    631\u001b[0m             \u001b[0mparams\u001b[0m \u001b[1;33m=\u001b[0m \u001b[1;33m{\u001b[0m\u001b[1;33m}\u001b[0m\u001b[1;33m\u001b[0m\u001b[1;33m\u001b[0m\u001b[0m\n\u001b[0;32m    632\u001b[0m         \u001b[0mparams\u001b[0m\u001b[1;33m[\u001b[0m\u001b[1;34m'id'\u001b[0m\u001b[1;33m]\u001b[0m \u001b[1;33m=\u001b[0m \u001b[0mself\u001b[0m\u001b[1;33m.\u001b[0m\u001b[0m_id\u001b[0m\u001b[1;33m\u001b[0m\u001b[1;33m\u001b[0m\u001b[0m\n\u001b[1;32m--> 633\u001b[1;33m         \u001b[1;32mreturn\u001b[0m \u001b[0mself\u001b[0m\u001b[1;33m.\u001b[0m\u001b[0m_parent\u001b[0m\u001b[1;33m.\u001b[0m\u001b[0mexecute\u001b[0m\u001b[1;33m(\u001b[0m\u001b[0mcommand\u001b[0m\u001b[1;33m,\u001b[0m \u001b[0mparams\u001b[0m\u001b[1;33m)\u001b[0m\u001b[1;33m\u001b[0m\u001b[1;33m\u001b[0m\u001b[0m\n\u001b[0m\u001b[0;32m    634\u001b[0m \u001b[1;33m\u001b[0m\u001b[0m\n\u001b[0;32m    635\u001b[0m     \u001b[1;32mdef\u001b[0m \u001b[0mfind_element\u001b[0m\u001b[1;33m(\u001b[0m\u001b[0mself\u001b[0m\u001b[1;33m,\u001b[0m \u001b[0mby\u001b[0m\u001b[1;33m=\u001b[0m\u001b[0mBy\u001b[0m\u001b[1;33m.\u001b[0m\u001b[0mID\u001b[0m\u001b[1;33m,\u001b[0m \u001b[0mvalue\u001b[0m\u001b[1;33m=\u001b[0m\u001b[1;32mNone\u001b[0m\u001b[1;33m)\u001b[0m\u001b[1;33m:\u001b[0m\u001b[1;33m\u001b[0m\u001b[1;33m\u001b[0m\u001b[0m\n",
      "\u001b[1;32m~\\anaconda3\\lib\\site-packages\\selenium\\webdriver\\remote\\webdriver.py\u001b[0m in \u001b[0;36mexecute\u001b[1;34m(self, driver_command, params)\u001b[0m\n\u001b[0;32m    319\u001b[0m         \u001b[0mresponse\u001b[0m \u001b[1;33m=\u001b[0m \u001b[0mself\u001b[0m\u001b[1;33m.\u001b[0m\u001b[0mcommand_executor\u001b[0m\u001b[1;33m.\u001b[0m\u001b[0mexecute\u001b[0m\u001b[1;33m(\u001b[0m\u001b[0mdriver_command\u001b[0m\u001b[1;33m,\u001b[0m \u001b[0mparams\u001b[0m\u001b[1;33m)\u001b[0m\u001b[1;33m\u001b[0m\u001b[1;33m\u001b[0m\u001b[0m\n\u001b[0;32m    320\u001b[0m         \u001b[1;32mif\u001b[0m \u001b[0mresponse\u001b[0m\u001b[1;33m:\u001b[0m\u001b[1;33m\u001b[0m\u001b[1;33m\u001b[0m\u001b[0m\n\u001b[1;32m--> 321\u001b[1;33m             \u001b[0mself\u001b[0m\u001b[1;33m.\u001b[0m\u001b[0merror_handler\u001b[0m\u001b[1;33m.\u001b[0m\u001b[0mcheck_response\u001b[0m\u001b[1;33m(\u001b[0m\u001b[0mresponse\u001b[0m\u001b[1;33m)\u001b[0m\u001b[1;33m\u001b[0m\u001b[1;33m\u001b[0m\u001b[0m\n\u001b[0m\u001b[0;32m    322\u001b[0m             response['value'] = self._unwrap_value(\n\u001b[0;32m    323\u001b[0m                 response.get('value', None))\n",
      "\u001b[1;32m~\\anaconda3\\lib\\site-packages\\selenium\\webdriver\\remote\\errorhandler.py\u001b[0m in \u001b[0;36mcheck_response\u001b[1;34m(self, response)\u001b[0m\n\u001b[0;32m    240\u001b[0m                 \u001b[0malert_text\u001b[0m \u001b[1;33m=\u001b[0m \u001b[0mvalue\u001b[0m\u001b[1;33m[\u001b[0m\u001b[1;34m'alert'\u001b[0m\u001b[1;33m]\u001b[0m\u001b[1;33m.\u001b[0m\u001b[0mget\u001b[0m\u001b[1;33m(\u001b[0m\u001b[1;34m'text'\u001b[0m\u001b[1;33m)\u001b[0m\u001b[1;33m\u001b[0m\u001b[1;33m\u001b[0m\u001b[0m\n\u001b[0;32m    241\u001b[0m             \u001b[1;32mraise\u001b[0m \u001b[0mexception_class\u001b[0m\u001b[1;33m(\u001b[0m\u001b[0mmessage\u001b[0m\u001b[1;33m,\u001b[0m \u001b[0mscreen\u001b[0m\u001b[1;33m,\u001b[0m \u001b[0mstacktrace\u001b[0m\u001b[1;33m,\u001b[0m \u001b[0malert_text\u001b[0m\u001b[1;33m)\u001b[0m\u001b[1;33m\u001b[0m\u001b[1;33m\u001b[0m\u001b[0m\n\u001b[1;32m--> 242\u001b[1;33m         \u001b[1;32mraise\u001b[0m \u001b[0mexception_class\u001b[0m\u001b[1;33m(\u001b[0m\u001b[0mmessage\u001b[0m\u001b[1;33m,\u001b[0m \u001b[0mscreen\u001b[0m\u001b[1;33m,\u001b[0m \u001b[0mstacktrace\u001b[0m\u001b[1;33m)\u001b[0m\u001b[1;33m\u001b[0m\u001b[1;33m\u001b[0m\u001b[0m\n\u001b[0m\u001b[0;32m    243\u001b[0m \u001b[1;33m\u001b[0m\u001b[0m\n\u001b[0;32m    244\u001b[0m     \u001b[1;32mdef\u001b[0m \u001b[0m_value_or_default\u001b[0m\u001b[1;33m(\u001b[0m\u001b[0mself\u001b[0m\u001b[1;33m,\u001b[0m \u001b[0mobj\u001b[0m\u001b[1;33m,\u001b[0m \u001b[0mkey\u001b[0m\u001b[1;33m,\u001b[0m \u001b[0mdefault\u001b[0m\u001b[1;33m)\u001b[0m\u001b[1;33m:\u001b[0m\u001b[1;33m\u001b[0m\u001b[1;33m\u001b[0m\u001b[0m\n",
      "\u001b[1;31mElementNotInteractableException\u001b[0m: Message: element not interactable\n  (Session info: chrome=83.0.4103.61)\n"
     ]
    }
   ],
   "source": [
    "book_drive = webdriver.Chrome(real_path)\n",
    "\n",
    "book_drive.get(url)\n",
    "for i in range(1, 21):\n",
    "    book_path = '/html/body/div[3]/div[2]/div[2]/li[%d]/div/span/img' %i\n",
    "    book_drive.find_element_by_xpath(book_path).click()\n",
    "    one_book = book_drive.page_source\n",
    "    bs1 = bs.BeautifulSoup(one_book)\n",
    "    title = bs1.find(\"div\", class_ = \"store_product_info_box\").find(\"h3\").text\n",
    "    tags = bs1.find(\"div\", class_ = \"store_product_info_box\").find(\"div\", class_= \"tag_area\").find_all(\"a\")\n",
    "    real_tag = [t.text for t in tags]\n",
    "    print(f\"title : {title}\\ntag : {real_tag}\\n\\n\")\n",
    "    time.sleep(1.5)\n",
    "    book_drive.back()"
   ]
  },
  {
   "cell_type": "code",
   "execution_count": 121,
   "metadata": {},
   "outputs": [
    {
     "data": {
      "text/plain": [
       "['이더리움',\n",
       " '디앱',\n",
       " 'Dapp',\n",
       " '탈중앙화',\n",
       " '솔리디티',\n",
       " '스마트 컨트랙트',\n",
       " '스마트 계약',\n",
       " '블록체인',\n",
       " '트랜잭션',\n",
       " '머클 트리',\n",
       " '머클 트라이',\n",
       " '공개키 암호화',\n",
       " '서명 생성',\n",
       " '서명 검증',\n",
       " '채굴',\n",
       " '마이닝',\n",
       " '프레임워크',\n",
       " '트러플',\n",
       " '모카',\n",
       " '가나슈',\n",
       " 'geth',\n",
       " 'EVM',\n",
       " 'Web3.js',\n",
       " '유닛 테스트',\n",
       " '보안',\n",
       " '배포',\n",
       " '암호화폐']"
      ]
     },
     "execution_count": 121,
     "metadata": {},
     "output_type": "execute_result"
    }
   ],
   "source": [
    "real_tags = [tag.text for tag in tags]\n",
    "    \n",
    "real_tags"
   ]
  },
  {
   "cell_type": "code",
   "execution_count": 161,
   "metadata": {},
   "outputs": [
    {
     "ename": "IndexError",
     "evalue": "list index out of range",
     "output_type": "error",
     "traceback": [
      "\u001b[1;31m---------------------------------------------------------------------------\u001b[0m",
      "\u001b[1;31mIndexError\u001b[0m                                Traceback (most recent call last)",
      "\u001b[1;32m<ipython-input-161-c4cf3b468c86>\u001b[0m in \u001b[0;36m<module>\u001b[1;34m\u001b[0m\n\u001b[0;32m      4\u001b[0m \u001b[1;32mimport\u001b[0m \u001b[0mtime\u001b[0m\u001b[1;33m\u001b[0m\u001b[1;33m\u001b[0m\u001b[0m\n\u001b[0;32m      5\u001b[0m \u001b[0mpath\u001b[0m \u001b[1;33m=\u001b[0m \u001b[1;34m'C:/Users/KGITBANK501/Downloads/chromedriver_win32 (1)'\u001b[0m\u001b[1;33m\u001b[0m\u001b[1;33m\u001b[0m\u001b[0m\n\u001b[1;32m----> 6\u001b[1;33m \u001b[0mreal_path\u001b[0m \u001b[1;33m=\u001b[0m \u001b[0mglob\u001b[0m\u001b[1;33m(\u001b[0m\u001b[0mpath\u001b[0m \u001b[1;33m+\u001b[0m \u001b[1;34m'/*'\u001b[0m\u001b[1;33m)\u001b[0m\u001b[1;33m[\u001b[0m\u001b[1;36m0\u001b[0m\u001b[1;33m]\u001b[0m\u001b[1;33m\u001b[0m\u001b[1;33m\u001b[0m\u001b[0m\n\u001b[0m\u001b[0;32m      7\u001b[0m \u001b[0mdriver\u001b[0m \u001b[1;33m=\u001b[0m \u001b[0mwebdriver\u001b[0m\u001b[1;33m.\u001b[0m\u001b[0mChrome\u001b[0m\u001b[1;33m(\u001b[0m\u001b[0mreal_path\u001b[0m\u001b[1;33m)\u001b[0m\u001b[1;33m\u001b[0m\u001b[1;33m\u001b[0m\u001b[0m\n\u001b[0;32m      8\u001b[0m \u001b[0mdriver\u001b[0m\u001b[1;33m.\u001b[0m\u001b[0mget\u001b[0m\u001b[1;33m(\u001b[0m\u001b[1;34m'https://www.hanbit.co.kr/store/books/new_book_list.html'\u001b[0m\u001b[1;33m)\u001b[0m\u001b[1;33m\u001b[0m\u001b[1;33m\u001b[0m\u001b[0m\n",
      "\u001b[1;31mIndexError\u001b[0m: list index out of range"
     ]
    }
   ],
   "source": [
    "from glob import glob\n",
    "from selenium import webdriver\n",
    "import bs4 as bs\n",
    "import time\n",
    "\n",
    "path = 'C:/Users/KGITBANK501/Downloads/chromedriver_win32 (1)'\n",
    "real_path = glob(path + '/*')[0]\n",
    "driver = webdriver.Chrome(real_path)\n",
    "driver.get('https://www.hanbit.co.kr/store/books/new_book_list.html')\n",
    "for i in range(20):\n",
    "    driver.fullscreen_window()\n",
    "    time.sleep(3)\n",
    "    book_path = f'//*[@id=\"container\"]/div[2]/div[2]/li[{i+1}]/div/span/img'\n",
    "    driver.find_element_by_xpath(book_path).click()\n",
    "    time.sleep(3)\n",
    "    one_book = driver.page_source\n",
    "    bs1 = bs.BeautifulSoup(one_book)\n",
    "    title = bs1.find('div', class_='store_product_info_box').find('h3').text\n",
    "    tags = bs1.find('div', class_='tag_area').find_all('a')\n",
    "    real_tag = [t.text for t in tags]\n",
    "    driver.back()"
   ]
  },
  {
   "cell_type": "code",
   "execution_count": 171,
   "metadata": {},
   "outputs": [
    {
     "ename": "KeyboardInterrupt",
     "evalue": "",
     "output_type": "error",
     "traceback": [
      "\u001b[1;31m---------------------------------------------------------------------------\u001b[0m",
      "\u001b[1;31mKeyboardInterrupt\u001b[0m                         Traceback (most recent call last)",
      "\u001b[1;32m<ipython-input-171-1912c76f84d9>\u001b[0m in \u001b[0;36m<module>\u001b[1;34m\u001b[0m\n\u001b[0;32m     15\u001b[0m     \u001b[0mdriver\u001b[0m\u001b[1;33m.\u001b[0m\u001b[0mfind_element_by_xpath\u001b[0m\u001b[1;33m(\u001b[0m\u001b[0mbook_path\u001b[0m\u001b[1;33m)\u001b[0m\u001b[1;33m.\u001b[0m\u001b[0mclick\u001b[0m\u001b[1;33m(\u001b[0m\u001b[1;33m)\u001b[0m\u001b[1;33m\u001b[0m\u001b[1;33m\u001b[0m\u001b[0m\n\u001b[0;32m     16\u001b[0m     \u001b[0mtime\u001b[0m\u001b[1;33m.\u001b[0m\u001b[0msleep\u001b[0m\u001b[1;33m(\u001b[0m\u001b[1;36m3\u001b[0m\u001b[1;33m)\u001b[0m\u001b[1;33m\u001b[0m\u001b[1;33m\u001b[0m\u001b[0m\n\u001b[1;32m---> 17\u001b[1;33m     \u001b[0mone_book\u001b[0m \u001b[1;33m=\u001b[0m \u001b[0mdriver\u001b[0m\u001b[1;33m.\u001b[0m\u001b[0mpage_source\u001b[0m\u001b[1;33m\u001b[0m\u001b[1;33m\u001b[0m\u001b[0m\n\u001b[0m\u001b[0;32m     18\u001b[0m     \u001b[0mbs1\u001b[0m \u001b[1;33m=\u001b[0m \u001b[0mbs\u001b[0m\u001b[1;33m.\u001b[0m\u001b[0mBeautifulSoup\u001b[0m\u001b[1;33m(\u001b[0m\u001b[0mone_book\u001b[0m\u001b[1;33m)\u001b[0m\u001b[1;33m\u001b[0m\u001b[1;33m\u001b[0m\u001b[0m\n\u001b[0;32m     19\u001b[0m     \u001b[0mtitle\u001b[0m \u001b[1;33m=\u001b[0m \u001b[0mbs1\u001b[0m\u001b[1;33m.\u001b[0m\u001b[0mfind\u001b[0m\u001b[1;33m(\u001b[0m\u001b[1;34m'div'\u001b[0m\u001b[1;33m,\u001b[0m \u001b[0mclass_\u001b[0m\u001b[1;33m=\u001b[0m\u001b[1;34m'store_product_info_box'\u001b[0m\u001b[1;33m)\u001b[0m\u001b[1;33m.\u001b[0m\u001b[0mfind\u001b[0m\u001b[1;33m(\u001b[0m\u001b[1;34m'h3'\u001b[0m\u001b[1;33m)\u001b[0m\u001b[1;33m.\u001b[0m\u001b[0mtext\u001b[0m\u001b[1;33m\u001b[0m\u001b[1;33m\u001b[0m\u001b[0m\n",
      "\u001b[1;32m~\\anaconda3\\lib\\site-packages\\selenium\\webdriver\\remote\\webdriver.py\u001b[0m in \u001b[0;36mpage_source\u001b[1;34m(self)\u001b[0m\n\u001b[0;32m    677\u001b[0m             \u001b[0mdriver\u001b[0m\u001b[1;33m.\u001b[0m\u001b[0mpage_source\u001b[0m\u001b[1;33m\u001b[0m\u001b[1;33m\u001b[0m\u001b[0m\n\u001b[0;32m    678\u001b[0m         \"\"\"\n\u001b[1;32m--> 679\u001b[1;33m         \u001b[1;32mreturn\u001b[0m \u001b[0mself\u001b[0m\u001b[1;33m.\u001b[0m\u001b[0mexecute\u001b[0m\u001b[1;33m(\u001b[0m\u001b[0mCommand\u001b[0m\u001b[1;33m.\u001b[0m\u001b[0mGET_PAGE_SOURCE\u001b[0m\u001b[1;33m)\u001b[0m\u001b[1;33m[\u001b[0m\u001b[1;34m'value'\u001b[0m\u001b[1;33m]\u001b[0m\u001b[1;33m\u001b[0m\u001b[1;33m\u001b[0m\u001b[0m\n\u001b[0m\u001b[0;32m    680\u001b[0m \u001b[1;33m\u001b[0m\u001b[0m\n\u001b[0;32m    681\u001b[0m     \u001b[1;32mdef\u001b[0m \u001b[0mclose\u001b[0m\u001b[1;33m(\u001b[0m\u001b[0mself\u001b[0m\u001b[1;33m)\u001b[0m\u001b[1;33m:\u001b[0m\u001b[1;33m\u001b[0m\u001b[1;33m\u001b[0m\u001b[0m\n",
      "\u001b[1;32m~\\anaconda3\\lib\\site-packages\\selenium\\webdriver\\remote\\webdriver.py\u001b[0m in \u001b[0;36mexecute\u001b[1;34m(self, driver_command, params)\u001b[0m\n\u001b[0;32m    317\u001b[0m \u001b[1;33m\u001b[0m\u001b[0m\n\u001b[0;32m    318\u001b[0m         \u001b[0mparams\u001b[0m \u001b[1;33m=\u001b[0m \u001b[0mself\u001b[0m\u001b[1;33m.\u001b[0m\u001b[0m_wrap_value\u001b[0m\u001b[1;33m(\u001b[0m\u001b[0mparams\u001b[0m\u001b[1;33m)\u001b[0m\u001b[1;33m\u001b[0m\u001b[1;33m\u001b[0m\u001b[0m\n\u001b[1;32m--> 319\u001b[1;33m         \u001b[0mresponse\u001b[0m \u001b[1;33m=\u001b[0m \u001b[0mself\u001b[0m\u001b[1;33m.\u001b[0m\u001b[0mcommand_executor\u001b[0m\u001b[1;33m.\u001b[0m\u001b[0mexecute\u001b[0m\u001b[1;33m(\u001b[0m\u001b[0mdriver_command\u001b[0m\u001b[1;33m,\u001b[0m \u001b[0mparams\u001b[0m\u001b[1;33m)\u001b[0m\u001b[1;33m\u001b[0m\u001b[1;33m\u001b[0m\u001b[0m\n\u001b[0m\u001b[0;32m    320\u001b[0m         \u001b[1;32mif\u001b[0m \u001b[0mresponse\u001b[0m\u001b[1;33m:\u001b[0m\u001b[1;33m\u001b[0m\u001b[1;33m\u001b[0m\u001b[0m\n\u001b[0;32m    321\u001b[0m             \u001b[0mself\u001b[0m\u001b[1;33m.\u001b[0m\u001b[0merror_handler\u001b[0m\u001b[1;33m.\u001b[0m\u001b[0mcheck_response\u001b[0m\u001b[1;33m(\u001b[0m\u001b[0mresponse\u001b[0m\u001b[1;33m)\u001b[0m\u001b[1;33m\u001b[0m\u001b[1;33m\u001b[0m\u001b[0m\n",
      "\u001b[1;32m~\\anaconda3\\lib\\site-packages\\selenium\\webdriver\\remote\\remote_connection.py\u001b[0m in \u001b[0;36mexecute\u001b[1;34m(self, command, params)\u001b[0m\n\u001b[0;32m    372\u001b[0m         \u001b[0mdata\u001b[0m \u001b[1;33m=\u001b[0m \u001b[0mutils\u001b[0m\u001b[1;33m.\u001b[0m\u001b[0mdump_json\u001b[0m\u001b[1;33m(\u001b[0m\u001b[0mparams\u001b[0m\u001b[1;33m)\u001b[0m\u001b[1;33m\u001b[0m\u001b[1;33m\u001b[0m\u001b[0m\n\u001b[0;32m    373\u001b[0m         \u001b[0murl\u001b[0m \u001b[1;33m=\u001b[0m \u001b[1;34m'%s%s'\u001b[0m \u001b[1;33m%\u001b[0m \u001b[1;33m(\u001b[0m\u001b[0mself\u001b[0m\u001b[1;33m.\u001b[0m\u001b[0m_url\u001b[0m\u001b[1;33m,\u001b[0m \u001b[0mpath\u001b[0m\u001b[1;33m)\u001b[0m\u001b[1;33m\u001b[0m\u001b[1;33m\u001b[0m\u001b[0m\n\u001b[1;32m--> 374\u001b[1;33m         \u001b[1;32mreturn\u001b[0m \u001b[0mself\u001b[0m\u001b[1;33m.\u001b[0m\u001b[0m_request\u001b[0m\u001b[1;33m(\u001b[0m\u001b[0mcommand_info\u001b[0m\u001b[1;33m[\u001b[0m\u001b[1;36m0\u001b[0m\u001b[1;33m]\u001b[0m\u001b[1;33m,\u001b[0m \u001b[0murl\u001b[0m\u001b[1;33m,\u001b[0m \u001b[0mbody\u001b[0m\u001b[1;33m=\u001b[0m\u001b[0mdata\u001b[0m\u001b[1;33m)\u001b[0m\u001b[1;33m\u001b[0m\u001b[1;33m\u001b[0m\u001b[0m\n\u001b[0m\u001b[0;32m    375\u001b[0m \u001b[1;33m\u001b[0m\u001b[0m\n\u001b[0;32m    376\u001b[0m     \u001b[1;32mdef\u001b[0m \u001b[0m_request\u001b[0m\u001b[1;33m(\u001b[0m\u001b[0mself\u001b[0m\u001b[1;33m,\u001b[0m \u001b[0mmethod\u001b[0m\u001b[1;33m,\u001b[0m \u001b[0murl\u001b[0m\u001b[1;33m,\u001b[0m \u001b[0mbody\u001b[0m\u001b[1;33m=\u001b[0m\u001b[1;32mNone\u001b[0m\u001b[1;33m)\u001b[0m\u001b[1;33m:\u001b[0m\u001b[1;33m\u001b[0m\u001b[1;33m\u001b[0m\u001b[0m\n",
      "\u001b[1;32m~\\anaconda3\\lib\\site-packages\\selenium\\webdriver\\remote\\remote_connection.py\u001b[0m in \u001b[0;36m_request\u001b[1;34m(self, method, url, body)\u001b[0m\n\u001b[0;32m    395\u001b[0m \u001b[1;33m\u001b[0m\u001b[0m\n\u001b[0;32m    396\u001b[0m         \u001b[1;32mif\u001b[0m \u001b[0mself\u001b[0m\u001b[1;33m.\u001b[0m\u001b[0mkeep_alive\u001b[0m\u001b[1;33m:\u001b[0m\u001b[1;33m\u001b[0m\u001b[1;33m\u001b[0m\u001b[0m\n\u001b[1;32m--> 397\u001b[1;33m             \u001b[0mresp\u001b[0m \u001b[1;33m=\u001b[0m \u001b[0mself\u001b[0m\u001b[1;33m.\u001b[0m\u001b[0m_conn\u001b[0m\u001b[1;33m.\u001b[0m\u001b[0mrequest\u001b[0m\u001b[1;33m(\u001b[0m\u001b[0mmethod\u001b[0m\u001b[1;33m,\u001b[0m \u001b[0murl\u001b[0m\u001b[1;33m,\u001b[0m \u001b[0mbody\u001b[0m\u001b[1;33m=\u001b[0m\u001b[0mbody\u001b[0m\u001b[1;33m,\u001b[0m \u001b[0mheaders\u001b[0m\u001b[1;33m=\u001b[0m\u001b[0mheaders\u001b[0m\u001b[1;33m)\u001b[0m\u001b[1;33m\u001b[0m\u001b[1;33m\u001b[0m\u001b[0m\n\u001b[0m\u001b[0;32m    398\u001b[0m \u001b[1;33m\u001b[0m\u001b[0m\n\u001b[0;32m    399\u001b[0m             \u001b[0mstatuscode\u001b[0m \u001b[1;33m=\u001b[0m \u001b[0mresp\u001b[0m\u001b[1;33m.\u001b[0m\u001b[0mstatus\u001b[0m\u001b[1;33m\u001b[0m\u001b[1;33m\u001b[0m\u001b[0m\n",
      "\u001b[1;32m~\\anaconda3\\lib\\site-packages\\urllib3\\request.py\u001b[0m in \u001b[0;36mrequest\u001b[1;34m(self, method, url, fields, headers, **urlopen_kw)\u001b[0m\n\u001b[0;32m     74\u001b[0m         \u001b[1;32mif\u001b[0m \u001b[0mmethod\u001b[0m \u001b[1;32min\u001b[0m \u001b[0mself\u001b[0m\u001b[1;33m.\u001b[0m\u001b[0m_encode_url_methods\u001b[0m\u001b[1;33m:\u001b[0m\u001b[1;33m\u001b[0m\u001b[1;33m\u001b[0m\u001b[0m\n\u001b[0;32m     75\u001b[0m             return self.request_encode_url(\n\u001b[1;32m---> 76\u001b[1;33m                 \u001b[0mmethod\u001b[0m\u001b[1;33m,\u001b[0m \u001b[0murl\u001b[0m\u001b[1;33m,\u001b[0m \u001b[0mfields\u001b[0m\u001b[1;33m=\u001b[0m\u001b[0mfields\u001b[0m\u001b[1;33m,\u001b[0m \u001b[0mheaders\u001b[0m\u001b[1;33m=\u001b[0m\u001b[0mheaders\u001b[0m\u001b[1;33m,\u001b[0m \u001b[1;33m**\u001b[0m\u001b[0murlopen_kw\u001b[0m\u001b[1;33m\u001b[0m\u001b[1;33m\u001b[0m\u001b[0m\n\u001b[0m\u001b[0;32m     77\u001b[0m             )\n\u001b[0;32m     78\u001b[0m         \u001b[1;32melse\u001b[0m\u001b[1;33m:\u001b[0m\u001b[1;33m\u001b[0m\u001b[1;33m\u001b[0m\u001b[0m\n",
      "\u001b[1;32m~\\anaconda3\\lib\\site-packages\\urllib3\\request.py\u001b[0m in \u001b[0;36mrequest_encode_url\u001b[1;34m(self, method, url, fields, headers, **urlopen_kw)\u001b[0m\n\u001b[0;32m     95\u001b[0m             \u001b[0murl\u001b[0m \u001b[1;33m+=\u001b[0m \u001b[1;34m\"?\"\u001b[0m \u001b[1;33m+\u001b[0m \u001b[0murlencode\u001b[0m\u001b[1;33m(\u001b[0m\u001b[0mfields\u001b[0m\u001b[1;33m)\u001b[0m\u001b[1;33m\u001b[0m\u001b[1;33m\u001b[0m\u001b[0m\n\u001b[0;32m     96\u001b[0m \u001b[1;33m\u001b[0m\u001b[0m\n\u001b[1;32m---> 97\u001b[1;33m         \u001b[1;32mreturn\u001b[0m \u001b[0mself\u001b[0m\u001b[1;33m.\u001b[0m\u001b[0murlopen\u001b[0m\u001b[1;33m(\u001b[0m\u001b[0mmethod\u001b[0m\u001b[1;33m,\u001b[0m \u001b[0murl\u001b[0m\u001b[1;33m,\u001b[0m \u001b[1;33m**\u001b[0m\u001b[0mextra_kw\u001b[0m\u001b[1;33m)\u001b[0m\u001b[1;33m\u001b[0m\u001b[1;33m\u001b[0m\u001b[0m\n\u001b[0m\u001b[0;32m     98\u001b[0m \u001b[1;33m\u001b[0m\u001b[0m\n\u001b[0;32m     99\u001b[0m     def request_encode_body(\n",
      "\u001b[1;32m~\\anaconda3\\lib\\site-packages\\urllib3\\poolmanager.py\u001b[0m in \u001b[0;36murlopen\u001b[1;34m(self, method, url, redirect, **kw)\u001b[0m\n\u001b[0;32m    328\u001b[0m             \u001b[0mresponse\u001b[0m \u001b[1;33m=\u001b[0m \u001b[0mconn\u001b[0m\u001b[1;33m.\u001b[0m\u001b[0murlopen\u001b[0m\u001b[1;33m(\u001b[0m\u001b[0mmethod\u001b[0m\u001b[1;33m,\u001b[0m \u001b[0murl\u001b[0m\u001b[1;33m,\u001b[0m \u001b[1;33m**\u001b[0m\u001b[0mkw\u001b[0m\u001b[1;33m)\u001b[0m\u001b[1;33m\u001b[0m\u001b[1;33m\u001b[0m\u001b[0m\n\u001b[0;32m    329\u001b[0m         \u001b[1;32melse\u001b[0m\u001b[1;33m:\u001b[0m\u001b[1;33m\u001b[0m\u001b[1;33m\u001b[0m\u001b[0m\n\u001b[1;32m--> 330\u001b[1;33m             \u001b[0mresponse\u001b[0m \u001b[1;33m=\u001b[0m \u001b[0mconn\u001b[0m\u001b[1;33m.\u001b[0m\u001b[0murlopen\u001b[0m\u001b[1;33m(\u001b[0m\u001b[0mmethod\u001b[0m\u001b[1;33m,\u001b[0m \u001b[0mu\u001b[0m\u001b[1;33m.\u001b[0m\u001b[0mrequest_uri\u001b[0m\u001b[1;33m,\u001b[0m \u001b[1;33m**\u001b[0m\u001b[0mkw\u001b[0m\u001b[1;33m)\u001b[0m\u001b[1;33m\u001b[0m\u001b[1;33m\u001b[0m\u001b[0m\n\u001b[0m\u001b[0;32m    331\u001b[0m \u001b[1;33m\u001b[0m\u001b[0m\n\u001b[0;32m    332\u001b[0m         \u001b[0mredirect_location\u001b[0m \u001b[1;33m=\u001b[0m \u001b[0mredirect\u001b[0m \u001b[1;32mand\u001b[0m \u001b[0mresponse\u001b[0m\u001b[1;33m.\u001b[0m\u001b[0mget_redirect_location\u001b[0m\u001b[1;33m(\u001b[0m\u001b[1;33m)\u001b[0m\u001b[1;33m\u001b[0m\u001b[1;33m\u001b[0m\u001b[0m\n",
      "\u001b[1;32m~\\anaconda3\\lib\\site-packages\\urllib3\\connectionpool.py\u001b[0m in \u001b[0;36murlopen\u001b[1;34m(self, method, url, body, headers, retries, redirect, assert_same_host, timeout, pool_timeout, release_conn, chunked, body_pos, **response_kw)\u001b[0m\n\u001b[0;32m    670\u001b[0m                 \u001b[0mbody\u001b[0m\u001b[1;33m=\u001b[0m\u001b[0mbody\u001b[0m\u001b[1;33m,\u001b[0m\u001b[1;33m\u001b[0m\u001b[1;33m\u001b[0m\u001b[0m\n\u001b[0;32m    671\u001b[0m                 \u001b[0mheaders\u001b[0m\u001b[1;33m=\u001b[0m\u001b[0mheaders\u001b[0m\u001b[1;33m,\u001b[0m\u001b[1;33m\u001b[0m\u001b[1;33m\u001b[0m\u001b[0m\n\u001b[1;32m--> 672\u001b[1;33m                 \u001b[0mchunked\u001b[0m\u001b[1;33m=\u001b[0m\u001b[0mchunked\u001b[0m\u001b[1;33m,\u001b[0m\u001b[1;33m\u001b[0m\u001b[1;33m\u001b[0m\u001b[0m\n\u001b[0m\u001b[0;32m    673\u001b[0m             )\n\u001b[0;32m    674\u001b[0m \u001b[1;33m\u001b[0m\u001b[0m\n",
      "\u001b[1;32m~\\anaconda3\\lib\\site-packages\\urllib3\\connectionpool.py\u001b[0m in \u001b[0;36m_make_request\u001b[1;34m(self, conn, method, url, timeout, chunked, **httplib_request_kw)\u001b[0m\n\u001b[0;32m    419\u001b[0m                     \u001b[1;31m# Python 3 (including for exceptions like SystemExit).\u001b[0m\u001b[1;33m\u001b[0m\u001b[1;33m\u001b[0m\u001b[1;33m\u001b[0m\u001b[0m\n\u001b[0;32m    420\u001b[0m                     \u001b[1;31m# Otherwise it looks like a bug in the code.\u001b[0m\u001b[1;33m\u001b[0m\u001b[1;33m\u001b[0m\u001b[1;33m\u001b[0m\u001b[0m\n\u001b[1;32m--> 421\u001b[1;33m                     \u001b[0msix\u001b[0m\u001b[1;33m.\u001b[0m\u001b[0mraise_from\u001b[0m\u001b[1;33m(\u001b[0m\u001b[0me\u001b[0m\u001b[1;33m,\u001b[0m \u001b[1;32mNone\u001b[0m\u001b[1;33m)\u001b[0m\u001b[1;33m\u001b[0m\u001b[1;33m\u001b[0m\u001b[0m\n\u001b[0m\u001b[0;32m    422\u001b[0m         \u001b[1;32mexcept\u001b[0m \u001b[1;33m(\u001b[0m\u001b[0mSocketTimeout\u001b[0m\u001b[1;33m,\u001b[0m \u001b[0mBaseSSLError\u001b[0m\u001b[1;33m,\u001b[0m \u001b[0mSocketError\u001b[0m\u001b[1;33m)\u001b[0m \u001b[1;32mas\u001b[0m \u001b[0me\u001b[0m\u001b[1;33m:\u001b[0m\u001b[1;33m\u001b[0m\u001b[1;33m\u001b[0m\u001b[0m\n\u001b[0;32m    423\u001b[0m             \u001b[0mself\u001b[0m\u001b[1;33m.\u001b[0m\u001b[0m_raise_timeout\u001b[0m\u001b[1;33m(\u001b[0m\u001b[0merr\u001b[0m\u001b[1;33m=\u001b[0m\u001b[0me\u001b[0m\u001b[1;33m,\u001b[0m \u001b[0murl\u001b[0m\u001b[1;33m=\u001b[0m\u001b[0murl\u001b[0m\u001b[1;33m,\u001b[0m \u001b[0mtimeout_value\u001b[0m\u001b[1;33m=\u001b[0m\u001b[0mread_timeout\u001b[0m\u001b[1;33m)\u001b[0m\u001b[1;33m\u001b[0m\u001b[1;33m\u001b[0m\u001b[0m\n",
      "\u001b[1;32m~\\anaconda3\\lib\\site-packages\\urllib3\\packages\\six.py\u001b[0m in \u001b[0;36mraise_from\u001b[1;34m(value, from_value)\u001b[0m\n",
      "\u001b[1;32m~\\anaconda3\\lib\\site-packages\\urllib3\\connectionpool.py\u001b[0m in \u001b[0;36m_make_request\u001b[1;34m(self, conn, method, url, timeout, chunked, **httplib_request_kw)\u001b[0m\n\u001b[0;32m    414\u001b[0m                 \u001b[1;31m# Python 3\u001b[0m\u001b[1;33m\u001b[0m\u001b[1;33m\u001b[0m\u001b[1;33m\u001b[0m\u001b[0m\n\u001b[0;32m    415\u001b[0m                 \u001b[1;32mtry\u001b[0m\u001b[1;33m:\u001b[0m\u001b[1;33m\u001b[0m\u001b[1;33m\u001b[0m\u001b[0m\n\u001b[1;32m--> 416\u001b[1;33m                     \u001b[0mhttplib_response\u001b[0m \u001b[1;33m=\u001b[0m \u001b[0mconn\u001b[0m\u001b[1;33m.\u001b[0m\u001b[0mgetresponse\u001b[0m\u001b[1;33m(\u001b[0m\u001b[1;33m)\u001b[0m\u001b[1;33m\u001b[0m\u001b[1;33m\u001b[0m\u001b[0m\n\u001b[0m\u001b[0;32m    417\u001b[0m                 \u001b[1;32mexcept\u001b[0m \u001b[0mBaseException\u001b[0m \u001b[1;32mas\u001b[0m \u001b[0me\u001b[0m\u001b[1;33m:\u001b[0m\u001b[1;33m\u001b[0m\u001b[1;33m\u001b[0m\u001b[0m\n\u001b[0;32m    418\u001b[0m                     \u001b[1;31m# Remove the TypeError from the exception chain in\u001b[0m\u001b[1;33m\u001b[0m\u001b[1;33m\u001b[0m\u001b[1;33m\u001b[0m\u001b[0m\n",
      "\u001b[1;32m~\\anaconda3\\lib\\http\\client.py\u001b[0m in \u001b[0;36mgetresponse\u001b[1;34m(self)\u001b[0m\n\u001b[0;32m   1342\u001b[0m         \u001b[1;32mtry\u001b[0m\u001b[1;33m:\u001b[0m\u001b[1;33m\u001b[0m\u001b[1;33m\u001b[0m\u001b[0m\n\u001b[0;32m   1343\u001b[0m             \u001b[1;32mtry\u001b[0m\u001b[1;33m:\u001b[0m\u001b[1;33m\u001b[0m\u001b[1;33m\u001b[0m\u001b[0m\n\u001b[1;32m-> 1344\u001b[1;33m                 \u001b[0mresponse\u001b[0m\u001b[1;33m.\u001b[0m\u001b[0mbegin\u001b[0m\u001b[1;33m(\u001b[0m\u001b[1;33m)\u001b[0m\u001b[1;33m\u001b[0m\u001b[1;33m\u001b[0m\u001b[0m\n\u001b[0m\u001b[0;32m   1345\u001b[0m             \u001b[1;32mexcept\u001b[0m \u001b[0mConnectionError\u001b[0m\u001b[1;33m:\u001b[0m\u001b[1;33m\u001b[0m\u001b[1;33m\u001b[0m\u001b[0m\n\u001b[0;32m   1346\u001b[0m                 \u001b[0mself\u001b[0m\u001b[1;33m.\u001b[0m\u001b[0mclose\u001b[0m\u001b[1;33m(\u001b[0m\u001b[1;33m)\u001b[0m\u001b[1;33m\u001b[0m\u001b[1;33m\u001b[0m\u001b[0m\n",
      "\u001b[1;32m~\\anaconda3\\lib\\http\\client.py\u001b[0m in \u001b[0;36mbegin\u001b[1;34m(self)\u001b[0m\n\u001b[0;32m    304\u001b[0m         \u001b[1;31m# read until we get a non-100 response\u001b[0m\u001b[1;33m\u001b[0m\u001b[1;33m\u001b[0m\u001b[1;33m\u001b[0m\u001b[0m\n\u001b[0;32m    305\u001b[0m         \u001b[1;32mwhile\u001b[0m \u001b[1;32mTrue\u001b[0m\u001b[1;33m:\u001b[0m\u001b[1;33m\u001b[0m\u001b[1;33m\u001b[0m\u001b[0m\n\u001b[1;32m--> 306\u001b[1;33m             \u001b[0mversion\u001b[0m\u001b[1;33m,\u001b[0m \u001b[0mstatus\u001b[0m\u001b[1;33m,\u001b[0m \u001b[0mreason\u001b[0m \u001b[1;33m=\u001b[0m \u001b[0mself\u001b[0m\u001b[1;33m.\u001b[0m\u001b[0m_read_status\u001b[0m\u001b[1;33m(\u001b[0m\u001b[1;33m)\u001b[0m\u001b[1;33m\u001b[0m\u001b[1;33m\u001b[0m\u001b[0m\n\u001b[0m\u001b[0;32m    307\u001b[0m             \u001b[1;32mif\u001b[0m \u001b[0mstatus\u001b[0m \u001b[1;33m!=\u001b[0m \u001b[0mCONTINUE\u001b[0m\u001b[1;33m:\u001b[0m\u001b[1;33m\u001b[0m\u001b[1;33m\u001b[0m\u001b[0m\n\u001b[0;32m    308\u001b[0m                 \u001b[1;32mbreak\u001b[0m\u001b[1;33m\u001b[0m\u001b[1;33m\u001b[0m\u001b[0m\n",
      "\u001b[1;32m~\\anaconda3\\lib\\http\\client.py\u001b[0m in \u001b[0;36m_read_status\u001b[1;34m(self)\u001b[0m\n\u001b[0;32m    265\u001b[0m \u001b[1;33m\u001b[0m\u001b[0m\n\u001b[0;32m    266\u001b[0m     \u001b[1;32mdef\u001b[0m \u001b[0m_read_status\u001b[0m\u001b[1;33m(\u001b[0m\u001b[0mself\u001b[0m\u001b[1;33m)\u001b[0m\u001b[1;33m:\u001b[0m\u001b[1;33m\u001b[0m\u001b[1;33m\u001b[0m\u001b[0m\n\u001b[1;32m--> 267\u001b[1;33m         \u001b[0mline\u001b[0m \u001b[1;33m=\u001b[0m \u001b[0mstr\u001b[0m\u001b[1;33m(\u001b[0m\u001b[0mself\u001b[0m\u001b[1;33m.\u001b[0m\u001b[0mfp\u001b[0m\u001b[1;33m.\u001b[0m\u001b[0mreadline\u001b[0m\u001b[1;33m(\u001b[0m\u001b[0m_MAXLINE\u001b[0m \u001b[1;33m+\u001b[0m \u001b[1;36m1\u001b[0m\u001b[1;33m)\u001b[0m\u001b[1;33m,\u001b[0m \u001b[1;34m\"iso-8859-1\"\u001b[0m\u001b[1;33m)\u001b[0m\u001b[1;33m\u001b[0m\u001b[1;33m\u001b[0m\u001b[0m\n\u001b[0m\u001b[0;32m    268\u001b[0m         \u001b[1;32mif\u001b[0m \u001b[0mlen\u001b[0m\u001b[1;33m(\u001b[0m\u001b[0mline\u001b[0m\u001b[1;33m)\u001b[0m \u001b[1;33m>\u001b[0m \u001b[0m_MAXLINE\u001b[0m\u001b[1;33m:\u001b[0m\u001b[1;33m\u001b[0m\u001b[1;33m\u001b[0m\u001b[0m\n\u001b[0;32m    269\u001b[0m             \u001b[1;32mraise\u001b[0m \u001b[0mLineTooLong\u001b[0m\u001b[1;33m(\u001b[0m\u001b[1;34m\"status line\"\u001b[0m\u001b[1;33m)\u001b[0m\u001b[1;33m\u001b[0m\u001b[1;33m\u001b[0m\u001b[0m\n",
      "\u001b[1;32m~\\anaconda3\\lib\\socket.py\u001b[0m in \u001b[0;36mreadinto\u001b[1;34m(self, b)\u001b[0m\n\u001b[0;32m    587\u001b[0m         \u001b[1;32mwhile\u001b[0m \u001b[1;32mTrue\u001b[0m\u001b[1;33m:\u001b[0m\u001b[1;33m\u001b[0m\u001b[1;33m\u001b[0m\u001b[0m\n\u001b[0;32m    588\u001b[0m             \u001b[1;32mtry\u001b[0m\u001b[1;33m:\u001b[0m\u001b[1;33m\u001b[0m\u001b[1;33m\u001b[0m\u001b[0m\n\u001b[1;32m--> 589\u001b[1;33m                 \u001b[1;32mreturn\u001b[0m \u001b[0mself\u001b[0m\u001b[1;33m.\u001b[0m\u001b[0m_sock\u001b[0m\u001b[1;33m.\u001b[0m\u001b[0mrecv_into\u001b[0m\u001b[1;33m(\u001b[0m\u001b[0mb\u001b[0m\u001b[1;33m)\u001b[0m\u001b[1;33m\u001b[0m\u001b[1;33m\u001b[0m\u001b[0m\n\u001b[0m\u001b[0;32m    590\u001b[0m             \u001b[1;32mexcept\u001b[0m \u001b[0mtimeout\u001b[0m\u001b[1;33m:\u001b[0m\u001b[1;33m\u001b[0m\u001b[1;33m\u001b[0m\u001b[0m\n\u001b[0;32m    591\u001b[0m                 \u001b[0mself\u001b[0m\u001b[1;33m.\u001b[0m\u001b[0m_timeout_occurred\u001b[0m \u001b[1;33m=\u001b[0m \u001b[1;32mTrue\u001b[0m\u001b[1;33m\u001b[0m\u001b[1;33m\u001b[0m\u001b[0m\n",
      "\u001b[1;31mKeyboardInterrupt\u001b[0m: "
     ]
    }
   ],
   "source": [
    "from glob import glob\n",
    "from selenium import webdriver\n",
    "from selenium.webdriver.common.keys import Keys\n",
    "import bs4 as bs\n",
    "import time\n",
    "\n",
    "driver = webdriver.Chrome(real_path)\n",
    "driver.get('https://www.hanbit.co.kr/store/books/new_book_list.html')\n",
    "for i in range(20):\n",
    "    scroll = driver.find_element_by_tag_name('body')\n",
    "    scroll.send_keys(Keys.ARROW_DOWN)\n",
    "    driver.fullscreen_window()\n",
    "    time.sleep(3)\n",
    "    book_path = f'//*[@id=\"container\"]/div[2]/div[2]/li[{i+1}]/div/span/img'\n",
    "    driver.find_element_by_xpath(book_path).click()\n",
    "    time.sleep(3)\n",
    "    one_book = driver.page_source\n",
    "    bs1 = bs.BeautifulSoup(one_book)\n",
    "    title = bs1.find('div', class_='store_product_info_box').find('h3').text\n",
    "    tags = bs1.find('div', class_='tag_area').find_all('a')\n",
    "    real_tag = [t.text for t in tags]\n",
    "    driver.back()"
   ]
  },
  {
   "cell_type": "code",
   "execution_count": 170,
   "metadata": {
    "scrolled": true
   },
   "outputs": [
    {
     "name": "stdout",
     "output_type": "stream",
     "text": [
      "title : 이더리움 디앱 개발\n",
      "tag : ['이더리움', '디앱', 'Dapp', '탈중앙화', '솔리디티', '스마트 컨트랙트', '스마트 계약', '블록체인', '트랜잭션', '머클 트리', '머클 트라이', '공개키 암호화', '서명 생성', '서명 검증', '채굴', '마이닝', '프레임워크', '트러플', '모카', '가나슈', 'geth', 'EVM', 'Web3.js', '유닛 테스트', '보안', '배포', '암호화폐']\n",
      "\n",
      "\n",
      "title : CIA 요원, 최강 비즈니스맨이 되다\n",
      "tag : ['비지니스', '회사', '성공', '관계', '인맥']\n",
      "\n",
      "\n",
      "title : 딥러닝과 바둑\n",
      "tag : ['인공지능', '알파고제로', 'AI', '머신러닝', '기계학습', '딥러닝', '텐서플러', '케라스', '텐서플로우', 'TensorFlow', 'keras', '심층학습', '파이썬', '데이터분석', '데이터과학', '신경망', 'CNN', 'RNN', 'GAN', '오토인코더', '자연어처리', 'NLP', '비지도 학습']\n",
      "\n",
      "\n",
      "title : 필수 공식으로 하루에 하나씩 정복하는 엑셀 업무 공략집\n",
      "tag : ['엑셀', '엑셀 입문서', '엑셀 초보', '직장인 엑셀', '실무 엑셀', '엑셀 핵심 원리', '엑셀 활용', '엑셀 기능', '엑셀 데이터', '엑셀 함수', '피벗테이블', '엑셀 문서', '엑셀 보고서', '실무 예제', '오피스', 'MS 오피스', 'excel', '마이크로소프트 365', '엑셀 2019', '엑셀 2016', '엑셀 2013', '엑셀 2010', '엑셀 2007', '취업', '직장인', '신입사원', '모든 버전 사용 가능']\n",
      "\n",
      "\n"
     ]
    },
    {
     "ename": "ElementClickInterceptedException",
     "evalue": "Message: element click intercepted: Element <img src=\"/data/books/B8912615747_m.jpg\" alt=\"\" class=\"thumb\"> is not clickable at point (1407, 54). Other element would receive the click: <ul>...</ul>\n  (Session info: chrome=83.0.4103.61)\n",
     "output_type": "error",
     "traceback": [
      "\u001b[1;31m---------------------------------------------------------------------------\u001b[0m",
      "\u001b[1;31mElementClickInterceptedException\u001b[0m          Traceback (most recent call last)",
      "\u001b[1;32m<ipython-input-170-1f18e4c8c3bf>\u001b[0m in \u001b[0;36m<module>\u001b[1;34m\u001b[0m\n\u001b[0;32m     14\u001b[0m     \u001b[0mtime\u001b[0m\u001b[1;33m.\u001b[0m\u001b[0msleep\u001b[0m\u001b[1;33m(\u001b[0m\u001b[1;36m3\u001b[0m\u001b[1;33m)\u001b[0m \u001b[1;31m#3초 쉰다.\u001b[0m\u001b[1;33m\u001b[0m\u001b[1;33m\u001b[0m\u001b[0m\n\u001b[0;32m     15\u001b[0m     \u001b[0mbook_path\u001b[0m \u001b[1;33m=\u001b[0m \u001b[1;34mf'//*[@id=\"container\"]/div[2]/div[2]/li[{i+1}]/div/span/img'\u001b[0m \u001b[1;31m#선택할 버튼의 좌표를 구한다.\u001b[0m\u001b[1;33m\u001b[0m\u001b[1;33m\u001b[0m\u001b[0m\n\u001b[1;32m---> 16\u001b[1;33m     \u001b[0mdriver\u001b[0m\u001b[1;33m.\u001b[0m\u001b[0mfind_element_by_xpath\u001b[0m\u001b[1;33m(\u001b[0m\u001b[0mbook_path\u001b[0m\u001b[1;33m)\u001b[0m\u001b[1;33m.\u001b[0m\u001b[0mclick\u001b[0m\u001b[1;33m(\u001b[0m\u001b[1;33m)\u001b[0m \u001b[1;31m#구한 좌표의 버튼을 실행 한다.\u001b[0m\u001b[1;33m\u001b[0m\u001b[1;33m\u001b[0m\u001b[0m\n\u001b[0m\u001b[0;32m     17\u001b[0m     \u001b[0mtime\u001b[0m\u001b[1;33m.\u001b[0m\u001b[0msleep\u001b[0m\u001b[1;33m(\u001b[0m\u001b[1;36m3\u001b[0m\u001b[1;33m)\u001b[0m \u001b[1;31m#3초 쉰다,\u001b[0m\u001b[1;33m\u001b[0m\u001b[1;33m\u001b[0m\u001b[0m\n\u001b[0;32m     18\u001b[0m     \u001b[0mone_book\u001b[0m \u001b[1;33m=\u001b[0m \u001b[0mdriver\u001b[0m\u001b[1;33m.\u001b[0m\u001b[0mpage_source\u001b[0m \u001b[1;31m#페이지 소스를 가져온다.\u001b[0m\u001b[1;33m\u001b[0m\u001b[1;33m\u001b[0m\u001b[0m\n",
      "\u001b[1;32m~\\anaconda3\\lib\\site-packages\\selenium\\webdriver\\remote\\webelement.py\u001b[0m in \u001b[0;36mclick\u001b[1;34m(self)\u001b[0m\n\u001b[0;32m     78\u001b[0m     \u001b[1;32mdef\u001b[0m \u001b[0mclick\u001b[0m\u001b[1;33m(\u001b[0m\u001b[0mself\u001b[0m\u001b[1;33m)\u001b[0m\u001b[1;33m:\u001b[0m\u001b[1;33m\u001b[0m\u001b[1;33m\u001b[0m\u001b[0m\n\u001b[0;32m     79\u001b[0m         \u001b[1;34m\"\"\"Clicks the element.\"\"\"\u001b[0m\u001b[1;33m\u001b[0m\u001b[1;33m\u001b[0m\u001b[0m\n\u001b[1;32m---> 80\u001b[1;33m         \u001b[0mself\u001b[0m\u001b[1;33m.\u001b[0m\u001b[0m_execute\u001b[0m\u001b[1;33m(\u001b[0m\u001b[0mCommand\u001b[0m\u001b[1;33m.\u001b[0m\u001b[0mCLICK_ELEMENT\u001b[0m\u001b[1;33m)\u001b[0m\u001b[1;33m\u001b[0m\u001b[1;33m\u001b[0m\u001b[0m\n\u001b[0m\u001b[0;32m     81\u001b[0m \u001b[1;33m\u001b[0m\u001b[0m\n\u001b[0;32m     82\u001b[0m     \u001b[1;32mdef\u001b[0m \u001b[0msubmit\u001b[0m\u001b[1;33m(\u001b[0m\u001b[0mself\u001b[0m\u001b[1;33m)\u001b[0m\u001b[1;33m:\u001b[0m\u001b[1;33m\u001b[0m\u001b[1;33m\u001b[0m\u001b[0m\n",
      "\u001b[1;32m~\\anaconda3\\lib\\site-packages\\selenium\\webdriver\\remote\\webelement.py\u001b[0m in \u001b[0;36m_execute\u001b[1;34m(self, command, params)\u001b[0m\n\u001b[0;32m    631\u001b[0m             \u001b[0mparams\u001b[0m \u001b[1;33m=\u001b[0m \u001b[1;33m{\u001b[0m\u001b[1;33m}\u001b[0m\u001b[1;33m\u001b[0m\u001b[1;33m\u001b[0m\u001b[0m\n\u001b[0;32m    632\u001b[0m         \u001b[0mparams\u001b[0m\u001b[1;33m[\u001b[0m\u001b[1;34m'id'\u001b[0m\u001b[1;33m]\u001b[0m \u001b[1;33m=\u001b[0m \u001b[0mself\u001b[0m\u001b[1;33m.\u001b[0m\u001b[0m_id\u001b[0m\u001b[1;33m\u001b[0m\u001b[1;33m\u001b[0m\u001b[0m\n\u001b[1;32m--> 633\u001b[1;33m         \u001b[1;32mreturn\u001b[0m \u001b[0mself\u001b[0m\u001b[1;33m.\u001b[0m\u001b[0m_parent\u001b[0m\u001b[1;33m.\u001b[0m\u001b[0mexecute\u001b[0m\u001b[1;33m(\u001b[0m\u001b[0mcommand\u001b[0m\u001b[1;33m,\u001b[0m \u001b[0mparams\u001b[0m\u001b[1;33m)\u001b[0m\u001b[1;33m\u001b[0m\u001b[1;33m\u001b[0m\u001b[0m\n\u001b[0m\u001b[0;32m    634\u001b[0m \u001b[1;33m\u001b[0m\u001b[0m\n\u001b[0;32m    635\u001b[0m     \u001b[1;32mdef\u001b[0m \u001b[0mfind_element\u001b[0m\u001b[1;33m(\u001b[0m\u001b[0mself\u001b[0m\u001b[1;33m,\u001b[0m \u001b[0mby\u001b[0m\u001b[1;33m=\u001b[0m\u001b[0mBy\u001b[0m\u001b[1;33m.\u001b[0m\u001b[0mID\u001b[0m\u001b[1;33m,\u001b[0m \u001b[0mvalue\u001b[0m\u001b[1;33m=\u001b[0m\u001b[1;32mNone\u001b[0m\u001b[1;33m)\u001b[0m\u001b[1;33m:\u001b[0m\u001b[1;33m\u001b[0m\u001b[1;33m\u001b[0m\u001b[0m\n",
      "\u001b[1;32m~\\anaconda3\\lib\\site-packages\\selenium\\webdriver\\remote\\webdriver.py\u001b[0m in \u001b[0;36mexecute\u001b[1;34m(self, driver_command, params)\u001b[0m\n\u001b[0;32m    319\u001b[0m         \u001b[0mresponse\u001b[0m \u001b[1;33m=\u001b[0m \u001b[0mself\u001b[0m\u001b[1;33m.\u001b[0m\u001b[0mcommand_executor\u001b[0m\u001b[1;33m.\u001b[0m\u001b[0mexecute\u001b[0m\u001b[1;33m(\u001b[0m\u001b[0mdriver_command\u001b[0m\u001b[1;33m,\u001b[0m \u001b[0mparams\u001b[0m\u001b[1;33m)\u001b[0m\u001b[1;33m\u001b[0m\u001b[1;33m\u001b[0m\u001b[0m\n\u001b[0;32m    320\u001b[0m         \u001b[1;32mif\u001b[0m \u001b[0mresponse\u001b[0m\u001b[1;33m:\u001b[0m\u001b[1;33m\u001b[0m\u001b[1;33m\u001b[0m\u001b[0m\n\u001b[1;32m--> 321\u001b[1;33m             \u001b[0mself\u001b[0m\u001b[1;33m.\u001b[0m\u001b[0merror_handler\u001b[0m\u001b[1;33m.\u001b[0m\u001b[0mcheck_response\u001b[0m\u001b[1;33m(\u001b[0m\u001b[0mresponse\u001b[0m\u001b[1;33m)\u001b[0m\u001b[1;33m\u001b[0m\u001b[1;33m\u001b[0m\u001b[0m\n\u001b[0m\u001b[0;32m    322\u001b[0m             response['value'] = self._unwrap_value(\n\u001b[0;32m    323\u001b[0m                 response.get('value', None))\n",
      "\u001b[1;32m~\\anaconda3\\lib\\site-packages\\selenium\\webdriver\\remote\\errorhandler.py\u001b[0m in \u001b[0;36mcheck_response\u001b[1;34m(self, response)\u001b[0m\n\u001b[0;32m    240\u001b[0m                 \u001b[0malert_text\u001b[0m \u001b[1;33m=\u001b[0m \u001b[0mvalue\u001b[0m\u001b[1;33m[\u001b[0m\u001b[1;34m'alert'\u001b[0m\u001b[1;33m]\u001b[0m\u001b[1;33m.\u001b[0m\u001b[0mget\u001b[0m\u001b[1;33m(\u001b[0m\u001b[1;34m'text'\u001b[0m\u001b[1;33m)\u001b[0m\u001b[1;33m\u001b[0m\u001b[1;33m\u001b[0m\u001b[0m\n\u001b[0;32m    241\u001b[0m             \u001b[1;32mraise\u001b[0m \u001b[0mexception_class\u001b[0m\u001b[1;33m(\u001b[0m\u001b[0mmessage\u001b[0m\u001b[1;33m,\u001b[0m \u001b[0mscreen\u001b[0m\u001b[1;33m,\u001b[0m \u001b[0mstacktrace\u001b[0m\u001b[1;33m,\u001b[0m \u001b[0malert_text\u001b[0m\u001b[1;33m)\u001b[0m\u001b[1;33m\u001b[0m\u001b[1;33m\u001b[0m\u001b[0m\n\u001b[1;32m--> 242\u001b[1;33m         \u001b[1;32mraise\u001b[0m \u001b[0mexception_class\u001b[0m\u001b[1;33m(\u001b[0m\u001b[0mmessage\u001b[0m\u001b[1;33m,\u001b[0m \u001b[0mscreen\u001b[0m\u001b[1;33m,\u001b[0m \u001b[0mstacktrace\u001b[0m\u001b[1;33m)\u001b[0m\u001b[1;33m\u001b[0m\u001b[1;33m\u001b[0m\u001b[0m\n\u001b[0m\u001b[0;32m    243\u001b[0m \u001b[1;33m\u001b[0m\u001b[0m\n\u001b[0;32m    244\u001b[0m     \u001b[1;32mdef\u001b[0m \u001b[0m_value_or_default\u001b[0m\u001b[1;33m(\u001b[0m\u001b[0mself\u001b[0m\u001b[1;33m,\u001b[0m \u001b[0mobj\u001b[0m\u001b[1;33m,\u001b[0m \u001b[0mkey\u001b[0m\u001b[1;33m,\u001b[0m \u001b[0mdefault\u001b[0m\u001b[1;33m)\u001b[0m\u001b[1;33m:\u001b[0m\u001b[1;33m\u001b[0m\u001b[1;33m\u001b[0m\u001b[0m\n",
      "\u001b[1;31mElementClickInterceptedException\u001b[0m: Message: element click intercepted: Element <img src=\"/data/books/B8912615747_m.jpg\" alt=\"\" class=\"thumb\"> is not clickable at point (1407, 54). Other element would receive the click: <ul>...</ul>\n  (Session info: chrome=83.0.4103.61)\n"
     ]
    }
   ],
   "source": [
    "from glob import glob\n",
    "from selenium import webdriver\n",
    "from selenium.webdriver.common.keys import Keys\n",
    "import bs4 as bs\n",
    "import time\n",
    "\n",
    "driver = webdriver.Chrome(real_path) #크롤러를 만든다.\n",
    "driver.get('https://www.hanbit.co.kr/store/books/new_book_list.html') #크롤러가 사이트에 접속한다.\n",
    "\n",
    "for i in range(20): #20번 반복\n",
    "    scroll = driver.find_element_by_tag_name('body')\n",
    "    if i % 5 == 0: scroll.send_keys(Keys.ARROW_DOWN) #화면을 아래로 내린다.\n",
    "    driver.fullscreen_window() #전체화면을 만든다.\n",
    "    time.sleep(3) #3초 쉰다.\n",
    "    book_path = f'//*[@id=\"container\"]/div[2]/div[2]/li[{i+1}]/div/span/img' #선택할 버튼의 좌표를 구한다.\n",
    "    driver.find_element_by_xpath(book_path).click() #구한 좌표의 버튼을 실행 한다.\n",
    "    time.sleep(3) #3초 쉰다,\n",
    "    one_book = driver.page_source #페이지 소스를 가져온다.\n",
    "    bs1 = bs.BeautifulSoup(one_book) #페이지 소스를 BeautifulSoup으로 해석한다.\n",
    "    title = bs1.find('div', class_='store_product_info_box').find('h3').text #제목을가져온다.\n",
    "    tags = bs1.find('div', class_='tag_area').find_all('a') #테그들을 가져온다.\n",
    "    real_tag = [t.text for t in tags] #테그들을 가공해서 만든다.\n",
    "    print(f\"title : {title}\\ntag : {real_tag}\\n\\n\")\n",
    "    driver.back() #이전 화면으로 돌아간다."
   ]
  },
  {
   "cell_type": "markdown",
   "metadata": {},
   "source": [
    "# 알라딘"
   ]
  },
  {
   "cell_type": "code",
   "execution_count": 176,
   "metadata": {
    "scrolled": false
   },
   "outputs": [
    {
     "name": "stdout",
     "output_type": "stream",
     "text": [
      "1 시선으로부터,\n",
      "2 소년이 온다 (특별한정판, 양장)\n",
      "3 만화 인소의 법칙 1 (함단이 캐릭터 키링 + 단이&여령 트래블 스티커 4종 세트 + 인소의 법칙 노트 포함 한정판)\n",
      "4 더 해빙\n",
      "5 애쓰지 않고 편안하게\n",
      "6 보통의 언어들\n",
      "7 2020 제11회 젊은작가상 수상작품집\n",
      "8 기억 1\n",
      "9 코로나 투자 전쟁\n",
      "10 오래 준비해온 대답\n",
      "11 기억 2\n",
      "12 언컨택트 Uncontact\n",
      "13 마법천자문 48\n",
      "14 귀멸의 칼날 18\n",
      "15 지박소년 하나코 군 8\n",
      "16 지박소년 하나코 군 7\n",
      "17 룬샷\n",
      "18 이야기의 탄생\n",
      "19 어린 왕자 (리커버 특별판)\n",
      "20 이상하고 자유로운 할머니가 되고 싶어\n",
      "21 맛있게 살 빠지는 고단백 저탄수화물 다이어트 레시피\n",
      "22 장군이네 떡집\n",
      "23 코로나 이후의 세계\n",
      "24 당근 유치원\n",
      "25 큰별쌤 최태성의 별★별한국사 한국사능력검정시험 심화(1.2.3급) 상\n",
      "26 일 잘하는 사람은 단순하게 말합니다\n",
      "27 큰별쌤 최태성의 별★별한국사 한국사능력검정시험 심화(1.2.3급) 하\n",
      "28 2020 선재국어 국가직.지방직 대비 실전형 봉투 모의고사 2\n",
      "29 소원 떡집\n",
      "30 우리가 빛의 속도로 갈 수 없다면\n",
      "31 트라우마 사전\n",
      "32 귤의 맛\n",
      "33 흔한남매 안 흔한 일기 2\n",
      "34 지리의 힘\n",
      "35 만복이네 떡집\n",
      "36 Go Go 카카오프렌즈 14 : 그리스\n",
      "37 어느 날 공주가 되어버렸다 4 ( 컬러링북(128P)+ 투명스티커 5종 + 루카스 그립톡 + 엽서 + 박스 포함 한정판)\n",
      "38 달 너머로 달리는 말\n",
      "39 해커스 토익 기출 보카 TOEIC VOCA 단어장\n",
      "40 내가 빛나는 순간\n",
      "41 밤의 팔레트\n",
      "42 존리의 부자되기 습관\n",
      "43 한동안 머물다 밖으로 나가고 싶다\n",
      "44 식물의 책 (도시 풀꽃 에디션)\n",
      "45 철도원 삼대\n",
      "46 페스트\n",
      "47 나의 할머니에게\n",
      "48 자본과 이데올로기\n",
      "49 하버드 상위 1퍼센트의 비밀 (하드커버 리커버 에디션)\n",
      "50 디즈니만이 하는 것 The Ride of a Lifetime\n"
     ]
    }
   ],
   "source": [
    "# 2\n",
    "import requests\n",
    "import bs4 as bs\n",
    "\n",
    "url = \"https://www.aladin.co.kr/shop/common/wbest.aspx?BranchType=1&start=we\"\n",
    "data = requests.get(url).text\n",
    "data_bs = bs.BeautifulSoup(data)\n",
    "\n",
    "books = data_bs.find_all(\"div\", class_ = \"ss_book_box\")\n",
    "best = []\n",
    "\n",
    "for n, book in enumerate(books):\n",
    "    title = book.find(\"a\", class_ = \"bo3\").text\n",
    "    best.append(title)\n",
    "    print(n + 1, title)"
   ]
  },
  {
   "cell_type": "code",
   "execution_count": null,
   "metadata": {},
   "outputs": [],
   "source": []
  },
  {
   "cell_type": "code",
   "execution_count": 200,
   "metadata": {},
   "outputs": [
    {
     "name": "stdout",
     "output_type": "stream",
     "text": [
      "접속\n"
     ]
    },
    {
     "ename": "AttributeError",
     "evalue": "type object 'Keys' has no attribute 'CONTER'",
     "output_type": "error",
     "traceback": [
      "\u001b[1;31m---------------------------------------------------------------------------\u001b[0m",
      "\u001b[1;31mAttributeError\u001b[0m                            Traceback (most recent call last)",
      "\u001b[1;32m<ipython-input-200-55b2f058c001>\u001b[0m in \u001b[0;36m<module>\u001b[1;34m\u001b[0m\n\u001b[0;32m     28\u001b[0m \u001b[1;32mfor\u001b[0m \u001b[0mn\u001b[0m\u001b[1;33m,\u001b[0m \u001b[0mi\u001b[0m \u001b[1;32min\u001b[0m \u001b[0menumerate\u001b[0m\u001b[1;33m(\u001b[0m\u001b[0mbest\u001b[0m\u001b[1;33m)\u001b[0m\u001b[1;33m:\u001b[0m\u001b[1;33m\u001b[0m\u001b[1;33m\u001b[0m\u001b[0m\n\u001b[0;32m     29\u001b[0m     \u001b[0ms\u001b[0m \u001b[1;33m=\u001b[0m \u001b[0mdriver\u001b[0m\u001b[1;33m.\u001b[0m\u001b[0mfind_element_by_xpath\u001b[0m\u001b[1;33m(\u001b[0m\u001b[0msearch\u001b[0m\u001b[1;33m)\u001b[0m\u001b[1;33m\u001b[0m\u001b[1;33m\u001b[0m\u001b[0m\n\u001b[1;32m---> 30\u001b[1;33m     \u001b[0ms\u001b[0m\u001b[1;33m.\u001b[0m\u001b[0msend_keys\u001b[0m\u001b[1;33m(\u001b[0m\u001b[0mKeys\u001b[0m\u001b[1;33m.\u001b[0m\u001b[0mCONTER\u001b[0m \u001b[1;33m+\u001b[0m \u001b[1;34m\"a\"\u001b[0m\u001b[1;33m)\u001b[0m\u001b[1;33m\u001b[0m\u001b[1;33m\u001b[0m\u001b[0m\n\u001b[0m\u001b[0;32m     31\u001b[0m     \u001b[0ms\u001b[0m\u001b[1;33m.\u001b[0m\u001b[0msend_keys\u001b[0m\u001b[1;33m(\u001b[0m\u001b[0mKeys\u001b[0m\u001b[1;33m.\u001b[0m\u001b[0mDELETE\u001b[0m\u001b[1;33m)\u001b[0m\u001b[1;33m\u001b[0m\u001b[1;33m\u001b[0m\u001b[0m\n\u001b[0;32m     32\u001b[0m     \u001b[0ms\u001b[0m\u001b[1;33m.\u001b[0m\u001b[0msend_keys\u001b[0m\u001b[1;33m(\u001b[0m\u001b[0mi\u001b[0m\u001b[1;33m)\u001b[0m\u001b[1;33m\u001b[0m\u001b[1;33m\u001b[0m\u001b[0m\n",
      "\u001b[1;31mAttributeError\u001b[0m: type object 'Keys' has no attribute 'CONTER'"
     ]
    }
   ],
   "source": [
    "import time\n",
    "\n",
    "from selenium.webdriver.common.keys import Keys\n",
    "from glob import glob #파일의 경로를 쉽게 찾아주는 모듈\n",
    "from selenium import webdriver\n",
    "\n",
    "path = \"C:/Users/KGITBank/Downloads/chromedriver_win32 (1)\" #설치한 드라이버 경로 찾기\n",
    "real_path = glob(path + \"/*\")[0] #위에서 선택한 모든 폴더 안에 모든 파일 선택\n",
    "\n",
    "driver = webdriver.Chrome(real_path) #driver이름으로 크롬 창을 만들어 준다.\n",
    "\n",
    "\n",
    "url = \"https://www.aladin.co.kr/home/wusedshopmain.aspx\"\n",
    "driver.get(url) #url링크로 접속한다.\n",
    "print(\"접속\")\n",
    "time.sleep(2)\n",
    "\n",
    "# search = '//*[@id=\"SearchWord\"]'\n",
    "# en = '//*[@id=\"global_search\"]/input'\n",
    "# s = driver.find_element_by_xpath(search)\n",
    "# print(\"검색창 찾음\")\n",
    "# s.send_keys(\"Hello World\") #검색어 입력\n",
    "# print(\"검색어 입력\")\n",
    "# time.sleep(1)\n",
    "# driver.find_element_by_xpath(en).click() #검색 버튼\n",
    "# print(\"검색버튼\")\n",
    "\n",
    "for n, i in enumerate(best):\n",
    "    s = driver.find_element_by_xpath(search)\n",
    "    s.send_keys(Keys.CONTER + \"a\")\n",
    "    s.send_keys(Keys.DELETE)\n",
    "    s.send_keys(i)\n",
    "    time.sleep(0.2)\n",
    "    driver.find_element_by_xpath(en).click() #검색 버튼\n",
    "    print(n + 1)\n",
    "    time.sleep(2)"
   ]
  },
  {
   "cell_type": "code",
   "execution_count": 203,
   "metadata": {},
   "outputs": [
    {
     "ename": "NameError",
     "evalue": "name 'best_list' is not defined",
     "output_type": "error",
     "traceback": [
      "\u001b[1;31m---------------------------------------------------------------------------\u001b[0m",
      "\u001b[1;31mNameError\u001b[0m                                 Traceback (most recent call last)",
      "\u001b[1;32m<ipython-input-203-dc71edcbcf95>\u001b[0m in \u001b[0;36m<module>\u001b[1;34m\u001b[0m\n\u001b[0;32m     10\u001b[0m \u001b[0mdriver\u001b[0m \u001b[1;33m=\u001b[0m \u001b[0mwebdriver\u001b[0m\u001b[1;33m.\u001b[0m\u001b[0mChrome\u001b[0m\u001b[1;33m(\u001b[0m\u001b[0mreal_path\u001b[0m\u001b[1;33m)\u001b[0m \u001b[1;31m#driver이름으로 크롬 창을 만들어 준다.\u001b[0m\u001b[1;33m\u001b[0m\u001b[1;33m\u001b[0m\u001b[0m\n\u001b[0;32m     11\u001b[0m \u001b[1;33m\u001b[0m\u001b[0m\n\u001b[1;32m---> 12\u001b[1;33m \u001b[1;32mfor\u001b[0m \u001b[0mbest\u001b[0m \u001b[1;32min\u001b[0m \u001b[0mbest_list\u001b[0m\u001b[1;33m:\u001b[0m\u001b[1;33m\u001b[0m\u001b[1;33m\u001b[0m\u001b[0m\n\u001b[0m\u001b[0;32m     13\u001b[0m     \u001b[0msearch_box\u001b[0m \u001b[1;33m=\u001b[0m \u001b[1;34m'//*[@id=\"SearchWord\"]'\u001b[0m\u001b[1;33m\u001b[0m\u001b[1;33m\u001b[0m\u001b[0m\n\u001b[0;32m     14\u001b[0m     \u001b[0mbox\u001b[0m \u001b[1;33m=\u001b[0m \u001b[0mdriver\u001b[0m\u001b[1;33m.\u001b[0m\u001b[0mfind_element_by_xpath\u001b[0m\u001b[1;33m(\u001b[0m\u001b[0msearch_box\u001b[0m\u001b[1;33m)\u001b[0m\u001b[1;33m\u001b[0m\u001b[1;33m\u001b[0m\u001b[0m\n",
      "\u001b[1;31mNameError\u001b[0m: name 'best_list' is not defined"
     ]
    }
   ],
   "source": [
    "from glob import glob\n",
    "from selenium import webdriver\n",
    "from selenium.webdriver.common.keys import Keys\n",
    "import bs4 as bs\n",
    "import time\n",
    "\n",
    "path = \"C:/Users/KGITBank/Downloads/chromedriver_win32 (1)\" #설치한 드라이버 경로 찾기\n",
    "real_path = glob(path + \"/*\")[0] #위에서 선택한 모든 폴더 안에 모든 파일 선택\n",
    "\n",
    "driver = webdriver.Chrome(real_path) #driver이름으로 크롬 창을 만들어 준다.\n",
    "\n",
    "for best in best_list:\n",
    "    search_box = '//*[@id=\"SearchWord\"]'\n",
    "    box = driver.find_element_by_xpath(search_box)\n",
    "    box.send_keys(Keys.CONTROL + 'a')\n",
    "    box.send_keys(Keys.DELETE)\n",
    "    box.send_keys(최고)\n",
    "    search = '//*[@id=\"global_search\"]/input'\n",
    "    driver.find_element_by_xpath(search).click()\n",
    "    time.sleep(2)"
   ]
  },
  {
   "cell_type": "code",
   "execution_count": null,
   "metadata": {},
   "outputs": [],
   "source": []
  },
  {
   "cell_type": "code",
   "execution_count": null,
   "metadata": {},
   "outputs": [],
   "source": []
  },
  {
   "cell_type": "code",
   "execution_count": null,
   "metadata": {},
   "outputs": [],
   "source": []
  },
  {
   "cell_type": "code",
   "execution_count": null,
   "metadata": {},
   "outputs": [],
   "source": []
  }
 ],
 "metadata": {
  "celltoolbar": "Tags",
  "kernelspec": {
   "display_name": "Python 3",
   "language": "python",
   "name": "python3"
  },
  "language_info": {
   "codemirror_mode": {
    "name": "ipython",
    "version": 3
   },
   "file_extension": ".py",
   "mimetype": "text/x-python",
   "name": "python",
   "nbconvert_exporter": "python",
   "pygments_lexer": "ipython3",
   "version": "3.7.6"
  }
 },
 "nbformat": 4,
 "nbformat_minor": 4
}
