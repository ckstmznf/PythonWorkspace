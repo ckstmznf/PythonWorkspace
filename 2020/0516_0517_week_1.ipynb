{
 "cells": [
  {
   "cell_type": "code",
   "execution_count": 2,
   "metadata": {},
   "outputs": [
    {
     "name": "stdout",
     "output_type": "stream",
     "text": [
      "Hello World\n"
     ]
    }
   ],
   "source": [
    "print(\"Hello World\")"
   ]
  },
  {
   "cell_type": "markdown",
   "metadata": {},
   "source": [
    "\n",
    "# 가장 큰 글자\n",
    "\n",
    "##### 가장 작은 글자\n"
   ]
  },
  {
   "cell_type": "markdown",
   "metadata": {},
   "source": [
    "##### 1 . 1부터 6까지의 랜덤 정수 화면에 출력하는 dice_1 함수를 만들어 주세요.\n",
    "\n",
    "##### 2. a부터 b까지 렌덤 정수를 화면에 출력하는 dice_2 함수를 만들기\n",
    "\n",
    "##### 3. a부터 b까지의 렌덤 정수 7개를뽑아 리스트로 만들어 주는 dice_3 만들기\n",
    "\n",
    "##### 4. a부터 b까지 중복 없는 정수 7개 리스트로 만들어 주는 dice_4 만들기"
   ]
  },
  {
   "cell_type": "code",
   "execution_count": 3,
   "metadata": {},
   "outputs": [
    {
     "name": "stdout",
     "output_type": "stream",
     "text": [
      "2\n"
     ]
    }
   ],
   "source": [
    "from random import randint\n",
    "a = randint(1, 6)\n",
    "print(a)"
   ]
  },
  {
   "cell_type": "code",
   "execution_count": 4,
   "metadata": {},
   "outputs": [
    {
     "name": "stdout",
     "output_type": "stream",
     "text": [
      "4\n"
     ]
    }
   ],
   "source": [
    "# 1번\n",
    "def dice_1():\n",
    "    print(randint(1, 6))\n",
    "    \n",
    "dice_1()"
   ]
  },
  {
   "cell_type": "code",
   "execution_count": 5,
   "metadata": {
    "scrolled": true
   },
   "outputs": [
    {
     "data": {
      "text/plain": [
       "7"
      ]
     },
     "execution_count": 5,
     "metadata": {},
     "output_type": "execute_result"
    }
   ],
   "source": [
    "# 2번\n",
    "def dice_2(a, b):\n",
    "    \n",
    "    a = randint(a, b)\n",
    "    \n",
    "    return a\n",
    "\n",
    "dice_2(1, 10)"
   ]
  },
  {
   "cell_type": "code",
   "execution_count": 6,
   "metadata": {},
   "outputs": [
    {
     "name": "stdout",
     "output_type": "stream",
     "text": [
      "[83, 88, 99, 14, 76, 83, 35]\n"
     ]
    }
   ],
   "source": [
    "# 3번\n",
    "def dice_3(a, b):\n",
    "    rands = []\n",
    "    for i in range(0, 7):\n",
    "        rands.append(randint(a, b))\n",
    "    \n",
    "    print(rands)\n",
    "\n",
    "dice_3(1, 100)"
   ]
  },
  {
   "cell_type": "code",
   "execution_count": 7,
   "metadata": {},
   "outputs": [
    {
     "data": {
      "text/plain": [
       "[28, 7, 44, 33, 30, 26, 16]"
      ]
     },
     "execution_count": 7,
     "metadata": {},
     "output_type": "execute_result"
    }
   ],
   "source": [
    "# 4번\n",
    "\n",
    "def dice_4():\n",
    "    rands = []\n",
    "    i = 0\n",
    "    \n",
    "    while i < 7:\n",
    "        rand = dice_2(1, 45)\n",
    "        if rand in rands:\n",
    "            pass\n",
    "        else:\n",
    "            i += 1\n",
    "            rands.append(rand)\n",
    "            \n",
    "    return rands\n",
    "        \n",
    "dice_4()"
   ]
  },
  {
   "cell_type": "markdown",
   "metadata": {},
   "source": [
    "### set : 집합과 같다.\n",
    "\n",
    "### 집합은 중복을 허용하지 않는다."
   ]
  },
  {
   "cell_type": "markdown",
   "metadata": {},
   "source": [
    "# 예외처리"
   ]
  },
  {
   "cell_type": "code",
   "execution_count": 8,
   "metadata": {},
   "outputs": [
    {
     "name": "stdout",
     "output_type": "stream",
     "text": [
      "Hello World\n",
      "여기로 온다.~~\n"
     ]
    }
   ],
   "source": [
    "try:\n",
    "    print(\"Hello World\")\n",
    "    1 + \"1\"\n",
    "    print(\"실행 시켜 주세요.\")\n",
    "except:\n",
    "    print(\"여기로 온다.~~\")"
   ]
  },
  {
   "cell_type": "markdown",
   "metadata": {},
   "source": [
    "# 클래스"
   ]
  },
  {
   "cell_type": "code",
   "execution_count": 9,
   "metadata": {},
   "outputs": [
    {
     "name": "stdout",
     "output_type": "stream",
     "text": [
      "<class 'int'>\n",
      "<class 'float'>\n"
     ]
    }
   ],
   "source": [
    "print(type(5))\n",
    "print(type(5.0))"
   ]
  },
  {
   "cell_type": "code",
   "execution_count": 10,
   "metadata": {},
   "outputs": [
    {
     "name": "stdout",
     "output_type": "stream",
     "text": [
      "<class 'list'>\n",
      "<class 'tuple'>\n"
     ]
    }
   ],
   "source": [
    "a = [1, 3, 5]\n",
    "b = (1, 3, 5)\n",
    "\n",
    "print(type(a))\n",
    "print(type(b))"
   ]
  },
  {
   "cell_type": "code",
   "execution_count": 11,
   "metadata": {},
   "outputs": [
    {
     "name": "stdout",
     "output_type": "stream",
     "text": [
      "15\n"
     ]
    }
   ],
   "source": [
    "class calc():\n",
    "    def __init__(self, number):\n",
    "        self.number = number\n",
    "    def plus(self, new_number):\n",
    "        print(self.number + new_number)\n",
    "c1 = calc(10)\n",
    "c1.plus(5)"
   ]
  },
  {
   "cell_type": "code",
   "execution_count": 12,
   "metadata": {},
   "outputs": [
    {
     "name": "stdout",
     "output_type": "stream",
     "text": [
      "13\n",
      "-2\n"
     ]
    }
   ],
   "source": [
    "class calc_2():\n",
    "    def __init__(self, number):\n",
    "        self.number = number\n",
    "    def plus(self, new_number):\n",
    "        print(self.number + new_number)\n",
    "    def minus(self, new_number):\n",
    "        print(self.number - new_number)\n",
    "        \n",
    "c1 = calc_2(10)\n",
    "c1.plus(3)\n",
    "c1.minus(12)"
   ]
  },
  {
   "cell_type": "markdown",
   "metadata": {},
   "source": [
    "# 딕셔너리 안에 딕셔너리"
   ]
  },
  {
   "cell_type": "code",
   "execution_count": 13,
   "metadata": {},
   "outputs": [],
   "source": [
    "date = {\"results\":{\"sunrise\":\"5:08:33 AM\",\"sunset\":\"7:19:36 PM\",\"solar_noon\":\"12:14:05 PM\",\"day_length\":\"14:11:03\",\"civil_twilight_begin\":\"4:39:35 AM\",\"civil_twilight_end\":\"7:48:35 PM\",\"nautical_twilight_begin\":\"4:04:02 AM\",\"nautical_twilight_end\":\"8:24:08 PM\",\"astronomical_twilight_begin\":\"3:25:26 AM\",\"astronomical_twilight_end\":\"9:02:43 PM\"},\"status\":\"OK\"}"
   ]
  },
  {
   "cell_type": "code",
   "execution_count": 14,
   "metadata": {},
   "outputs": [
    {
     "data": {
      "text/plain": [
       "dict_keys(['results', 'status'])"
      ]
     },
     "execution_count": 14,
     "metadata": {},
     "output_type": "execute_result"
    }
   ],
   "source": [
    "date.keys()"
   ]
  },
  {
   "cell_type": "code",
   "execution_count": 15,
   "metadata": {},
   "outputs": [
    {
     "data": {
      "text/plain": [
       "dict_values([{'sunrise': '5:08:33 AM', 'sunset': '7:19:36 PM', 'solar_noon': '12:14:05 PM', 'day_length': '14:11:03', 'civil_twilight_begin': '4:39:35 AM', 'civil_twilight_end': '7:48:35 PM', 'nautical_twilight_begin': '4:04:02 AM', 'nautical_twilight_end': '8:24:08 PM', 'astronomical_twilight_begin': '3:25:26 AM', 'astronomical_twilight_end': '9:02:43 PM'}, 'OK'])"
      ]
     },
     "execution_count": 15,
     "metadata": {},
     "output_type": "execute_result"
    }
   ],
   "source": [
    "date.values()"
   ]
  },
  {
   "cell_type": "code",
   "execution_count": 16,
   "metadata": {},
   "outputs": [
    {
     "data": {
      "text/plain": [
       "['sunrise',\n",
       " 'sunset',\n",
       " 'solar_noon',\n",
       " 'day_length',\n",
       " 'civil_twilight_begin',\n",
       " 'civil_twilight_end',\n",
       " 'nautical_twilight_begin',\n",
       " 'nautical_twilight_end',\n",
       " 'astronomical_twilight_begin',\n",
       " 'astronomical_twilight_end']"
      ]
     },
     "execution_count": 16,
     "metadata": {},
     "output_type": "execute_result"
    }
   ],
   "source": [
    "list(date[\"results\"].keys())"
   ]
  },
  {
   "cell_type": "code",
   "execution_count": 17,
   "metadata": {},
   "outputs": [],
   "source": [
    "# list(date[\"results\"].values())"
   ]
  },
  {
   "cell_type": "code",
   "execution_count": 18,
   "metadata": {},
   "outputs": [
    {
     "data": {
      "text/plain": [
       "'14:11:03'"
      ]
     },
     "execution_count": 18,
     "metadata": {},
     "output_type": "execute_result"
    }
   ],
   "source": [
    "date[\"results\"][\"day_length\"]"
   ]
  },
  {
   "cell_type": "markdown",
   "metadata": {},
   "source": [
    "#### 1. 모든 시간 정보를 화면에 표시하기"
   ]
  },
  {
   "cell_type": "code",
   "execution_count": 19,
   "metadata": {},
   "outputs": [
    {
     "name": "stdout",
     "output_type": "stream",
     "text": [
      "5:08:33 AM\n",
      "7:19:36 PM\n",
      "12:14:05 PM\n",
      "14:11:03\n",
      "4:39:35 AM\n",
      "7:48:35 PM\n",
      "4:04:02 AM\n",
      "4:04:02 AM\n",
      "3:25:26 AM\n",
      "9:02:43 PM\n"
     ]
    }
   ],
   "source": [
    "#1, 반복문X\n",
    "print(date[\"results\"][\"sunrise\"])\n",
    "print(date[\"results\"][\"sunset\"])\n",
    "print(date[\"results\"][\"solar_noon\"])\n",
    "print(date[\"results\"][\"day_length\"])\n",
    "print(date[\"results\"][\"civil_twilight_begin\"])\n",
    "print(date[\"results\"][\"civil_twilight_end\"])\n",
    "print(date[\"results\"][\"nautical_twilight_begin\"])\n",
    "print(date[\"results\"][\"nautical_twilight_begin\"])\n",
    "print(date[\"results\"][\"astronomical_twilight_begin\"])\n",
    "print(date[\"results\"][\"astronomical_twilight_end\"])"
   ]
  },
  {
   "cell_type": "code",
   "execution_count": 20,
   "metadata": {
    "scrolled": true
   },
   "outputs": [
    {
     "name": "stdout",
     "output_type": "stream",
     "text": [
      "5:08:33 AM\n",
      "7:19:36 PM\n",
      "12:14:05 PM\n",
      "14:11:03\n",
      "4:39:35 AM\n",
      "7:48:35 PM\n",
      "4:04:02 AM\n",
      "8:24:08 PM\n",
      "3:25:26 AM\n",
      "9:02:43 PM\n",
      "\n",
      "==============================\n",
      "\n",
      "5:08:33 AM\n",
      "7:19:36 PM\n",
      "12:14:05 PM\n",
      "14:11:03\n",
      "4:39:35 AM\n",
      "7:48:35 PM\n",
      "4:04:02 AM\n",
      "8:24:08 PM\n",
      "3:25:26 AM\n",
      "9:02:43 PM\n"
     ]
    }
   ],
   "source": [
    "#2, 반복문O\n",
    "for i in date[\"results\"].values():\n",
    "    print(i)\n",
    "    \n",
    "print(\"\\n\"+ \"=\" * 30 + \"\\n\")\n",
    "\n",
    "for i in date[\"results\"].keys():\n",
    "    print(date[\"results\"][i])"
   ]
  },
  {
   "cell_type": "code",
   "execution_count": 21,
   "metadata": {},
   "outputs": [
    {
     "name": "stdout",
     "output_type": "stream",
     "text": [
      "{'sunrise': '5:08:33 AM', 'sunset': '7:19:36 PM', 'solar_noon': '12:14:05 PM', 'day_length': '14:11:03', 'civil_twilight_begin': '4:39:35 AM', 'civil_twilight_end': '7:48:35 PM', 'nautical_twilight_begin': '4:04:02 AM', 'nautical_twilight_end': '8:24:08 PM', 'astronomical_twilight_begin': '3:25:26 AM', 'astronomical_twilight_end': '9:02:43 PM'}\n",
      "OK\n"
     ]
    }
   ],
   "source": [
    "for i in date.values():\n",
    "    print(i)"
   ]
  },
  {
   "cell_type": "markdown",
   "metadata": {},
   "source": [
    "# 문자열"
   ]
  },
  {
   "cell_type": "code",
   "execution_count": 22,
   "metadata": {},
   "outputs": [],
   "source": [
    "sample = \"5:08:33 AM\""
   ]
  },
  {
   "cell_type": "code",
   "execution_count": 23,
   "metadata": {},
   "outputs": [
    {
     "name": "stdout",
     "output_type": "stream",
     "text": [
      "오전 5시 08분 33초\n"
     ]
    }
   ],
   "source": [
    "print(\"오전\", sample[0]+\"시\", sample[2:4] + \"분\", sample[5:7] + \"초\")"
   ]
  },
  {
   "cell_type": "code",
   "execution_count": 24,
   "metadata": {
    "scrolled": true
   },
   "outputs": [
    {
     "name": "stdout",
     "output_type": "stream",
     "text": [
      "오전 5시 08분 33초\n"
     ]
    }
   ],
   "source": [
    "date = sample.split(\":\")\n",
    "\n",
    "print(\"오전\", date[0] + \"시\", date[1] + \"분\", date[2][:2] + \"초\")"
   ]
  },
  {
   "cell_type": "code",
   "execution_count": 25,
   "metadata": {},
   "outputs": [
    {
     "name": "stdout",
     "output_type": "stream",
     "text": [
      "5 08 33 AM\n"
     ]
    }
   ],
   "source": [
    "hms = sample.split()[0]\n",
    "ap = sample.split()[1]\n",
    "\n",
    "h = hms.split(\":\")[0]\n",
    "m = hms.split(\":\")[1]\n",
    "s = hms.split(\":\")[2]\n",
    "\n",
    "print(h, m, s, ap)"
   ]
  },
  {
   "cell_type": "markdown",
   "metadata": {},
   "source": [
    "# time_display"
   ]
  },
  {
   "cell_type": "code",
   "execution_count": 26,
   "metadata": {},
   "outputs": [
    {
     "name": "stdout",
     "output_type": "stream",
     "text": [
      "오전 7시 48분 35초\n"
     ]
    }
   ],
   "source": [
    "sample = \"7:48:35 AM\"\n",
    "\n",
    "def time_display(time):\n",
    "    hms = time.split()[0]\n",
    "    ap = time.split()[1]\n",
    "\n",
    "    if ap == \"AM\":\n",
    "        ap = \"오전\"\n",
    "    elif ap == \"PM\":\n",
    "        ap = \"오후\"\n",
    "        \n",
    "    h = hms.split(\":\")[0]\n",
    "    m = hms.split(\":\")[1]\n",
    "    s = hms.split(\":\")[2]\n",
    "                 \n",
    "    result = ap + \" \"+ h + \"시 \" + m + \"분 \"+ s +\"초\"\n",
    "    \n",
    "    print(result)\n",
    "    \n",
    "time_display(sample)"
   ]
  },
  {
   "cell_type": "code",
   "execution_count": 27,
   "metadata": {},
   "outputs": [
    {
     "ename": "AttributeError",
     "evalue": "'builtin_function_or_method' object has no attribute 'split'",
     "output_type": "error",
     "traceback": [
      "\u001b[1;31m---------------------------------------------------------------------------\u001b[0m",
      "\u001b[1;31mAttributeError\u001b[0m                            Traceback (most recent call last)",
      "\u001b[1;32m<ipython-input-27-a0bb2f35819c>\u001b[0m in \u001b[0;36m<module>\u001b[1;34m\u001b[0m\n\u001b[0;32m      4\u001b[0m \u001b[1;32mimport\u001b[0m \u001b[0mdatetime\u001b[0m\u001b[1;33m\u001b[0m\u001b[1;33m\u001b[0m\u001b[0m\n\u001b[0;32m      5\u001b[0m \u001b[1;33m\u001b[0m\u001b[0m\n\u001b[1;32m----> 6\u001b[1;33m \u001b[0mtime\u001b[0m \u001b[1;33m=\u001b[0m \u001b[0mdatetime\u001b[0m\u001b[1;33m.\u001b[0m\u001b[0mdatetime\u001b[0m\u001b[1;33m.\u001b[0m\u001b[0mnow\u001b[0m\u001b[1;33m.\u001b[0m\u001b[0msplit\u001b[0m\u001b[1;33m(\u001b[0m\u001b[1;33m)\u001b[0m\u001b[1;33m\u001b[0m\u001b[1;33m\u001b[0m\u001b[0m\n\u001b[0m\u001b[0;32m      7\u001b[0m \u001b[0mprint\u001b[0m \u001b[1;33m(\u001b[0m\u001b[0mtime\u001b[0m\u001b[1;33m)\u001b[0m\u001b[1;33m\u001b[0m\u001b[1;33m\u001b[0m\u001b[0m\n\u001b[0;32m      8\u001b[0m \u001b[1;33m\u001b[0m\u001b[0m\n",
      "\u001b[1;31mAttributeError\u001b[0m: 'builtin_function_or_method' object has no attribute 'split'"
     ]
    }
   ],
   "source": [
    "# 현재 시간\n",
    "\n",
    "\n",
    "import datetime\n",
    " \n",
    "time = datetime.datetime.now.split()\n",
    "print (time)\n",
    "\n",
    "def now_time():\n",
    "    time = datetime.datetime.now.split()\n",
    "    \n",
    "    hms = time.split()[0]\n",
    "    \n",
    "    h = hms.split(\":\")[0]\n",
    "    m = hms.split(\":\")[1]\n",
    "    s = hms.split(\":\")[2]\n",
    "    \n",
    "    if int(h) > 12:\n",
    "        ap = \"오후\"\n",
    "        h = str(int(h) % 12)\n",
    "    elif int(h) < 12:\n",
    "        ap = \"오전\"\n",
    "    \n",
    "    re = f\"{ap} {h}시 {m}분 {s}초\"\n",
    "    \n",
    "# now_time()"
   ]
  },
  {
   "cell_type": "code",
   "execution_count": 28,
   "metadata": {
    "scrolled": true
   },
   "outputs": [
    {
     "name": "stdout",
     "output_type": "stream",
     "text": [
      "Help on built-in function split:\n",
      "\n",
      "split(sep=None, maxsplit=-1) method of builtins.str instance\n",
      "    Return a list of the words in the string, using sep as the delimiter string.\n",
      "    \n",
      "    sep\n",
      "      The delimiter according which to split the string.\n",
      "      None (the default value) means split according to any whitespace,\n",
      "      and discard empty strings from the result.\n",
      "    maxsplit\n",
      "      Maximum number of splits to do.\n",
      "      -1 (the default value) means no limit.\n",
      "\n"
     ]
    }
   ],
   "source": [
    "help(sample.split)"
   ]
  },
  {
   "cell_type": "code",
   "execution_count": 29,
   "metadata": {},
   "outputs": [
    {
     "data": {
      "text/plain": [
       "30"
      ]
     },
     "execution_count": 29,
     "metadata": {},
     "output_type": "execute_result"
    }
   ],
   "source": [
    "#함수의 기본 값\n",
    "def my_sample(a, b = 10):\n",
    "    return a * b\n",
    "\n",
    "my_sample(3)"
   ]
  },
  {
   "cell_type": "code",
   "execution_count": 30,
   "metadata": {},
   "outputs": [
    {
     "name": "stdout",
     "output_type": "stream",
     "text": [
      "오후 8시 20분 21초\n"
     ]
    }
   ],
   "source": [
    "sample = \"8:20:21 PM\"\n",
    "def time_display(time):\n",
    "    hms = time.split()[0]\n",
    "    ap = time.split()[1]\n",
    "\n",
    "    if ap == \"AM\":\n",
    "        ap = \"오전\"\n",
    "    elif ap == \"PM\":\n",
    "        ap = \"오후\"\n",
    "        \n",
    "    h = hms.split(\":\")[0]\n",
    "    m = hms.split(\":\")[1]\n",
    "    s = hms.split(\":\")[2]\n",
    "                 \n",
    "    result = f\"{ap} {h}시 {m}분 {s}초\"\n",
    "    \n",
    "    print(result)\n",
    "    \n",
    "    \n",
    "time_display(sample)"
   ]
  },
  {
   "cell_type": "markdown",
   "metadata": {},
   "source": [
    "# request - 요청"
   ]
  },
  {
   "cell_type": "code",
   "execution_count": 1,
   "metadata": {},
   "outputs": [
    {
     "data": {
      "text/plain": [
       "{'results': {'sunrise': '5:26:28 AM',\n",
       "  'sunset': '7:20:38 PM',\n",
       "  'solar_noon': '12:23:33 PM',\n",
       "  'day_length': '13:54:10',\n",
       "  'civil_twilight_begin': '4:59:44 AM',\n",
       "  'civil_twilight_end': '7:47:23 PM',\n",
       "  'nautical_twilight_begin': '4:25:37 AM',\n",
       "  'nautical_twilight_end': '8:21:30 PM',\n",
       "  'astronomical_twilight_begin': '3:49:11 AM',\n",
       "  'astronomical_twilight_end': '8:57:56 PM'},\n",
       " 'status': 'OK'}"
      ]
     },
     "execution_count": 1,
     "metadata": {},
     "output_type": "execute_result"
    }
   ],
   "source": [
    "import requests\n",
    "\n",
    "url = \"https://api.sunrise-sunset.org/json?lat=36.7201600&lng=-4.4203400\"\n",
    "\n",
    "date = requests.get(url).json()\n",
    "\n",
    "date"
   ]
  },
  {
   "cell_type": "code",
   "execution_count": 32,
   "metadata": {},
   "outputs": [
    {
     "data": {
      "text/plain": [
       "{'sunrise': '10:44:47 PM',\n",
       " 'sunset': '8:38:57 AM',\n",
       " 'solar_noon': '3:41:52 AM',\n",
       " 'day_length': '09:54:10',\n",
       " 'civil_twilight_begin': '10:16:25 PM',\n",
       " 'civil_twilight_end': '9:07:18 AM',\n",
       " 'nautical_twilight_begin': '9:44:20 PM',\n",
       " 'nautical_twilight_end': '9:39:23 AM',\n",
       " 'astronomical_twilight_begin': '9:13:01 PM',\n",
       " 'astronomical_twilight_end': '10:10:43 AM'}"
      ]
     },
     "execution_count": 32,
     "metadata": {},
     "output_type": "execute_result"
    }
   ],
   "source": [
    "def pointed(lat, lng):\n",
    "    url = f\"https://api.sunrise-sunset.org/json?lat=37.532&lng=127.024&date=2020-01-17\"\n",
    "    \n",
    "    date_1 = requests.get(url).json()[\"results\"]\n",
    "    \n",
    "    return date_1\n",
    "    \n",
    "pointed(37.532, 127.024)"
   ]
  },
  {
   "cell_type": "code",
   "execution_count": 33,
   "metadata": {},
   "outputs": [],
   "source": [
    "def Korea(time):\n",
    "\n",
    "    hms = time.split()[0]\n",
    "    ap = time.split()[1]\n",
    "\n",
    "    h = str(int(hms.split(\":\")[0]) + 9)\n",
    "    m = hms.split(\":\")[1]\n",
    "    s = hms.split(\":\")[2]\n",
    "\n",
    "    if int(h) >= 12:\n",
    "        h = int(h) - 12\n",
    "        if ap == \"AM\":\n",
    "            ap = \"PM\"\n",
    "        elif ap == \"PM\":\n",
    "            ap = \"AM\"\n",
    "\n",
    "    result = f\"{h}:{m}:{s} {ap}\"\n",
    "\n",
    "    return result\n"
   ]
  },
  {
   "cell_type": "code",
   "execution_count": 34,
   "metadata": {},
   "outputs": [
    {
     "name": "stdout",
     "output_type": "stream",
     "text": [
      "오전 5시 20분 21초\n"
     ]
    }
   ],
   "source": [
    "kt = Korea(\"8:20:21 PM\")\n",
    "\n",
    "time_display(kt)"
   ]
  },
  {
   "cell_type": "code",
   "execution_count": 35,
   "metadata": {},
   "outputs": [
    {
     "data": {
      "text/plain": [
       "{'sunrise': '10:02:09 PM',\n",
       " 'sunset': '9:26:02 AM',\n",
       " 'solar_noon': '3:44:05 AM',\n",
       " 'day_length': '11:23:53',\n",
       " 'civil_twilight_begin': '9:36:01 PM',\n",
       " 'civil_twilight_end': '9:52:10 AM',\n",
       " 'nautical_twilight_begin': '9:05:43 PM',\n",
       " 'nautical_twilight_end': '10:22:28 AM',\n",
       " 'astronomical_twilight_begin': '8:35:25 PM',\n",
       " 'astronomical_twilight_end': '10:52:46 AM'}"
      ]
     },
     "execution_count": 35,
     "metadata": {},
     "output_type": "execute_result"
    }
   ],
   "source": [
    "def by_date(date):\n",
    "    url = \"https://api.sunrise-sunset.org/json?lat=37.532&lng=127.024&date=\" + date\n",
    "    \n",
    "    date = requests.get(url).json()\n",
    "    \n",
    "    return date[\"results\"]\n",
    "    \n",
    "by_date(\"2020-03-01\")"
   ]
  },
  {
   "cell_type": "markdown",
   "metadata": {},
   "source": [
    "# 엑셀로 저장"
   ]
  },
  {
   "cell_type": "code",
   "execution_count": 36,
   "metadata": {},
   "outputs": [
    {
     "data": {
      "text/html": [
       "<div>\n",
       "<style scoped>\n",
       "    .dataframe tbody tr th:only-of-type {\n",
       "        vertical-align: middle;\n",
       "    }\n",
       "\n",
       "    .dataframe tbody tr th {\n",
       "        vertical-align: top;\n",
       "    }\n",
       "\n",
       "    .dataframe thead th {\n",
       "        text-align: right;\n",
       "    }\n",
       "</style>\n",
       "<table border=\"1\" class=\"dataframe\">\n",
       "  <thead>\n",
       "    <tr style=\"text-align: right;\">\n",
       "      <th></th>\n",
       "      <th>sunrise</th>\n",
       "      <th>sunset</th>\n",
       "      <th>solar_noon</th>\n",
       "      <th>day_length</th>\n",
       "      <th>civil_twilight_begin</th>\n",
       "      <th>civil_twilight_end</th>\n",
       "      <th>nautical_twilight_begin</th>\n",
       "      <th>nautical_twilight_end</th>\n",
       "      <th>astronomical_twilight_begin</th>\n",
       "      <th>astronomical_twilight_end</th>\n",
       "    </tr>\n",
       "  </thead>\n",
       "  <tbody>\n",
       "    <tr>\n",
       "      <th>0</th>\n",
       "      <td>10:02:09 PM</td>\n",
       "      <td>9:26:02 AM</td>\n",
       "      <td>3:44:05 AM</td>\n",
       "      <td>11:23:53</td>\n",
       "      <td>9:36:01 PM</td>\n",
       "      <td>9:52:10 AM</td>\n",
       "      <td>9:05:43 PM</td>\n",
       "      <td>10:22:28 AM</td>\n",
       "      <td>8:35:25 PM</td>\n",
       "      <td>10:52:46 AM</td>\n",
       "    </tr>\n",
       "    <tr>\n",
       "      <th>1</th>\n",
       "      <td>10:00:45 PM</td>\n",
       "      <td>9:27:01 AM</td>\n",
       "      <td>3:43:53 AM</td>\n",
       "      <td>11:26:16</td>\n",
       "      <td>9:34:38 PM</td>\n",
       "      <td>9:53:08 AM</td>\n",
       "      <td>9:04:21 PM</td>\n",
       "      <td>10:23:25 AM</td>\n",
       "      <td>8:34:03 PM</td>\n",
       "      <td>10:53:44 AM</td>\n",
       "    </tr>\n",
       "  </tbody>\n",
       "</table>\n",
       "</div>"
      ],
      "text/plain": [
       "       sunrise      sunset  solar_noon day_length civil_twilight_begin  \\\n",
       "0  10:02:09 PM  9:26:02 AM  3:44:05 AM   11:23:53           9:36:01 PM   \n",
       "1  10:00:45 PM  9:27:01 AM  3:43:53 AM   11:26:16           9:34:38 PM   \n",
       "\n",
       "  civil_twilight_end nautical_twilight_begin nautical_twilight_end  \\\n",
       "0         9:52:10 AM              9:05:43 PM           10:22:28 AM   \n",
       "1         9:53:08 AM              9:04:21 PM           10:23:25 AM   \n",
       "\n",
       "  astronomical_twilight_begin astronomical_twilight_end  \n",
       "0                  8:35:25 PM               10:52:46 AM  \n",
       "1                  8:34:03 PM               10:53:44 AM  "
      ]
     },
     "execution_count": 36,
     "metadata": {},
     "output_type": "execute_result"
    }
   ],
   "source": [
    "import pandas as pd #pandas를 불러오는데 이름을 pd로 불러온다.\n",
    "\n",
    "\n",
    "result1 = by_date(\"2020-03-01\")\n",
    "result2 = by_date(\"2020-03-02\")\n",
    "\n",
    "dates = [result1, result2]\n",
    "\n",
    "pd.DataFrame(dates)\n",
    "\n",
    "\n",
    "#와 미쳤다.........."
   ]
  },
  {
   "cell_type": "code",
   "execution_count": 37,
   "metadata": {},
   "outputs": [
    {
     "data": {
      "text/html": [
       "<div>\n",
       "<style scoped>\n",
       "    .dataframe tbody tr th:only-of-type {\n",
       "        vertical-align: middle;\n",
       "    }\n",
       "\n",
       "    .dataframe tbody tr th {\n",
       "        vertical-align: top;\n",
       "    }\n",
       "\n",
       "    .dataframe thead th {\n",
       "        text-align: right;\n",
       "    }\n",
       "</style>\n",
       "<table border=\"1\" class=\"dataframe\">\n",
       "  <thead>\n",
       "    <tr style=\"text-align: right;\">\n",
       "      <th></th>\n",
       "      <th>a</th>\n",
       "      <th>b</th>\n",
       "    </tr>\n",
       "  </thead>\n",
       "  <tbody>\n",
       "    <tr>\n",
       "      <th>0</th>\n",
       "      <td>1</td>\n",
       "      <td>5</td>\n",
       "    </tr>\n",
       "    <tr>\n",
       "      <th>1</th>\n",
       "      <td>2</td>\n",
       "      <td>6</td>\n",
       "    </tr>\n",
       "    <tr>\n",
       "      <th>2</th>\n",
       "      <td>3</td>\n",
       "      <td>7</td>\n",
       "    </tr>\n",
       "    <tr>\n",
       "      <th>3</th>\n",
       "      <td>4</td>\n",
       "      <td>8</td>\n",
       "    </tr>\n",
       "    <tr>\n",
       "      <th>0</th>\n",
       "      <td>10</td>\n",
       "      <td>50</td>\n",
       "    </tr>\n",
       "    <tr>\n",
       "      <th>1</th>\n",
       "      <td>20</td>\n",
       "      <td>60</td>\n",
       "    </tr>\n",
       "    <tr>\n",
       "      <th>2</th>\n",
       "      <td>30</td>\n",
       "      <td>70</td>\n",
       "    </tr>\n",
       "    <tr>\n",
       "      <th>3</th>\n",
       "      <td>40</td>\n",
       "      <td>80</td>\n",
       "    </tr>\n",
       "  </tbody>\n",
       "</table>\n",
       "</div>"
      ],
      "text/plain": [
       "    a   b\n",
       "0   1   5\n",
       "1   2   6\n",
       "2   3   7\n",
       "3   4   8\n",
       "0  10  50\n",
       "1  20  60\n",
       "2  30  70\n",
       "3  40  80"
      ]
     },
     "execution_count": 37,
     "metadata": {},
     "output_type": "execute_result"
    }
   ],
   "source": [
    "a1 = {\n",
    "    \"a\" : [1,2,3,4],\n",
    "    \"b\" : [5,6,7,8],\n",
    "}\n",
    "\n",
    "a2 = {\n",
    "    \"a\" : [10,20,30,40], \n",
    "    \"b\" : [50,60,70,80],\n",
    "}\n",
    "\n",
    "a1d = pd.DataFrame(a1)\n",
    "a2d = pd.DataFrame(a2)\n",
    "pd.concat([a1d, a2d])    #cancat : 표 들을 이어 붙인다.\n",
    "    \n",
    "\n"
   ]
  },
  {
   "cell_type": "code",
   "execution_count": 38,
   "metadata": {},
   "outputs": [
    {
     "data": {
      "text/html": [
       "<div>\n",
       "<style scoped>\n",
       "    .dataframe tbody tr th:only-of-type {\n",
       "        vertical-align: middle;\n",
       "    }\n",
       "\n",
       "    .dataframe tbody tr th {\n",
       "        vertical-align: top;\n",
       "    }\n",
       "\n",
       "    .dataframe thead th {\n",
       "        text-align: right;\n",
       "    }\n",
       "</style>\n",
       "<table border=\"1\" class=\"dataframe\">\n",
       "  <thead>\n",
       "    <tr style=\"text-align: right;\">\n",
       "      <th></th>\n",
       "      <th>sunrise</th>\n",
       "      <th>sunset</th>\n",
       "      <th>solar_noon</th>\n",
       "      <th>day_length</th>\n",
       "      <th>civil_twilight_begin</th>\n",
       "      <th>civil_twilight_end</th>\n",
       "      <th>nautical_twilight_begin</th>\n",
       "      <th>nautical_twilight_end</th>\n",
       "      <th>astronomical_twilight_begin</th>\n",
       "      <th>astronomical_twilight_end</th>\n",
       "    </tr>\n",
       "  </thead>\n",
       "  <tbody>\n",
       "    <tr>\n",
       "      <th>0</th>\n",
       "      <td>10:02:09 PM</td>\n",
       "      <td>9:26:02 AM</td>\n",
       "      <td>3:44:05 AM</td>\n",
       "      <td>11:23:53</td>\n",
       "      <td>9:36:01 PM</td>\n",
       "      <td>9:52:10 AM</td>\n",
       "      <td>9:05:43 PM</td>\n",
       "      <td>10:22:28 AM</td>\n",
       "      <td>8:35:25 PM</td>\n",
       "      <td>10:52:46 AM</td>\n",
       "    </tr>\n",
       "    <tr>\n",
       "      <th>1</th>\n",
       "      <td>10:00:45 PM</td>\n",
       "      <td>9:27:01 AM</td>\n",
       "      <td>3:43:53 AM</td>\n",
       "      <td>11:26:16</td>\n",
       "      <td>9:34:38 PM</td>\n",
       "      <td>9:53:08 AM</td>\n",
       "      <td>9:04:21 PM</td>\n",
       "      <td>10:23:25 AM</td>\n",
       "      <td>8:34:03 PM</td>\n",
       "      <td>10:53:44 AM</td>\n",
       "    </tr>\n",
       "    <tr>\n",
       "      <th>2</th>\n",
       "      <td>9:59:21 PM</td>\n",
       "      <td>9:28:00 AM</td>\n",
       "      <td>3:43:40 AM</td>\n",
       "      <td>11:28:39</td>\n",
       "      <td>9:33:15 PM</td>\n",
       "      <td>9:54:06 AM</td>\n",
       "      <td>9:02:58 PM</td>\n",
       "      <td>10:24:23 AM</td>\n",
       "      <td>8:32:39 PM</td>\n",
       "      <td>10:54:42 AM</td>\n",
       "    </tr>\n",
       "    <tr>\n",
       "      <th>3</th>\n",
       "      <td>9:57:56 PM</td>\n",
       "      <td>9:28:59 AM</td>\n",
       "      <td>3:43:27 AM</td>\n",
       "      <td>11:31:03</td>\n",
       "      <td>9:31:51 PM</td>\n",
       "      <td>9:55:03 AM</td>\n",
       "      <td>9:01:35 PM</td>\n",
       "      <td>10:25:20 AM</td>\n",
       "      <td>8:31:14 PM</td>\n",
       "      <td>10:55:40 AM</td>\n",
       "    </tr>\n",
       "    <tr>\n",
       "      <th>4</th>\n",
       "      <td>9:56:30 PM</td>\n",
       "      <td>9:29:57 AM</td>\n",
       "      <td>3:43:14 AM</td>\n",
       "      <td>11:33:27</td>\n",
       "      <td>9:30:27 PM</td>\n",
       "      <td>9:56:01 AM</td>\n",
       "      <td>9:00:10 PM</td>\n",
       "      <td>10:26:17 AM</td>\n",
       "      <td>8:29:49 PM</td>\n",
       "      <td>10:56:39 AM</td>\n",
       "    </tr>\n",
       "    <tr>\n",
       "      <th>5</th>\n",
       "      <td>9:55:04 PM</td>\n",
       "      <td>9:30:55 AM</td>\n",
       "      <td>3:43:00 AM</td>\n",
       "      <td>11:35:51</td>\n",
       "      <td>9:29:02 PM</td>\n",
       "      <td>9:56:58 AM</td>\n",
       "      <td>8:58:45 PM</td>\n",
       "      <td>10:27:14 AM</td>\n",
       "      <td>8:28:22 PM</td>\n",
       "      <td>10:57:37 AM</td>\n",
       "    </tr>\n",
       "    <tr>\n",
       "      <th>6</th>\n",
       "      <td>9:53:37 PM</td>\n",
       "      <td>9:31:53 AM</td>\n",
       "      <td>3:42:45 AM</td>\n",
       "      <td>11:38:16</td>\n",
       "      <td>9:27:36 PM</td>\n",
       "      <td>9:57:55 AM</td>\n",
       "      <td>8:57:19 PM</td>\n",
       "      <td>10:28:11 AM</td>\n",
       "      <td>8:26:55 PM</td>\n",
       "      <td>10:58:36 AM</td>\n",
       "    </tr>\n",
       "    <tr>\n",
       "      <th>7</th>\n",
       "      <td>9:52:10 PM</td>\n",
       "      <td>9:32:51 AM</td>\n",
       "      <td>3:42:30 AM</td>\n",
       "      <td>11:40:41</td>\n",
       "      <td>9:26:09 PM</td>\n",
       "      <td>9:58:51 AM</td>\n",
       "      <td>8:55:53 PM</td>\n",
       "      <td>10:29:08 AM</td>\n",
       "      <td>8:25:26 PM</td>\n",
       "      <td>10:59:34 AM</td>\n",
       "    </tr>\n",
       "    <tr>\n",
       "      <th>8</th>\n",
       "      <td>9:50:42 PM</td>\n",
       "      <td>9:33:48 AM</td>\n",
       "      <td>3:42:15 AM</td>\n",
       "      <td>11:43:06</td>\n",
       "      <td>9:24:42 PM</td>\n",
       "      <td>9:59:48 AM</td>\n",
       "      <td>8:54:25 PM</td>\n",
       "      <td>10:30:05 AM</td>\n",
       "      <td>8:23:57 PM</td>\n",
       "      <td>11:00:33 AM</td>\n",
       "    </tr>\n",
       "    <tr>\n",
       "      <th>9</th>\n",
       "      <td>9:49:14 PM</td>\n",
       "      <td>9:34:45 AM</td>\n",
       "      <td>3:42:00 AM</td>\n",
       "      <td>11:45:31</td>\n",
       "      <td>9:23:15 PM</td>\n",
       "      <td>10:00:45 AM</td>\n",
       "      <td>8:52:57 PM</td>\n",
       "      <td>10:31:02 AM</td>\n",
       "      <td>8:22:27 PM</td>\n",
       "      <td>11:01:32 AM</td>\n",
       "    </tr>\n",
       "    <tr>\n",
       "      <th>10</th>\n",
       "      <td>9:47:46 PM</td>\n",
       "      <td>9:35:42 AM</td>\n",
       "      <td>3:41:44 AM</td>\n",
       "      <td>11:47:56</td>\n",
       "      <td>9:21:47 PM</td>\n",
       "      <td>10:01:41 AM</td>\n",
       "      <td>8:51:28 PM</td>\n",
       "      <td>10:31:59 AM</td>\n",
       "      <td>8:20:56 PM</td>\n",
       "      <td>11:02:31 AM</td>\n",
       "    </tr>\n",
       "    <tr>\n",
       "      <th>11</th>\n",
       "      <td>9:46:17 PM</td>\n",
       "      <td>9:36:39 AM</td>\n",
       "      <td>3:41:28 AM</td>\n",
       "      <td>11:50:22</td>\n",
       "      <td>9:20:18 PM</td>\n",
       "      <td>10:02:37 AM</td>\n",
       "      <td>8:49:59 PM</td>\n",
       "      <td>10:32:57 AM</td>\n",
       "      <td>8:19:25 PM</td>\n",
       "      <td>11:03:31 AM</td>\n",
       "    </tr>\n",
       "    <tr>\n",
       "      <th>12</th>\n",
       "      <td>9:44:48 PM</td>\n",
       "      <td>9:37:35 AM</td>\n",
       "      <td>3:41:11 AM</td>\n",
       "      <td>11:52:47</td>\n",
       "      <td>9:18:49 PM</td>\n",
       "      <td>10:03:34 AM</td>\n",
       "      <td>8:48:29 PM</td>\n",
       "      <td>10:33:54 AM</td>\n",
       "      <td>8:17:53 PM</td>\n",
       "      <td>11:04:30 AM</td>\n",
       "    </tr>\n",
       "    <tr>\n",
       "      <th>13</th>\n",
       "      <td>9:43:18 PM</td>\n",
       "      <td>9:38:31 AM</td>\n",
       "      <td>3:40:55 AM</td>\n",
       "      <td>11:55:13</td>\n",
       "      <td>9:17:20 PM</td>\n",
       "      <td>10:04:30 AM</td>\n",
       "      <td>8:46:59 PM</td>\n",
       "      <td>10:34:51 AM</td>\n",
       "      <td>8:16:19 PM</td>\n",
       "      <td>11:05:30 AM</td>\n",
       "    </tr>\n",
       "    <tr>\n",
       "      <th>14</th>\n",
       "      <td>9:41:49 PM</td>\n",
       "      <td>9:39:27 AM</td>\n",
       "      <td>3:40:38 AM</td>\n",
       "      <td>11:57:38</td>\n",
       "      <td>9:15:50 PM</td>\n",
       "      <td>10:05:26 AM</td>\n",
       "      <td>8:45:28 PM</td>\n",
       "      <td>10:35:48 AM</td>\n",
       "      <td>8:14:46 PM</td>\n",
       "      <td>11:06:30 AM</td>\n",
       "    </tr>\n",
       "    <tr>\n",
       "      <th>15</th>\n",
       "      <td>9:40:19 PM</td>\n",
       "      <td>9:40:23 AM</td>\n",
       "      <td>3:40:21 AM</td>\n",
       "      <td>12:00:04</td>\n",
       "      <td>9:14:20 PM</td>\n",
       "      <td>10:06:22 AM</td>\n",
       "      <td>8:43:56 PM</td>\n",
       "      <td>10:36:46 AM</td>\n",
       "      <td>8:13:11 PM</td>\n",
       "      <td>11:07:30 AM</td>\n",
       "    </tr>\n",
       "    <tr>\n",
       "      <th>16</th>\n",
       "      <td>9:38:48 PM</td>\n",
       "      <td>9:41:19 AM</td>\n",
       "      <td>3:40:03 AM</td>\n",
       "      <td>12:02:31</td>\n",
       "      <td>9:12:49 PM</td>\n",
       "      <td>10:07:18 AM</td>\n",
       "      <td>8:42:24 PM</td>\n",
       "      <td>10:37:43 AM</td>\n",
       "      <td>8:11:36 PM</td>\n",
       "      <td>11:08:31 AM</td>\n",
       "    </tr>\n",
       "    <tr>\n",
       "      <th>17</th>\n",
       "      <td>9:37:18 PM</td>\n",
       "      <td>9:42:14 AM</td>\n",
       "      <td>3:39:46 AM</td>\n",
       "      <td>12:04:56</td>\n",
       "      <td>9:11:19 PM</td>\n",
       "      <td>10:08:13 AM</td>\n",
       "      <td>8:40:51 PM</td>\n",
       "      <td>10:38:41 AM</td>\n",
       "      <td>8:10:00 PM</td>\n",
       "      <td>11:09:32 AM</td>\n",
       "    </tr>\n",
       "    <tr>\n",
       "      <th>18</th>\n",
       "      <td>9:35:48 PM</td>\n",
       "      <td>9:43:09 AM</td>\n",
       "      <td>3:39:28 AM</td>\n",
       "      <td>12:07:21</td>\n",
       "      <td>9:09:48 PM</td>\n",
       "      <td>10:09:09 AM</td>\n",
       "      <td>8:39:19 PM</td>\n",
       "      <td>10:39:38 AM</td>\n",
       "      <td>8:08:24 PM</td>\n",
       "      <td>11:10:33 AM</td>\n",
       "    </tr>\n",
       "    <tr>\n",
       "      <th>19</th>\n",
       "      <td>9:34:17 PM</td>\n",
       "      <td>9:44:04 AM</td>\n",
       "      <td>3:39:11 AM</td>\n",
       "      <td>12:09:47</td>\n",
       "      <td>9:08:16 PM</td>\n",
       "      <td>10:10:05 AM</td>\n",
       "      <td>8:37:45 PM</td>\n",
       "      <td>10:40:36 AM</td>\n",
       "      <td>8:06:47 PM</td>\n",
       "      <td>11:11:34 AM</td>\n",
       "    </tr>\n",
       "    <tr>\n",
       "      <th>20</th>\n",
       "      <td>9:32:46 PM</td>\n",
       "      <td>9:44:59 AM</td>\n",
       "      <td>3:38:53 AM</td>\n",
       "      <td>12:12:13</td>\n",
       "      <td>9:06:45 PM</td>\n",
       "      <td>10:11:01 AM</td>\n",
       "      <td>8:36:12 PM</td>\n",
       "      <td>10:41:34 AM</td>\n",
       "      <td>8:05:10 PM</td>\n",
       "      <td>11:12:36 AM</td>\n",
       "    </tr>\n",
       "    <tr>\n",
       "      <th>21</th>\n",
       "      <td>9:31:16 PM</td>\n",
       "      <td>9:45:54 AM</td>\n",
       "      <td>3:38:35 AM</td>\n",
       "      <td>12:14:38</td>\n",
       "      <td>9:05:13 PM</td>\n",
       "      <td>10:11:56 AM</td>\n",
       "      <td>8:34:38 PM</td>\n",
       "      <td>10:42:32 AM</td>\n",
       "      <td>8:03:32 PM</td>\n",
       "      <td>11:13:38 AM</td>\n",
       "    </tr>\n",
       "    <tr>\n",
       "      <th>22</th>\n",
       "      <td>9:29:45 PM</td>\n",
       "      <td>9:46:49 AM</td>\n",
       "      <td>3:38:17 AM</td>\n",
       "      <td>12:17:04</td>\n",
       "      <td>9:03:42 PM</td>\n",
       "      <td>10:12:52 AM</td>\n",
       "      <td>8:33:04 PM</td>\n",
       "      <td>10:43:30 AM</td>\n",
       "      <td>8:01:53 PM</td>\n",
       "      <td>11:14:40 AM</td>\n",
       "    </tr>\n",
       "    <tr>\n",
       "      <th>23</th>\n",
       "      <td>9:28:14 PM</td>\n",
       "      <td>9:47:43 AM</td>\n",
       "      <td>3:37:59 AM</td>\n",
       "      <td>12:19:29</td>\n",
       "      <td>9:02:10 PM</td>\n",
       "      <td>10:13:48 AM</td>\n",
       "      <td>8:31:29 PM</td>\n",
       "      <td>10:44:28 AM</td>\n",
       "      <td>8:00:15 PM</td>\n",
       "      <td>11:15:43 AM</td>\n",
       "    </tr>\n",
       "    <tr>\n",
       "      <th>24</th>\n",
       "      <td>9:26:43 PM</td>\n",
       "      <td>9:48:38 AM</td>\n",
       "      <td>3:37:41 AM</td>\n",
       "      <td>12:21:55</td>\n",
       "      <td>9:00:38 PM</td>\n",
       "      <td>10:14:44 AM</td>\n",
       "      <td>8:29:54 PM</td>\n",
       "      <td>10:45:27 AM</td>\n",
       "      <td>7:58:35 PM</td>\n",
       "      <td>11:16:46 AM</td>\n",
       "    </tr>\n",
       "    <tr>\n",
       "      <th>25</th>\n",
       "      <td>9:25:13 PM</td>\n",
       "      <td>9:49:32 AM</td>\n",
       "      <td>3:37:22 AM</td>\n",
       "      <td>12:24:19</td>\n",
       "      <td>8:59:06 PM</td>\n",
       "      <td>10:15:39 AM</td>\n",
       "      <td>8:28:19 PM</td>\n",
       "      <td>10:46:26 AM</td>\n",
       "      <td>7:56:56 PM</td>\n",
       "      <td>11:17:49 AM</td>\n",
       "    </tr>\n",
       "    <tr>\n",
       "      <th>26</th>\n",
       "      <td>9:23:42 PM</td>\n",
       "      <td>9:50:27 AM</td>\n",
       "      <td>3:37:04 AM</td>\n",
       "      <td>12:26:45</td>\n",
       "      <td>8:57:34 PM</td>\n",
       "      <td>10:16:35 AM</td>\n",
       "      <td>8:26:44 PM</td>\n",
       "      <td>10:47:24 AM</td>\n",
       "      <td>7:55:16 PM</td>\n",
       "      <td>11:18:53 AM</td>\n",
       "    </tr>\n",
       "    <tr>\n",
       "      <th>27</th>\n",
       "      <td>9:22:12 PM</td>\n",
       "      <td>9:51:21 AM</td>\n",
       "      <td>3:36:46 AM</td>\n",
       "      <td>12:29:09</td>\n",
       "      <td>8:56:01 PM</td>\n",
       "      <td>10:17:31 AM</td>\n",
       "      <td>8:25:09 PM</td>\n",
       "      <td>10:48:24 AM</td>\n",
       "      <td>7:53:35 PM</td>\n",
       "      <td>11:19:57 AM</td>\n",
       "    </tr>\n",
       "    <tr>\n",
       "      <th>28</th>\n",
       "      <td>9:20:41 PM</td>\n",
       "      <td>9:52:15 AM</td>\n",
       "      <td>3:36:28 AM</td>\n",
       "      <td>12:31:34</td>\n",
       "      <td>8:54:29 PM</td>\n",
       "      <td>10:18:27 AM</td>\n",
       "      <td>8:23:34 PM</td>\n",
       "      <td>10:49:23 AM</td>\n",
       "      <td>7:51:55 PM</td>\n",
       "      <td>11:21:02 AM</td>\n",
       "    </tr>\n",
       "    <tr>\n",
       "      <th>29</th>\n",
       "      <td>9:19:11 PM</td>\n",
       "      <td>9:53:09 AM</td>\n",
       "      <td>3:36:10 AM</td>\n",
       "      <td>12:33:58</td>\n",
       "      <td>8:52:57 PM</td>\n",
       "      <td>10:19:23 AM</td>\n",
       "      <td>8:21:58 PM</td>\n",
       "      <td>10:50:22 AM</td>\n",
       "      <td>7:50:14 PM</td>\n",
       "      <td>11:22:07 AM</td>\n",
       "    </tr>\n",
       "    <tr>\n",
       "      <th>30</th>\n",
       "      <td>9:17:41 PM</td>\n",
       "      <td>9:54:04 AM</td>\n",
       "      <td>3:35:52 AM</td>\n",
       "      <td>12:36:23</td>\n",
       "      <td>8:51:26 PM</td>\n",
       "      <td>10:20:19 AM</td>\n",
       "      <td>8:20:23 PM</td>\n",
       "      <td>10:51:22 AM</td>\n",
       "      <td>7:48:33 PM</td>\n",
       "      <td>11:23:12 AM</td>\n",
       "    </tr>\n",
       "  </tbody>\n",
       "</table>\n",
       "</div>"
      ],
      "text/plain": [
       "        sunrise      sunset  solar_noon day_length civil_twilight_begin  \\\n",
       "0   10:02:09 PM  9:26:02 AM  3:44:05 AM   11:23:53           9:36:01 PM   \n",
       "1   10:00:45 PM  9:27:01 AM  3:43:53 AM   11:26:16           9:34:38 PM   \n",
       "2    9:59:21 PM  9:28:00 AM  3:43:40 AM   11:28:39           9:33:15 PM   \n",
       "3    9:57:56 PM  9:28:59 AM  3:43:27 AM   11:31:03           9:31:51 PM   \n",
       "4    9:56:30 PM  9:29:57 AM  3:43:14 AM   11:33:27           9:30:27 PM   \n",
       "5    9:55:04 PM  9:30:55 AM  3:43:00 AM   11:35:51           9:29:02 PM   \n",
       "6    9:53:37 PM  9:31:53 AM  3:42:45 AM   11:38:16           9:27:36 PM   \n",
       "7    9:52:10 PM  9:32:51 AM  3:42:30 AM   11:40:41           9:26:09 PM   \n",
       "8    9:50:42 PM  9:33:48 AM  3:42:15 AM   11:43:06           9:24:42 PM   \n",
       "9    9:49:14 PM  9:34:45 AM  3:42:00 AM   11:45:31           9:23:15 PM   \n",
       "10   9:47:46 PM  9:35:42 AM  3:41:44 AM   11:47:56           9:21:47 PM   \n",
       "11   9:46:17 PM  9:36:39 AM  3:41:28 AM   11:50:22           9:20:18 PM   \n",
       "12   9:44:48 PM  9:37:35 AM  3:41:11 AM   11:52:47           9:18:49 PM   \n",
       "13   9:43:18 PM  9:38:31 AM  3:40:55 AM   11:55:13           9:17:20 PM   \n",
       "14   9:41:49 PM  9:39:27 AM  3:40:38 AM   11:57:38           9:15:50 PM   \n",
       "15   9:40:19 PM  9:40:23 AM  3:40:21 AM   12:00:04           9:14:20 PM   \n",
       "16   9:38:48 PM  9:41:19 AM  3:40:03 AM   12:02:31           9:12:49 PM   \n",
       "17   9:37:18 PM  9:42:14 AM  3:39:46 AM   12:04:56           9:11:19 PM   \n",
       "18   9:35:48 PM  9:43:09 AM  3:39:28 AM   12:07:21           9:09:48 PM   \n",
       "19   9:34:17 PM  9:44:04 AM  3:39:11 AM   12:09:47           9:08:16 PM   \n",
       "20   9:32:46 PM  9:44:59 AM  3:38:53 AM   12:12:13           9:06:45 PM   \n",
       "21   9:31:16 PM  9:45:54 AM  3:38:35 AM   12:14:38           9:05:13 PM   \n",
       "22   9:29:45 PM  9:46:49 AM  3:38:17 AM   12:17:04           9:03:42 PM   \n",
       "23   9:28:14 PM  9:47:43 AM  3:37:59 AM   12:19:29           9:02:10 PM   \n",
       "24   9:26:43 PM  9:48:38 AM  3:37:41 AM   12:21:55           9:00:38 PM   \n",
       "25   9:25:13 PM  9:49:32 AM  3:37:22 AM   12:24:19           8:59:06 PM   \n",
       "26   9:23:42 PM  9:50:27 AM  3:37:04 AM   12:26:45           8:57:34 PM   \n",
       "27   9:22:12 PM  9:51:21 AM  3:36:46 AM   12:29:09           8:56:01 PM   \n",
       "28   9:20:41 PM  9:52:15 AM  3:36:28 AM   12:31:34           8:54:29 PM   \n",
       "29   9:19:11 PM  9:53:09 AM  3:36:10 AM   12:33:58           8:52:57 PM   \n",
       "30   9:17:41 PM  9:54:04 AM  3:35:52 AM   12:36:23           8:51:26 PM   \n",
       "\n",
       "   civil_twilight_end nautical_twilight_begin nautical_twilight_end  \\\n",
       "0          9:52:10 AM              9:05:43 PM           10:22:28 AM   \n",
       "1          9:53:08 AM              9:04:21 PM           10:23:25 AM   \n",
       "2          9:54:06 AM              9:02:58 PM           10:24:23 AM   \n",
       "3          9:55:03 AM              9:01:35 PM           10:25:20 AM   \n",
       "4          9:56:01 AM              9:00:10 PM           10:26:17 AM   \n",
       "5          9:56:58 AM              8:58:45 PM           10:27:14 AM   \n",
       "6          9:57:55 AM              8:57:19 PM           10:28:11 AM   \n",
       "7          9:58:51 AM              8:55:53 PM           10:29:08 AM   \n",
       "8          9:59:48 AM              8:54:25 PM           10:30:05 AM   \n",
       "9         10:00:45 AM              8:52:57 PM           10:31:02 AM   \n",
       "10        10:01:41 AM              8:51:28 PM           10:31:59 AM   \n",
       "11        10:02:37 AM              8:49:59 PM           10:32:57 AM   \n",
       "12        10:03:34 AM              8:48:29 PM           10:33:54 AM   \n",
       "13        10:04:30 AM              8:46:59 PM           10:34:51 AM   \n",
       "14        10:05:26 AM              8:45:28 PM           10:35:48 AM   \n",
       "15        10:06:22 AM              8:43:56 PM           10:36:46 AM   \n",
       "16        10:07:18 AM              8:42:24 PM           10:37:43 AM   \n",
       "17        10:08:13 AM              8:40:51 PM           10:38:41 AM   \n",
       "18        10:09:09 AM              8:39:19 PM           10:39:38 AM   \n",
       "19        10:10:05 AM              8:37:45 PM           10:40:36 AM   \n",
       "20        10:11:01 AM              8:36:12 PM           10:41:34 AM   \n",
       "21        10:11:56 AM              8:34:38 PM           10:42:32 AM   \n",
       "22        10:12:52 AM              8:33:04 PM           10:43:30 AM   \n",
       "23        10:13:48 AM              8:31:29 PM           10:44:28 AM   \n",
       "24        10:14:44 AM              8:29:54 PM           10:45:27 AM   \n",
       "25        10:15:39 AM              8:28:19 PM           10:46:26 AM   \n",
       "26        10:16:35 AM              8:26:44 PM           10:47:24 AM   \n",
       "27        10:17:31 AM              8:25:09 PM           10:48:24 AM   \n",
       "28        10:18:27 AM              8:23:34 PM           10:49:23 AM   \n",
       "29        10:19:23 AM              8:21:58 PM           10:50:22 AM   \n",
       "30        10:20:19 AM              8:20:23 PM           10:51:22 AM   \n",
       "\n",
       "   astronomical_twilight_begin astronomical_twilight_end  \n",
       "0                   8:35:25 PM               10:52:46 AM  \n",
       "1                   8:34:03 PM               10:53:44 AM  \n",
       "2                   8:32:39 PM               10:54:42 AM  \n",
       "3                   8:31:14 PM               10:55:40 AM  \n",
       "4                   8:29:49 PM               10:56:39 AM  \n",
       "5                   8:28:22 PM               10:57:37 AM  \n",
       "6                   8:26:55 PM               10:58:36 AM  \n",
       "7                   8:25:26 PM               10:59:34 AM  \n",
       "8                   8:23:57 PM               11:00:33 AM  \n",
       "9                   8:22:27 PM               11:01:32 AM  \n",
       "10                  8:20:56 PM               11:02:31 AM  \n",
       "11                  8:19:25 PM               11:03:31 AM  \n",
       "12                  8:17:53 PM               11:04:30 AM  \n",
       "13                  8:16:19 PM               11:05:30 AM  \n",
       "14                  8:14:46 PM               11:06:30 AM  \n",
       "15                  8:13:11 PM               11:07:30 AM  \n",
       "16                  8:11:36 PM               11:08:31 AM  \n",
       "17                  8:10:00 PM               11:09:32 AM  \n",
       "18                  8:08:24 PM               11:10:33 AM  \n",
       "19                  8:06:47 PM               11:11:34 AM  \n",
       "20                  8:05:10 PM               11:12:36 AM  \n",
       "21                  8:03:32 PM               11:13:38 AM  \n",
       "22                  8:01:53 PM               11:14:40 AM  \n",
       "23                  8:00:15 PM               11:15:43 AM  \n",
       "24                  7:58:35 PM               11:16:46 AM  \n",
       "25                  7:56:56 PM               11:17:49 AM  \n",
       "26                  7:55:16 PM               11:18:53 AM  \n",
       "27                  7:53:35 PM               11:19:57 AM  \n",
       "28                  7:51:55 PM               11:21:02 AM  \n",
       "29                  7:50:14 PM               11:22:07 AM  \n",
       "30                  7:48:33 PM               11:23:12 AM  "
      ]
     },
     "execution_count": 38,
     "metadata": {},
     "output_type": "execute_result"
    }
   ],
   "source": [
    "dates = []\n",
    "\n",
    "for d in range(1, 32):\n",
    "    day = \"2020-03-\" + str(d)\n",
    "    date = by_date(day)\n",
    "    dates.append(date)\n",
    "    \n",
    "    \n",
    "pd.DataFrame(dates)"
   ]
  },
  {
   "cell_type": "code",
   "execution_count": null,
   "metadata": {},
   "outputs": [],
   "source": []
  },
  {
   "cell_type": "code",
   "execution_count": null,
   "metadata": {},
   "outputs": [],
   "source": []
  },
  {
   "cell_type": "code",
   "execution_count": null,
   "metadata": {},
   "outputs": [],
   "source": []
  },
  {
   "cell_type": "code",
   "execution_count": null,
   "metadata": {},
   "outputs": [],
   "source": []
  },
  {
   "cell_type": "code",
   "execution_count": null,
   "metadata": {},
   "outputs": [],
   "source": []
  },
  {
   "cell_type": "code",
   "execution_count": null,
   "metadata": {},
   "outputs": [],
   "source": []
  },
  {
   "cell_type": "code",
   "execution_count": null,
   "metadata": {},
   "outputs": [],
   "source": []
  }
 ],
 "metadata": {
  "kernelspec": {
   "display_name": "Python 3",
   "language": "python",
   "name": "python3"
  },
  "language_info": {
   "codemirror_mode": {
    "name": "ipython",
    "version": 3
   },
   "file_extension": ".py",
   "mimetype": "text/x-python",
   "name": "python",
   "nbconvert_exporter": "python",
   "pygments_lexer": "ipython3",
   "version": "3.7.6"
  }
 },
 "nbformat": 4,
 "nbformat_minor": 4
}
