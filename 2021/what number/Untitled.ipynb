{
 "cells": [
  {
   "cell_type": "code",
   "execution_count": 36,
   "metadata": {},
   "outputs": [
    {
     "name": "stdout",
     "output_type": "stream",
     "text": [
      "과목 : 한국사\n",
      "정답 : 1 ③ 2 ③ 3 ① 4 ⑤ 5 ① 6 ② 7 ③ 8 ④ 9 ③ 10 ④ 11 ① 12 ⑤ 13 ④ 14 ① 15 ① 16 ④ 17 ② 18 ② 19 ⑤ 20 ②\n"
     ]
    }
   ],
   "source": [
    "name = input(\"과목 : \")\n",
    "text = input(\"정답 : \")\n",
    "\n",
    "score(name, text)"
   ]
  },
  {
   "cell_type": "code",
   "execution_count": 13,
   "metadata": {},
   "outputs": [],
   "source": [
    "def score(name, data):\n",
    "    data = data.split()\n",
    "    p = data[::2]\n",
    "    a = data[1::2]\n",
    "\n",
    "    if len(p) != len(a):\n",
    "        print(\"입력 오류\")\n",
    "        return\n",
    "    \n",
    "    f = open(f\"{name}.csv\", \"w\", encoding=\"cp949\")\n",
    "    for n, i in enumerate(p):\n",
    "        if(a[n] == \"①\"):\n",
    "            aa = 1\n",
    "        elif(a[n] == \"②\"):\n",
    "            aa = 2\n",
    "        elif(a[n] == \"③\"):\n",
    "            aa = 3\n",
    "        elif(a[n] == \"④\"):\n",
    "            aa = 4\n",
    "        elif(a[n] == \"⑤\"):\n",
    "            aa = 5\n",
    "\n",
    "\n",
    "\n",
    "        f.write(f\"{i},{aa}\\n\")\n",
    "    f.close()\n"
   ]
  },
  {
   "cell_type": "code",
   "execution_count": 37,
   "metadata": {},
   "outputs": [],
   "source": [
    "import firebase_admin\n",
    "from firebase_admin import credentials\n",
    "from firebase_admin import firestore\n",
    "\n",
    "# Use a service account\n",
    "cred = credentials.Certificate('what-number-96182-9057285568f5.json')\n",
    "firebase_admin.initialize_app(cred)\n",
    "\n",
    "db = firestore.client()"
   ]
  },
  {
   "cell_type": "code",
   "execution_count": 70,
   "metadata": {},
   "outputs": [],
   "source": [
    "import glob\n",
    "\n",
    "\n",
    "for j in range(1, 3):\n",
    "    \n",
    "    f_paths = glob.glob(f\"고{j}/*.csv\")\n",
    "\n",
    "    for f_path in f_paths:\n",
    "        f_name = f_path.split(\"\\\\\")[1]\n",
    "\n",
    "        f = open(f_path, \"r\", encoding=\"cp949\")\n",
    "        data = f.read().split(\"\\n\")\n",
    "        # f.read()\n",
    "\n",
    "        result = {}\n",
    "\n",
    "        for i in data:\n",
    "            if i == \"\":\n",
    "                break\n",
    "\n",
    "            result[f\"{i.split(',')[0]}번\"] = i.split(\",\")[1]\n",
    "\n",
    "        f.close()\n",
    "        \n",
    "        db.collection(str(j)).document(f_name.split(\".\")[0]).set(result)\n",
    "\n",
    "    "
   ]
  }
 ],
 "metadata": {
  "kernelspec": {
   "display_name": "Python 3",
   "language": "python",
   "name": "python3"
  },
  "language_info": {
   "codemirror_mode": {
    "name": "ipython",
    "version": 3
   },
   "file_extension": ".py",
   "mimetype": "text/x-python",
   "name": "python",
   "nbconvert_exporter": "python",
   "pygments_lexer": "ipython3",
   "version": "3.7.6"
  }
 },
 "nbformat": 4,
 "nbformat_minor": 4
}
